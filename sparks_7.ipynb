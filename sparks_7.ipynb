{
  "nbformat": 4,
  "nbformat_minor": 0,
  "metadata": {
    "colab": {
      "provenance": [],
      "collapsed_sections": [
        "N4mCKMVMxATr",
        "RNVjAw5lmkKC",
        "ykfVpIWEUdUe",
        "sWDFrhDOnPDY",
        "ZViZfE74gsLe",
        "Phl6LecLQyyD",
        "92F0cAuqcwCK"
      ],
      "mount_file_id": "1jwBFyMq57MgcMoDeVJSPXg2ojPBhMneX",
      "authorship_tag": "ABX9TyMND3FB+GkciBBlip5PmIKB",
      "include_colab_link": true
    },
    "kernelspec": {
      "name": "python3",
      "display_name": "Python 3"
    },
    "language_info": {
      "name": "python"
    }
  },
  "cells": [
    {
      "cell_type": "markdown",
      "metadata": {
        "id": "view-in-github",
        "colab_type": "text"
      },
      "source": [
        "<a href=\"https://colab.research.google.com/github/souhaklibi/park-foundation/blob/main/sparks_7.ipynb\" target=\"_parent\"><img src=\"https://colab.research.google.com/assets/colab-badge.svg\" alt=\"Open In Colab\"/></a>"
      ]
    },
    {
      "cell_type": "markdown",
      "source": [
        "##New SectionGRIP : The Sparks Foundation Data Science & Business Analytics     GRIP @ The Sparks Foundation\n",
        "    \n",
        "# Task 7 : Stock Market Prediction using Numerical and Textual Analysis\n",
        "Objective: Create a hybrid model for stock price/performance prediction using numerical analysis of historical stock prices, and sentimental analysis of news headlines\n",
        "Level : Advanced\n",
        "\n",
        "Author Name : Klibi Souha\n",
        "\n",
        "Batch : November 2022\n",
        "\n",
        "Programming Language : python\n",
        "\n",
        "Dataset download link : Download historical stock prices from finance.yahoo.com  "
      ],
      "metadata": {
        "id": "5L1qxPW1ilXQ"
      }
    },
    {
      "cell_type": "code",
      "source": [
        "!sudo apt-get update -y"
      ],
      "metadata": {
        "colab": {
          "base_uri": "https://localhost:8080/"
        },
        "id": "KUmtZJno7GoL",
        "outputId": "e1f5666a-61c4-4cc8-8023-3fe9db977d59"
      },
      "execution_count": null,
      "outputs": [
        {
          "output_type": "stream",
          "name": "stdout",
          "text": [
            "\r0% [Working]\r            \rHit:1 http://security.ubuntu.com/ubuntu bionic-security InRelease\n",
            "\r0% [Connecting to archive.ubuntu.com (185.125.190.39)] [Connected to cloud.r-pr\r0% [1 InRelease gpgv 88.7 kB] [Connecting to archive.ubuntu.com (185.125.190.39\r                                                                               \rHit:2 https://cloud.r-project.org/bin/linux/ubuntu bionic-cran40/ InRelease\n",
            "\r0% [1 InRelease gpgv 88.7 kB] [Waiting for headers] [Waiting for headers] [Wait\r                                                                               \rIgn:3 https://developer.download.nvidia.com/compute/machine-learning/repos/ubuntu1804/x86_64  InRelease\n",
            "\r0% [1 InRelease gpgv 88.7 kB] [Waiting for headers] [Waiting for headers] [Wait\r                                                                               \rHit:4 https://developer.download.nvidia.com/compute/cuda/repos/ubuntu1804/x86_64  InRelease\n",
            "\r                                                                               \r0% [1 InRelease gpgv 88.7 kB] [Waiting for headers] [Waiting for headers]\r                                                                         \r0% [Waiting for headers] [Waiting for headers] [Waiting for headers]\r                                                                    \rHit:5 http://archive.ubuntu.com/ubuntu bionic InRelease\n",
            "\r                                                                    \rHit:6 http://ppa.launchpad.net/c2d4u.team/c2d4u4.0+/ubuntu bionic InRelease\n",
            "Hit:7 https://developer.download.nvidia.com/compute/machine-learning/repos/ubuntu1804/x86_64  Release\n",
            "Get:8 http://archive.ubuntu.com/ubuntu bionic-updates InRelease [88.7 kB]\n",
            "Hit:9 http://ppa.launchpad.net/cran/libgit2/ubuntu bionic InRelease\n",
            "Hit:10 http://ppa.launchpad.net/deadsnakes/ppa/ubuntu bionic InRelease\n",
            "Get:11 http://archive.ubuntu.com/ubuntu bionic-backports InRelease [83.3 kB]\n",
            "Hit:12 http://ppa.launchpad.net/graphics-drivers/ppa/ubuntu bionic InRelease\n",
            "Fetched 172 kB in 1s (130 kB/s)\n",
            "Reading package lists... Done\n"
          ]
        }
      ]
    },
    {
      "cell_type": "code",
      "source": [
        "! pip install plotly==5.0.0"
      ],
      "metadata": {
        "colab": {
          "base_uri": "https://localhost:8080/"
        },
        "id": "QpyyP0lECUpd",
        "outputId": "9ad5c1a2-53e1-4782-8529-8cf46816e3d0"
      },
      "execution_count": null,
      "outputs": [
        {
          "output_type": "stream",
          "name": "stdout",
          "text": [
            "Looking in indexes: https://pypi.org/simple, https://us-python.pkg.dev/colab-wheels/public/simple/\n",
            "Requirement already satisfied: plotly==5.0.0 in /usr/local/lib/python3.7/dist-packages (5.0.0)\n",
            "Requirement already satisfied: six in /usr/local/lib/python3.7/dist-packages (from plotly==5.0.0) (1.15.0)\n",
            "Requirement already satisfied: tenacity>=6.2.0 in /usr/local/lib/python3.7/dist-packages (from plotly==5.0.0) (8.1.0)\n"
          ]
        }
      ]
    },
    {
      "cell_type": "code",
      "execution_count": null,
      "metadata": {
        "id": "KSpd_nwpdBTh"
      },
      "outputs": [],
      "source": [
        "import os\n",
        "import pandas as pd\n",
        "import numpy as np\n",
        "import seaborn as sns\n",
        "import matplotlib.pyplot as plt\n",
        "import plotly.express as px\n",
        "import plotly.graph_objects as go\n",
        "import warnings\n",
        "warnings.filterwarnings('ignore')\n",
        "import matplotlib.pyplot as plt\n",
        "from datetime import datetime, timedelta\n",
        "import statsmodels.api as sm\n",
        "from statsmodels.tsa.seasonal import seasonal_decompose\n",
        "import seaborn as sns\n",
        "\n",
        "from statsmodels.tsa.arima_model import ARIMA\n",
        "from statsmodels.tsa.statespace.sarimax import SARIMAX\n",
        "\n",
        "import nltk\n",
        "import re\n",
        "from textblob import TextBlob\n",
        "from nltk.sentiment.vader import SentimentIntensityAnalyzer\n",
        "from sklearn.preprocessing import MinMaxScaler\n",
        "from datetime import datetime\n",
        "from sklearn.metrics import mean_squared_error\n",
        "from sklearn.model_selection import train_test_split\n",
        "from sklearn.ensemble import RandomForestRegressor, AdaBoostRegressor\n",
        "from sklearn.tree import DecisionTreeRegressor\n",
        "import xgboost\n",
        "import lightgbm"
      ]
    },
    {
      "cell_type": "markdown",
      "source": [
        "# *cleaning News Data set*"
      ],
      "metadata": {
        "id": "U9TPe7Rli3rM"
      }
    },
    {
      "cell_type": "code",
      "source": [
        "from google.colab import drive\n",
        "drive.mount('/content/drive')"
      ],
      "metadata": {
        "colab": {
          "base_uri": "https://localhost:8080/"
        },
        "id": "_I-N8is6snfL",
        "outputId": "cc630c2f-12f9-4994-9867-2cb5b130d2d5"
      },
      "execution_count": null,
      "outputs": [
        {
          "output_type": "stream",
          "name": "stdout",
          "text": [
            "Drive already mounted at /content/drive; to attempt to forcibly remount, call drive.mount(\"/content/drive\", force_remount=True).\n"
          ]
        }
      ]
    },
    {
      "cell_type": "code",
      "source": [
        "columns=['Date','Category','News']\n",
        "news=pd.read_csv('/content/drive/MyDrive/sparks/india-news-headlines.csv', delimiter=\",\",names=columns)\n",
        "news"
      ],
      "metadata": {
        "colab": {
          "base_uri": "https://localhost:8080/",
          "height": 424
        },
        "id": "wS_-I26hpPsX",
        "outputId": "f28e1178-1b5f-4fbd-ff30-3168f21b57e2"
      },
      "execution_count": null,
      "outputs": [
        {
          "output_type": "execute_result",
          "data": {
            "text/plain": [
              "                 Date                       Category  \\\n",
              "0        publish_date              headline_category   \n",
              "1            20010102                        unknown   \n",
              "2            20010102                        unknown   \n",
              "3            20010102                        unknown   \n",
              "4            20010102                        unknown   \n",
              "...               ...                            ...   \n",
              "3650966      20220331                  city.srinagar   \n",
              "3650967      20220331  entertainment.hindi.bollywood   \n",
              "3650968      20220331                    city.trichy   \n",
              "3650969      20220331                     city.erode   \n",
              "3650970      20220331                     city.salem   \n",
              "\n",
              "                                                      News  \n",
              "0                                            headline_text  \n",
              "1        Status quo will not be disturbed at Ayodhya; s...  \n",
              "2                      Fissures in Hurriyat over Pak visit  \n",
              "3                    America's unwanted heading for India?  \n",
              "4                       For bigwigs; it is destination Goa  \n",
              "...                                                    ...  \n",
              "3650966  J&K sacks 2 cops; 3 other employees over terro...  \n",
              "3650967  Ranbir Kapoor says 'Rishi Kapoor enjoyed his a...  \n",
              "3650968  As Covid-19 cases drop to nil in southern dist...  \n",
              "3650969  Tamil Nadu sees marginal rise of Covid cases w...  \n",
              "3650970  Tamil Nadu sees marginal rise of Covid cases w...  \n",
              "\n",
              "[3650971 rows x 3 columns]"
            ],
            "text/html": [
              "\n",
              "  <div id=\"df-750cd104-b89f-49c7-b746-830fa07b987a\">\n",
              "    <div class=\"colab-df-container\">\n",
              "      <div>\n",
              "<style scoped>\n",
              "    .dataframe tbody tr th:only-of-type {\n",
              "        vertical-align: middle;\n",
              "    }\n",
              "\n",
              "    .dataframe tbody tr th {\n",
              "        vertical-align: top;\n",
              "    }\n",
              "\n",
              "    .dataframe thead th {\n",
              "        text-align: right;\n",
              "    }\n",
              "</style>\n",
              "<table border=\"1\" class=\"dataframe\">\n",
              "  <thead>\n",
              "    <tr style=\"text-align: right;\">\n",
              "      <th></th>\n",
              "      <th>Date</th>\n",
              "      <th>Category</th>\n",
              "      <th>News</th>\n",
              "    </tr>\n",
              "  </thead>\n",
              "  <tbody>\n",
              "    <tr>\n",
              "      <th>0</th>\n",
              "      <td>publish_date</td>\n",
              "      <td>headline_category</td>\n",
              "      <td>headline_text</td>\n",
              "    </tr>\n",
              "    <tr>\n",
              "      <th>1</th>\n",
              "      <td>20010102</td>\n",
              "      <td>unknown</td>\n",
              "      <td>Status quo will not be disturbed at Ayodhya; s...</td>\n",
              "    </tr>\n",
              "    <tr>\n",
              "      <th>2</th>\n",
              "      <td>20010102</td>\n",
              "      <td>unknown</td>\n",
              "      <td>Fissures in Hurriyat over Pak visit</td>\n",
              "    </tr>\n",
              "    <tr>\n",
              "      <th>3</th>\n",
              "      <td>20010102</td>\n",
              "      <td>unknown</td>\n",
              "      <td>America's unwanted heading for India?</td>\n",
              "    </tr>\n",
              "    <tr>\n",
              "      <th>4</th>\n",
              "      <td>20010102</td>\n",
              "      <td>unknown</td>\n",
              "      <td>For bigwigs; it is destination Goa</td>\n",
              "    </tr>\n",
              "    <tr>\n",
              "      <th>...</th>\n",
              "      <td>...</td>\n",
              "      <td>...</td>\n",
              "      <td>...</td>\n",
              "    </tr>\n",
              "    <tr>\n",
              "      <th>3650966</th>\n",
              "      <td>20220331</td>\n",
              "      <td>city.srinagar</td>\n",
              "      <td>J&amp;K sacks 2 cops; 3 other employees over terro...</td>\n",
              "    </tr>\n",
              "    <tr>\n",
              "      <th>3650967</th>\n",
              "      <td>20220331</td>\n",
              "      <td>entertainment.hindi.bollywood</td>\n",
              "      <td>Ranbir Kapoor says 'Rishi Kapoor enjoyed his a...</td>\n",
              "    </tr>\n",
              "    <tr>\n",
              "      <th>3650968</th>\n",
              "      <td>20220331</td>\n",
              "      <td>city.trichy</td>\n",
              "      <td>As Covid-19 cases drop to nil in southern dist...</td>\n",
              "    </tr>\n",
              "    <tr>\n",
              "      <th>3650969</th>\n",
              "      <td>20220331</td>\n",
              "      <td>city.erode</td>\n",
              "      <td>Tamil Nadu sees marginal rise of Covid cases w...</td>\n",
              "    </tr>\n",
              "    <tr>\n",
              "      <th>3650970</th>\n",
              "      <td>20220331</td>\n",
              "      <td>city.salem</td>\n",
              "      <td>Tamil Nadu sees marginal rise of Covid cases w...</td>\n",
              "    </tr>\n",
              "  </tbody>\n",
              "</table>\n",
              "<p>3650971 rows × 3 columns</p>\n",
              "</div>\n",
              "      <button class=\"colab-df-convert\" onclick=\"convertToInteractive('df-750cd104-b89f-49c7-b746-830fa07b987a')\"\n",
              "              title=\"Convert this dataframe to an interactive table.\"\n",
              "              style=\"display:none;\">\n",
              "        \n",
              "  <svg xmlns=\"http://www.w3.org/2000/svg\" height=\"24px\"viewBox=\"0 0 24 24\"\n",
              "       width=\"24px\">\n",
              "    <path d=\"M0 0h24v24H0V0z\" fill=\"none\"/>\n",
              "    <path d=\"M18.56 5.44l.94 2.06.94-2.06 2.06-.94-2.06-.94-.94-2.06-.94 2.06-2.06.94zm-11 1L8.5 8.5l.94-2.06 2.06-.94-2.06-.94L8.5 2.5l-.94 2.06-2.06.94zm10 10l.94 2.06.94-2.06 2.06-.94-2.06-.94-.94-2.06-.94 2.06-2.06.94z\"/><path d=\"M17.41 7.96l-1.37-1.37c-.4-.4-.92-.59-1.43-.59-.52 0-1.04.2-1.43.59L10.3 9.45l-7.72 7.72c-.78.78-.78 2.05 0 2.83L4 21.41c.39.39.9.59 1.41.59.51 0 1.02-.2 1.41-.59l7.78-7.78 2.81-2.81c.8-.78.8-2.07 0-2.86zM5.41 20L4 18.59l7.72-7.72 1.47 1.35L5.41 20z\"/>\n",
              "  </svg>\n",
              "      </button>\n",
              "      \n",
              "  <style>\n",
              "    .colab-df-container {\n",
              "      display:flex;\n",
              "      flex-wrap:wrap;\n",
              "      gap: 12px;\n",
              "    }\n",
              "\n",
              "    .colab-df-convert {\n",
              "      background-color: #E8F0FE;\n",
              "      border: none;\n",
              "      border-radius: 50%;\n",
              "      cursor: pointer;\n",
              "      display: none;\n",
              "      fill: #1967D2;\n",
              "      height: 32px;\n",
              "      padding: 0 0 0 0;\n",
              "      width: 32px;\n",
              "    }\n",
              "\n",
              "    .colab-df-convert:hover {\n",
              "      background-color: #E2EBFA;\n",
              "      box-shadow: 0px 1px 2px rgba(60, 64, 67, 0.3), 0px 1px 3px 1px rgba(60, 64, 67, 0.15);\n",
              "      fill: #174EA6;\n",
              "    }\n",
              "\n",
              "    [theme=dark] .colab-df-convert {\n",
              "      background-color: #3B4455;\n",
              "      fill: #D2E3FC;\n",
              "    }\n",
              "\n",
              "    [theme=dark] .colab-df-convert:hover {\n",
              "      background-color: #434B5C;\n",
              "      box-shadow: 0px 1px 3px 1px rgba(0, 0, 0, 0.15);\n",
              "      filter: drop-shadow(0px 1px 2px rgba(0, 0, 0, 0.3));\n",
              "      fill: #FFFFFF;\n",
              "    }\n",
              "  </style>\n",
              "\n",
              "      <script>\n",
              "        const buttonEl =\n",
              "          document.querySelector('#df-750cd104-b89f-49c7-b746-830fa07b987a button.colab-df-convert');\n",
              "        buttonEl.style.display =\n",
              "          google.colab.kernel.accessAllowed ? 'block' : 'none';\n",
              "\n",
              "        async function convertToInteractive(key) {\n",
              "          const element = document.querySelector('#df-750cd104-b89f-49c7-b746-830fa07b987a');\n",
              "          const dataTable =\n",
              "            await google.colab.kernel.invokeFunction('convertToInteractive',\n",
              "                                                     [key], {});\n",
              "          if (!dataTable) return;\n",
              "\n",
              "          const docLinkHtml = 'Like what you see? Visit the ' +\n",
              "            '<a target=\"_blank\" href=https://colab.research.google.com/notebooks/data_table.ipynb>data table notebook</a>'\n",
              "            + ' to learn more about interactive tables.';\n",
              "          element.innerHTML = '';\n",
              "          dataTable['output_type'] = 'display_data';\n",
              "          await google.colab.output.renderOutput(dataTable, element);\n",
              "          const docLink = document.createElement('div');\n",
              "          docLink.innerHTML = docLinkHtml;\n",
              "          element.appendChild(docLink);\n",
              "        }\n",
              "      </script>\n",
              "    </div>\n",
              "  </div>\n",
              "  "
            ]
          },
          "metadata": {},
          "execution_count": 145
        }
      ]
    },
    {
      "cell_type": "code",
      "source": [
        "news.info()"
      ],
      "metadata": {
        "colab": {
          "base_uri": "https://localhost:8080/"
        },
        "id": "GtiEkcYGqwWR",
        "outputId": "3f5d4ad5-fe04-4057-e33b-f2dd79a78721"
      },
      "execution_count": null,
      "outputs": [
        {
          "output_type": "stream",
          "name": "stdout",
          "text": [
            "<class 'pandas.core.frame.DataFrame'>\n",
            "RangeIndex: 3650971 entries, 0 to 3650970\n",
            "Data columns (total 3 columns):\n",
            " #   Column    Dtype \n",
            "---  ------    ----- \n",
            " 0   Date      object\n",
            " 1   Category  object\n",
            " 2   News      object\n",
            "dtypes: object(3)\n",
            "memory usage: 83.6+ MB\n"
          ]
        }
      ]
    },
    {
      "cell_type": "code",
      "source": [
        "news.isnull()\n",
        "news.isna()"
      ],
      "metadata": {
        "colab": {
          "base_uri": "https://localhost:8080/",
          "height": 424
        },
        "id": "xm5ov1TT5fOX",
        "outputId": "0818cfe8-e835-44a6-d655-68c5408cc34e"
      },
      "execution_count": null,
      "outputs": [
        {
          "output_type": "execute_result",
          "data": {
            "text/plain": [
              "          Date  Category   News\n",
              "0        False     False  False\n",
              "1        False     False  False\n",
              "2        False     False  False\n",
              "3        False     False  False\n",
              "4        False     False  False\n",
              "...        ...       ...    ...\n",
              "3650966  False     False  False\n",
              "3650967  False     False  False\n",
              "3650968  False     False  False\n",
              "3650969  False     False  False\n",
              "3650970  False     False  False\n",
              "\n",
              "[3650971 rows x 3 columns]"
            ],
            "text/html": [
              "\n",
              "  <div id=\"df-ba57f729-37d6-49c0-9411-9f72f7a4f78f\">\n",
              "    <div class=\"colab-df-container\">\n",
              "      <div>\n",
              "<style scoped>\n",
              "    .dataframe tbody tr th:only-of-type {\n",
              "        vertical-align: middle;\n",
              "    }\n",
              "\n",
              "    .dataframe tbody tr th {\n",
              "        vertical-align: top;\n",
              "    }\n",
              "\n",
              "    .dataframe thead th {\n",
              "        text-align: right;\n",
              "    }\n",
              "</style>\n",
              "<table border=\"1\" class=\"dataframe\">\n",
              "  <thead>\n",
              "    <tr style=\"text-align: right;\">\n",
              "      <th></th>\n",
              "      <th>Date</th>\n",
              "      <th>Category</th>\n",
              "      <th>News</th>\n",
              "    </tr>\n",
              "  </thead>\n",
              "  <tbody>\n",
              "    <tr>\n",
              "      <th>0</th>\n",
              "      <td>False</td>\n",
              "      <td>False</td>\n",
              "      <td>False</td>\n",
              "    </tr>\n",
              "    <tr>\n",
              "      <th>1</th>\n",
              "      <td>False</td>\n",
              "      <td>False</td>\n",
              "      <td>False</td>\n",
              "    </tr>\n",
              "    <tr>\n",
              "      <th>2</th>\n",
              "      <td>False</td>\n",
              "      <td>False</td>\n",
              "      <td>False</td>\n",
              "    </tr>\n",
              "    <tr>\n",
              "      <th>3</th>\n",
              "      <td>False</td>\n",
              "      <td>False</td>\n",
              "      <td>False</td>\n",
              "    </tr>\n",
              "    <tr>\n",
              "      <th>4</th>\n",
              "      <td>False</td>\n",
              "      <td>False</td>\n",
              "      <td>False</td>\n",
              "    </tr>\n",
              "    <tr>\n",
              "      <th>...</th>\n",
              "      <td>...</td>\n",
              "      <td>...</td>\n",
              "      <td>...</td>\n",
              "    </tr>\n",
              "    <tr>\n",
              "      <th>3650966</th>\n",
              "      <td>False</td>\n",
              "      <td>False</td>\n",
              "      <td>False</td>\n",
              "    </tr>\n",
              "    <tr>\n",
              "      <th>3650967</th>\n",
              "      <td>False</td>\n",
              "      <td>False</td>\n",
              "      <td>False</td>\n",
              "    </tr>\n",
              "    <tr>\n",
              "      <th>3650968</th>\n",
              "      <td>False</td>\n",
              "      <td>False</td>\n",
              "      <td>False</td>\n",
              "    </tr>\n",
              "    <tr>\n",
              "      <th>3650969</th>\n",
              "      <td>False</td>\n",
              "      <td>False</td>\n",
              "      <td>False</td>\n",
              "    </tr>\n",
              "    <tr>\n",
              "      <th>3650970</th>\n",
              "      <td>False</td>\n",
              "      <td>False</td>\n",
              "      <td>False</td>\n",
              "    </tr>\n",
              "  </tbody>\n",
              "</table>\n",
              "<p>3650971 rows × 3 columns</p>\n",
              "</div>\n",
              "      <button class=\"colab-df-convert\" onclick=\"convertToInteractive('df-ba57f729-37d6-49c0-9411-9f72f7a4f78f')\"\n",
              "              title=\"Convert this dataframe to an interactive table.\"\n",
              "              style=\"display:none;\">\n",
              "        \n",
              "  <svg xmlns=\"http://www.w3.org/2000/svg\" height=\"24px\"viewBox=\"0 0 24 24\"\n",
              "       width=\"24px\">\n",
              "    <path d=\"M0 0h24v24H0V0z\" fill=\"none\"/>\n",
              "    <path d=\"M18.56 5.44l.94 2.06.94-2.06 2.06-.94-2.06-.94-.94-2.06-.94 2.06-2.06.94zm-11 1L8.5 8.5l.94-2.06 2.06-.94-2.06-.94L8.5 2.5l-.94 2.06-2.06.94zm10 10l.94 2.06.94-2.06 2.06-.94-2.06-.94-.94-2.06-.94 2.06-2.06.94z\"/><path d=\"M17.41 7.96l-1.37-1.37c-.4-.4-.92-.59-1.43-.59-.52 0-1.04.2-1.43.59L10.3 9.45l-7.72 7.72c-.78.78-.78 2.05 0 2.83L4 21.41c.39.39.9.59 1.41.59.51 0 1.02-.2 1.41-.59l7.78-7.78 2.81-2.81c.8-.78.8-2.07 0-2.86zM5.41 20L4 18.59l7.72-7.72 1.47 1.35L5.41 20z\"/>\n",
              "  </svg>\n",
              "      </button>\n",
              "      \n",
              "  <style>\n",
              "    .colab-df-container {\n",
              "      display:flex;\n",
              "      flex-wrap:wrap;\n",
              "      gap: 12px;\n",
              "    }\n",
              "\n",
              "    .colab-df-convert {\n",
              "      background-color: #E8F0FE;\n",
              "      border: none;\n",
              "      border-radius: 50%;\n",
              "      cursor: pointer;\n",
              "      display: none;\n",
              "      fill: #1967D2;\n",
              "      height: 32px;\n",
              "      padding: 0 0 0 0;\n",
              "      width: 32px;\n",
              "    }\n",
              "\n",
              "    .colab-df-convert:hover {\n",
              "      background-color: #E2EBFA;\n",
              "      box-shadow: 0px 1px 2px rgba(60, 64, 67, 0.3), 0px 1px 3px 1px rgba(60, 64, 67, 0.15);\n",
              "      fill: #174EA6;\n",
              "    }\n",
              "\n",
              "    [theme=dark] .colab-df-convert {\n",
              "      background-color: #3B4455;\n",
              "      fill: #D2E3FC;\n",
              "    }\n",
              "\n",
              "    [theme=dark] .colab-df-convert:hover {\n",
              "      background-color: #434B5C;\n",
              "      box-shadow: 0px 1px 3px 1px rgba(0, 0, 0, 0.15);\n",
              "      filter: drop-shadow(0px 1px 2px rgba(0, 0, 0, 0.3));\n",
              "      fill: #FFFFFF;\n",
              "    }\n",
              "  </style>\n",
              "\n",
              "      <script>\n",
              "        const buttonEl =\n",
              "          document.querySelector('#df-ba57f729-37d6-49c0-9411-9f72f7a4f78f button.colab-df-convert');\n",
              "        buttonEl.style.display =\n",
              "          google.colab.kernel.accessAllowed ? 'block' : 'none';\n",
              "\n",
              "        async function convertToInteractive(key) {\n",
              "          const element = document.querySelector('#df-ba57f729-37d6-49c0-9411-9f72f7a4f78f');\n",
              "          const dataTable =\n",
              "            await google.colab.kernel.invokeFunction('convertToInteractive',\n",
              "                                                     [key], {});\n",
              "          if (!dataTable) return;\n",
              "\n",
              "          const docLinkHtml = 'Like what you see? Visit the ' +\n",
              "            '<a target=\"_blank\" href=https://colab.research.google.com/notebooks/data_table.ipynb>data table notebook</a>'\n",
              "            + ' to learn more about interactive tables.';\n",
              "          element.innerHTML = '';\n",
              "          dataTable['output_type'] = 'display_data';\n",
              "          await google.colab.output.renderOutput(dataTable, element);\n",
              "          const docLink = document.createElement('div');\n",
              "          docLink.innerHTML = docLinkHtml;\n",
              "          element.appendChild(docLink);\n",
              "        }\n",
              "      </script>\n",
              "    </div>\n",
              "  </div>\n",
              "  "
            ]
          },
          "metadata": {},
          "execution_count": 147
        }
      ]
    },
    {
      "cell_type": "code",
      "source": [
        "news.drop(0, inplace=True)\n",
        "news.drop('Category', axis = 1, inplace=True)\n",
        "news['Date'] = pd.to_datetime(news['Date'], format='%Y%m%d').astype('datetime64[ns]')"
      ],
      "metadata": {
        "id": "8N6TbsmY5mHK"
      },
      "execution_count": null,
      "outputs": []
    },
    {
      "cell_type": "code",
      "source": [
        "# grouping the news headlines according to 'Date'\n",
        "news= news.groupby(['Date'])['News'].apply(lambda x: ','.join(x)).reset_index()\n",
        "\n",
        "# setting column 'Date' as the index column\n",
        "news.set_index('Date', inplace= True)\n",
        "\n",
        "# sorting the data according to the index i.e 'Date'\n",
        "news= news.sort_index(ascending=True, axis=0)\n",
        "news"
      ],
      "metadata": {
        "colab": {
          "base_uri": "https://localhost:8080/",
          "height": 455
        },
        "id": "Al5aQ-ZBtIKn",
        "outputId": "0bf84e6e-d87f-4a08-a03c-97786bda1e9d"
      },
      "execution_count": null,
      "outputs": [
        {
          "output_type": "execute_result",
          "data": {
            "text/plain": [
              "                                                         News\n",
              "Date                                                         \n",
              "2001-01-02  Status quo will not be disturbed at Ayodhya; s...\n",
              "2001-01-03  Powerless north India gropes in the dark,Think...\n",
              "2001-01-04  The string that pulled Stephen Hawking to Indi...\n",
              "2001-01-05  Light combat craft takes India into club class...\n",
              "2001-01-06  Light combat craft takes India into club class...\n",
              "...                                                       ...\n",
              "2022-03-27  Playing a dead man in Body God meant sitting i...\n",
              "2022-03-28  As fashion becomes democratic; demand for styl...\n",
              "2022-03-29  Bobby Deol: Like my dad; I hope to be working ...\n",
              "2022-03-30  I will not give in to trends: Dossmode,The tim...\n",
              "2022-03-31  Shashank goes back to coastal Karnataka and Mo...\n",
              "\n",
              "[7717 rows x 1 columns]"
            ],
            "text/html": [
              "\n",
              "  <div id=\"df-553a7569-ba0c-4b1c-82f9-3f43dbd47d97\">\n",
              "    <div class=\"colab-df-container\">\n",
              "      <div>\n",
              "<style scoped>\n",
              "    .dataframe tbody tr th:only-of-type {\n",
              "        vertical-align: middle;\n",
              "    }\n",
              "\n",
              "    .dataframe tbody tr th {\n",
              "        vertical-align: top;\n",
              "    }\n",
              "\n",
              "    .dataframe thead th {\n",
              "        text-align: right;\n",
              "    }\n",
              "</style>\n",
              "<table border=\"1\" class=\"dataframe\">\n",
              "  <thead>\n",
              "    <tr style=\"text-align: right;\">\n",
              "      <th></th>\n",
              "      <th>News</th>\n",
              "    </tr>\n",
              "    <tr>\n",
              "      <th>Date</th>\n",
              "      <th></th>\n",
              "    </tr>\n",
              "  </thead>\n",
              "  <tbody>\n",
              "    <tr>\n",
              "      <th>2001-01-02</th>\n",
              "      <td>Status quo will not be disturbed at Ayodhya; s...</td>\n",
              "    </tr>\n",
              "    <tr>\n",
              "      <th>2001-01-03</th>\n",
              "      <td>Powerless north India gropes in the dark,Think...</td>\n",
              "    </tr>\n",
              "    <tr>\n",
              "      <th>2001-01-04</th>\n",
              "      <td>The string that pulled Stephen Hawking to Indi...</td>\n",
              "    </tr>\n",
              "    <tr>\n",
              "      <th>2001-01-05</th>\n",
              "      <td>Light combat craft takes India into club class...</td>\n",
              "    </tr>\n",
              "    <tr>\n",
              "      <th>2001-01-06</th>\n",
              "      <td>Light combat craft takes India into club class...</td>\n",
              "    </tr>\n",
              "    <tr>\n",
              "      <th>...</th>\n",
              "      <td>...</td>\n",
              "    </tr>\n",
              "    <tr>\n",
              "      <th>2022-03-27</th>\n",
              "      <td>Playing a dead man in Body God meant sitting i...</td>\n",
              "    </tr>\n",
              "    <tr>\n",
              "      <th>2022-03-28</th>\n",
              "      <td>As fashion becomes democratic; demand for styl...</td>\n",
              "    </tr>\n",
              "    <tr>\n",
              "      <th>2022-03-29</th>\n",
              "      <td>Bobby Deol: Like my dad; I hope to be working ...</td>\n",
              "    </tr>\n",
              "    <tr>\n",
              "      <th>2022-03-30</th>\n",
              "      <td>I will not give in to trends: Dossmode,The tim...</td>\n",
              "    </tr>\n",
              "    <tr>\n",
              "      <th>2022-03-31</th>\n",
              "      <td>Shashank goes back to coastal Karnataka and Mo...</td>\n",
              "    </tr>\n",
              "  </tbody>\n",
              "</table>\n",
              "<p>7717 rows × 1 columns</p>\n",
              "</div>\n",
              "      <button class=\"colab-df-convert\" onclick=\"convertToInteractive('df-553a7569-ba0c-4b1c-82f9-3f43dbd47d97')\"\n",
              "              title=\"Convert this dataframe to an interactive table.\"\n",
              "              style=\"display:none;\">\n",
              "        \n",
              "  <svg xmlns=\"http://www.w3.org/2000/svg\" height=\"24px\"viewBox=\"0 0 24 24\"\n",
              "       width=\"24px\">\n",
              "    <path d=\"M0 0h24v24H0V0z\" fill=\"none\"/>\n",
              "    <path d=\"M18.56 5.44l.94 2.06.94-2.06 2.06-.94-2.06-.94-.94-2.06-.94 2.06-2.06.94zm-11 1L8.5 8.5l.94-2.06 2.06-.94-2.06-.94L8.5 2.5l-.94 2.06-2.06.94zm10 10l.94 2.06.94-2.06 2.06-.94-2.06-.94-.94-2.06-.94 2.06-2.06.94z\"/><path d=\"M17.41 7.96l-1.37-1.37c-.4-.4-.92-.59-1.43-.59-.52 0-1.04.2-1.43.59L10.3 9.45l-7.72 7.72c-.78.78-.78 2.05 0 2.83L4 21.41c.39.39.9.59 1.41.59.51 0 1.02-.2 1.41-.59l7.78-7.78 2.81-2.81c.8-.78.8-2.07 0-2.86zM5.41 20L4 18.59l7.72-7.72 1.47 1.35L5.41 20z\"/>\n",
              "  </svg>\n",
              "      </button>\n",
              "      \n",
              "  <style>\n",
              "    .colab-df-container {\n",
              "      display:flex;\n",
              "      flex-wrap:wrap;\n",
              "      gap: 12px;\n",
              "    }\n",
              "\n",
              "    .colab-df-convert {\n",
              "      background-color: #E8F0FE;\n",
              "      border: none;\n",
              "      border-radius: 50%;\n",
              "      cursor: pointer;\n",
              "      display: none;\n",
              "      fill: #1967D2;\n",
              "      height: 32px;\n",
              "      padding: 0 0 0 0;\n",
              "      width: 32px;\n",
              "    }\n",
              "\n",
              "    .colab-df-convert:hover {\n",
              "      background-color: #E2EBFA;\n",
              "      box-shadow: 0px 1px 2px rgba(60, 64, 67, 0.3), 0px 1px 3px 1px rgba(60, 64, 67, 0.15);\n",
              "      fill: #174EA6;\n",
              "    }\n",
              "\n",
              "    [theme=dark] .colab-df-convert {\n",
              "      background-color: #3B4455;\n",
              "      fill: #D2E3FC;\n",
              "    }\n",
              "\n",
              "    [theme=dark] .colab-df-convert:hover {\n",
              "      background-color: #434B5C;\n",
              "      box-shadow: 0px 1px 3px 1px rgba(0, 0, 0, 0.15);\n",
              "      filter: drop-shadow(0px 1px 2px rgba(0, 0, 0, 0.3));\n",
              "      fill: #FFFFFF;\n",
              "    }\n",
              "  </style>\n",
              "\n",
              "      <script>\n",
              "        const buttonEl =\n",
              "          document.querySelector('#df-553a7569-ba0c-4b1c-82f9-3f43dbd47d97 button.colab-df-convert');\n",
              "        buttonEl.style.display =\n",
              "          google.colab.kernel.accessAllowed ? 'block' : 'none';\n",
              "\n",
              "        async function convertToInteractive(key) {\n",
              "          const element = document.querySelector('#df-553a7569-ba0c-4b1c-82f9-3f43dbd47d97');\n",
              "          const dataTable =\n",
              "            await google.colab.kernel.invokeFunction('convertToInteractive',\n",
              "                                                     [key], {});\n",
              "          if (!dataTable) return;\n",
              "\n",
              "          const docLinkHtml = 'Like what you see? Visit the ' +\n",
              "            '<a target=\"_blank\" href=https://colab.research.google.com/notebooks/data_table.ipynb>data table notebook</a>'\n",
              "            + ' to learn more about interactive tables.';\n",
              "          element.innerHTML = '';\n",
              "          dataTable['output_type'] = 'display_data';\n",
              "          await google.colab.output.renderOutput(dataTable, element);\n",
              "          const docLink = document.createElement('div');\n",
              "          docLink.innerHTML = docLinkHtml;\n",
              "          element.appendChild(docLink);\n",
              "        }\n",
              "      </script>\n",
              "    </div>\n",
              "  </div>\n",
              "  "
            ]
          },
          "metadata": {},
          "execution_count": 149
        }
      ]
    },
    {
      "cell_type": "markdown",
      "source": [
        "# *stocks data_set*"
      ],
      "metadata": {
        "id": "yeTuG6lg8PJM"
      }
    },
    {
      "cell_type": "code",
      "source": [
        "df_prices = pd.read_csv('https://raw.githubusercontent.com/Syedmukarram951/Spark--Assignment-7/main/%5EBSESN.csv')\n",
        "df_prices.info()"
      ],
      "metadata": {
        "colab": {
          "base_uri": "https://localhost:8080/"
        },
        "id": "1kzxd5VXk3dJ",
        "outputId": "df51b0fc-9ff5-404d-efd0-cf0103016785"
      },
      "execution_count": null,
      "outputs": [
        {
          "output_type": "stream",
          "name": "stdout",
          "text": [
            "<class 'pandas.core.frame.DataFrame'>\n",
            "RangeIndex: 252 entries, 0 to 251\n",
            "Data columns (total 7 columns):\n",
            " #   Column     Non-Null Count  Dtype  \n",
            "---  ------     --------------  -----  \n",
            " 0   Date       252 non-null    object \n",
            " 1   Open       250 non-null    float64\n",
            " 2   High       250 non-null    float64\n",
            " 3   Low        250 non-null    float64\n",
            " 4   Close      250 non-null    float64\n",
            " 5   Adj Close  250 non-null    float64\n",
            " 6   Volume     250 non-null    float64\n",
            "dtypes: float64(6), object(1)\n",
            "memory usage: 13.9+ KB\n"
          ]
        }
      ]
    },
    {
      "cell_type": "code",
      "source": [
        "df_prices['Date'] = pd.to_datetime(df_prices['Date']).astype('datetime64[ns]')"
      ],
      "metadata": {
        "id": "oxG3xhA5p3TQ"
      },
      "execution_count": null,
      "outputs": []
    },
    {
      "cell_type": "code",
      "source": [
        "df_prices.dropna(inplace=True)\n",
        "df_prices.describe()"
      ],
      "metadata": {
        "colab": {
          "base_uri": "https://localhost:8080/",
          "height": 300
        },
        "id": "-gaxuBLoAMIj",
        "outputId": "86cdd93d-9405-4893-c174-67fdace2545c"
      },
      "execution_count": null,
      "outputs": [
        {
          "output_type": "execute_result",
          "data": {
            "text/plain": [
              "               Open          High           Low         Close     Adj Close  \\\n",
              "count    250.000000    250.000000    250.000000    250.000000    250.000000   \n",
              "mean   37804.237375  38071.182859  37422.826992  37745.454117  37745.454117   \n",
              "std     4507.985769   4380.974060   4647.212947   4535.304336   4535.304336   \n",
              "min    26499.810547  27462.869141  25638.900391  25981.240234  25981.240234   \n",
              "25%    34369.659179  34779.932618  33975.389648  34257.097656  34257.097656   \n",
              "50%    38489.480469  38750.359375  38234.869140  38425.974610  38425.974610   \n",
              "75%    41179.222656  41376.482422  41023.923828  41135.233399  41135.233399   \n",
              "max    46774.320313  46992.570313  46627.601563  46890.339844  46890.339844   \n",
              "\n",
              "              Volume  \n",
              "count     250.000000  \n",
              "mean    19134.000000  \n",
              "std     16540.261333  \n",
              "min         0.000000  \n",
              "25%     13125.000000  \n",
              "50%     17000.000000  \n",
              "75%     21075.000000  \n",
              "max    188300.000000  "
            ],
            "text/html": [
              "\n",
              "  <div id=\"df-f203d96e-1ee5-4b19-896c-7fc133cfa1ff\">\n",
              "    <div class=\"colab-df-container\">\n",
              "      <div>\n",
              "<style scoped>\n",
              "    .dataframe tbody tr th:only-of-type {\n",
              "        vertical-align: middle;\n",
              "    }\n",
              "\n",
              "    .dataframe tbody tr th {\n",
              "        vertical-align: top;\n",
              "    }\n",
              "\n",
              "    .dataframe thead th {\n",
              "        text-align: right;\n",
              "    }\n",
              "</style>\n",
              "<table border=\"1\" class=\"dataframe\">\n",
              "  <thead>\n",
              "    <tr style=\"text-align: right;\">\n",
              "      <th></th>\n",
              "      <th>Open</th>\n",
              "      <th>High</th>\n",
              "      <th>Low</th>\n",
              "      <th>Close</th>\n",
              "      <th>Adj Close</th>\n",
              "      <th>Volume</th>\n",
              "    </tr>\n",
              "  </thead>\n",
              "  <tbody>\n",
              "    <tr>\n",
              "      <th>count</th>\n",
              "      <td>250.000000</td>\n",
              "      <td>250.000000</td>\n",
              "      <td>250.000000</td>\n",
              "      <td>250.000000</td>\n",
              "      <td>250.000000</td>\n",
              "      <td>250.000000</td>\n",
              "    </tr>\n",
              "    <tr>\n",
              "      <th>mean</th>\n",
              "      <td>37804.237375</td>\n",
              "      <td>38071.182859</td>\n",
              "      <td>37422.826992</td>\n",
              "      <td>37745.454117</td>\n",
              "      <td>37745.454117</td>\n",
              "      <td>19134.000000</td>\n",
              "    </tr>\n",
              "    <tr>\n",
              "      <th>std</th>\n",
              "      <td>4507.985769</td>\n",
              "      <td>4380.974060</td>\n",
              "      <td>4647.212947</td>\n",
              "      <td>4535.304336</td>\n",
              "      <td>4535.304336</td>\n",
              "      <td>16540.261333</td>\n",
              "    </tr>\n",
              "    <tr>\n",
              "      <th>min</th>\n",
              "      <td>26499.810547</td>\n",
              "      <td>27462.869141</td>\n",
              "      <td>25638.900391</td>\n",
              "      <td>25981.240234</td>\n",
              "      <td>25981.240234</td>\n",
              "      <td>0.000000</td>\n",
              "    </tr>\n",
              "    <tr>\n",
              "      <th>25%</th>\n",
              "      <td>34369.659179</td>\n",
              "      <td>34779.932618</td>\n",
              "      <td>33975.389648</td>\n",
              "      <td>34257.097656</td>\n",
              "      <td>34257.097656</td>\n",
              "      <td>13125.000000</td>\n",
              "    </tr>\n",
              "    <tr>\n",
              "      <th>50%</th>\n",
              "      <td>38489.480469</td>\n",
              "      <td>38750.359375</td>\n",
              "      <td>38234.869140</td>\n",
              "      <td>38425.974610</td>\n",
              "      <td>38425.974610</td>\n",
              "      <td>17000.000000</td>\n",
              "    </tr>\n",
              "    <tr>\n",
              "      <th>75%</th>\n",
              "      <td>41179.222656</td>\n",
              "      <td>41376.482422</td>\n",
              "      <td>41023.923828</td>\n",
              "      <td>41135.233399</td>\n",
              "      <td>41135.233399</td>\n",
              "      <td>21075.000000</td>\n",
              "    </tr>\n",
              "    <tr>\n",
              "      <th>max</th>\n",
              "      <td>46774.320313</td>\n",
              "      <td>46992.570313</td>\n",
              "      <td>46627.601563</td>\n",
              "      <td>46890.339844</td>\n",
              "      <td>46890.339844</td>\n",
              "      <td>188300.000000</td>\n",
              "    </tr>\n",
              "  </tbody>\n",
              "</table>\n",
              "</div>\n",
              "      <button class=\"colab-df-convert\" onclick=\"convertToInteractive('df-f203d96e-1ee5-4b19-896c-7fc133cfa1ff')\"\n",
              "              title=\"Convert this dataframe to an interactive table.\"\n",
              "              style=\"display:none;\">\n",
              "        \n",
              "  <svg xmlns=\"http://www.w3.org/2000/svg\" height=\"24px\"viewBox=\"0 0 24 24\"\n",
              "       width=\"24px\">\n",
              "    <path d=\"M0 0h24v24H0V0z\" fill=\"none\"/>\n",
              "    <path d=\"M18.56 5.44l.94 2.06.94-2.06 2.06-.94-2.06-.94-.94-2.06-.94 2.06-2.06.94zm-11 1L8.5 8.5l.94-2.06 2.06-.94-2.06-.94L8.5 2.5l-.94 2.06-2.06.94zm10 10l.94 2.06.94-2.06 2.06-.94-2.06-.94-.94-2.06-.94 2.06-2.06.94z\"/><path d=\"M17.41 7.96l-1.37-1.37c-.4-.4-.92-.59-1.43-.59-.52 0-1.04.2-1.43.59L10.3 9.45l-7.72 7.72c-.78.78-.78 2.05 0 2.83L4 21.41c.39.39.9.59 1.41.59.51 0 1.02-.2 1.41-.59l7.78-7.78 2.81-2.81c.8-.78.8-2.07 0-2.86zM5.41 20L4 18.59l7.72-7.72 1.47 1.35L5.41 20z\"/>\n",
              "  </svg>\n",
              "      </button>\n",
              "      \n",
              "  <style>\n",
              "    .colab-df-container {\n",
              "      display:flex;\n",
              "      flex-wrap:wrap;\n",
              "      gap: 12px;\n",
              "    }\n",
              "\n",
              "    .colab-df-convert {\n",
              "      background-color: #E8F0FE;\n",
              "      border: none;\n",
              "      border-radius: 50%;\n",
              "      cursor: pointer;\n",
              "      display: none;\n",
              "      fill: #1967D2;\n",
              "      height: 32px;\n",
              "      padding: 0 0 0 0;\n",
              "      width: 32px;\n",
              "    }\n",
              "\n",
              "    .colab-df-convert:hover {\n",
              "      background-color: #E2EBFA;\n",
              "      box-shadow: 0px 1px 2px rgba(60, 64, 67, 0.3), 0px 1px 3px 1px rgba(60, 64, 67, 0.15);\n",
              "      fill: #174EA6;\n",
              "    }\n",
              "\n",
              "    [theme=dark] .colab-df-convert {\n",
              "      background-color: #3B4455;\n",
              "      fill: #D2E3FC;\n",
              "    }\n",
              "\n",
              "    [theme=dark] .colab-df-convert:hover {\n",
              "      background-color: #434B5C;\n",
              "      box-shadow: 0px 1px 3px 1px rgba(0, 0, 0, 0.15);\n",
              "      filter: drop-shadow(0px 1px 2px rgba(0, 0, 0, 0.3));\n",
              "      fill: #FFFFFF;\n",
              "    }\n",
              "  </style>\n",
              "\n",
              "      <script>\n",
              "        const buttonEl =\n",
              "          document.querySelector('#df-f203d96e-1ee5-4b19-896c-7fc133cfa1ff button.colab-df-convert');\n",
              "        buttonEl.style.display =\n",
              "          google.colab.kernel.accessAllowed ? 'block' : 'none';\n",
              "\n",
              "        async function convertToInteractive(key) {\n",
              "          const element = document.querySelector('#df-f203d96e-1ee5-4b19-896c-7fc133cfa1ff');\n",
              "          const dataTable =\n",
              "            await google.colab.kernel.invokeFunction('convertToInteractive',\n",
              "                                                     [key], {});\n",
              "          if (!dataTable) return;\n",
              "\n",
              "          const docLinkHtml = 'Like what you see? Visit the ' +\n",
              "            '<a target=\"_blank\" href=https://colab.research.google.com/notebooks/data_table.ipynb>data table notebook</a>'\n",
              "            + ' to learn more about interactive tables.';\n",
              "          element.innerHTML = '';\n",
              "          dataTable['output_type'] = 'display_data';\n",
              "          await google.colab.output.renderOutput(dataTable, element);\n",
              "          const docLink = document.createElement('div');\n",
              "          docLink.innerHTML = docLinkHtml;\n",
              "          element.appendChild(docLink);\n",
              "        }\n",
              "      </script>\n",
              "    </div>\n",
              "  </div>\n",
              "  "
            ]
          },
          "metadata": {},
          "execution_count": 152
        }
      ]
    },
    {
      "cell_type": "markdown",
      "source": [
        "## *Stock Data Analysis*"
      ],
      "metadata": {
        "id": "N4mCKMVMxATr"
      }
    },
    {
      "cell_type": "code",
      "source": [
        "df_prices['year'] = pd.DatetimeIndex(df_prices['Date']).year\n",
        "df_prices['Month']=(df_prices['Date']).dt.strftime('%m').astype(int)"
      ],
      "metadata": {
        "id": "TulXulLrtz5W"
      },
      "execution_count": null,
      "outputs": []
    },
    {
      "cell_type": "code",
      "source": [
        "fig = px.box(df_prices, x='Month', y=\"Close\")\n",
        "fig.show()"
      ],
      "metadata": {
        "colab": {
          "base_uri": "https://localhost:8080/",
          "height": 542
        },
        "id": "4rK1N_R6sAqD",
        "outputId": "00ce0387-aa69-4ef3-df76-e14b52058a8d"
      },
      "execution_count": null,
      "outputs": [
        {
          "output_type": "display_data",
          "data": {
            "text/html": [
              "<html>\n",
              "<head><meta charset=\"utf-8\" /></head>\n",
              "<body>\n",
              "    <div>            <script src=\"https://cdnjs.cloudflare.com/ajax/libs/mathjax/2.7.5/MathJax.js?config=TeX-AMS-MML_SVG\"></script><script type=\"text/javascript\">if (window.MathJax) {MathJax.Hub.Config({SVG: {font: \"STIX-Web\"}});}</script>                <script type=\"text/javascript\">window.PlotlyConfig = {MathJaxConfig: 'local'};</script>\n",
              "        <script src=\"https://cdn.plot.ly/plotly-2.1.0.min.js\"></script>                <div id=\"24101214-3941-42e5-abe5-754a1df819c6\" class=\"plotly-graph-div\" style=\"height:525px; width:100%;\"></div>            <script type=\"text/javascript\">                                    window.PLOTLYENV=window.PLOTLYENV || {};                                    if (document.getElementById(\"24101214-3941-42e5-abe5-754a1df819c6\")) {                    Plotly.newPlot(                        \"24101214-3941-42e5-abe5-754a1df819c6\",                        [{\"alignmentgroup\":\"True\",\"hovertemplate\":\"Month=%{x}<br>Close=%{y}<extra></extra>\",\"legendgroup\":\"\",\"marker\":{\"color\":\"#636efa\"},\"name\":\"\",\"notched\":false,\"offsetgroup\":\"\",\"orientation\":\"v\",\"showlegend\":false,\"type\":\"box\",\"x\":[12,12,12,12,12,12,12,12,12,12,1,1,1,1,1,1,1,1,1,1,1,1,1,1,1,1,1,1,1,1,1,1,2,2,2,2,2,2,2,2,2,2,2,2,2,2,2,2,2,2,2,3,3,3,3,3,3,3,3,3,3,3,3,3,3,3,3,3,3,3,3,3,4,4,4,4,4,4,4,4,4,4,4,4,4,4,4,4,4,4,5,5,5,5,5,5,5,5,5,5,5,5,5,5,5,5,5,5,5,6,6,6,6,6,6,6,6,6,6,6,6,6,6,6,6,6,6,6,6,6,6,7,7,7,7,7,7,7,7,7,7,7,7,7,7,7,7,7,7,7,7,7,7,7,8,8,8,8,8,8,8,8,8,8,8,8,8,8,8,8,8,8,8,8,8,9,9,9,9,9,9,9,9,9,9,9,9,9,9,9,9,9,9,9,9,9,9,10,10,10,10,10,10,10,10,10,10,10,10,10,10,10,10,10,10,10,10,10,11,11,11,11,11,11,11,11,11,11,11,11,11,11,11,11,11,11,11,12,12,12,12,12,12,12,12,12,12,12,12,12],\"x0\":\" \",\"xaxis\":\"x\",\"y\":[41352.171875,41558.570313,41673.921875,41681.539063,41642.660156,41461.261719,41163.761719,41575.140625,41558.0,41253.738281,41626.640625,41464.609375,40676.628906,40869.46875,40817.738281,41452.351563,41599.71875,41859.691406,41952.628906,41872.730469,41932.558594,41945.371094,41528.910156,41323.808594,41115.378906,41386.398438,41613.191406,41155.121094,40966.859375,41198.660156,40913.820313,40723.488281,39872.308594,40789.378906,41142.660156,41306.03125,41141.851563,40979.621094,41216.140625,41565.898438,41459.789063,41257.738281,41055.691406,40894.378906,41323.0,41170.121094,40363.230469,40281.199219,39888.960938,39745.660156,38297.289063,38144.019531,38623.699219,38409.480469,38470.609375,37576.621094,35634.949219,35697.398438,32778.140625,34103.480469,31390.070313,30579.089844,28869.509766,28288.230469,29915.960938,25981.240234,26674.029297,28535.779297,29946.769531,29815.589844,28440.320313,29468.490234,28265.310547,27590.949219,30067.210938,29893.960938,31159.619141,30690.019531,30379.810547,30602.609375,31588.720703,31648.0,30636.710938,31379.550781,31863.080078,31327.220703,31743.080078,32114.519531,32720.160156,33717.621094,31715.349609,31453.509766,31685.75,31443.380859,31642.699219,31561.220703,31371.119141,32008.609375,31122.890625,31097.730469,30028.980469,30196.169922,30818.609375,30932.900391,30672.589844,30609.300781,31605.220703,32200.589844,32424.099609,33303.519531,33825.53125,34109.539063,33980.699219,34287.238281,34370.578125,33956.691406,34247.050781,33538.371094,33780.890625,33228.800781,33605.21875,33507.921875,34208.050781,34731.730469,34911.320313,35430.429688,34868.980469,34842.101563,35171.269531,34961.519531,34915.800781,35414.449219,35843.699219,36021.421875,36487.28125,36674.519531,36329.011719,36737.691406,36594.328125,36693.691406,36033.058594,36051.808594,36471.679688,37020.140625,37418.988281,37930.328125,37871.519531,38140.46875,38128.898438,37934.730469,38492.949219,38071.128906,37736.070313,37606.890625,36939.601563,37687.910156,37663.328125,38025.449219,38040.570313,38182.078125,38407.011719,38369.628906,38310.488281,37877.339844,38050.78125,38528.320313,38614.789063,38220.390625,38434.71875,38799.078125,38843.878906,39073.921875,39113.46875,39467.308594,38628.289063,38900.800781,39086.03125,38990.941406,38357.179688,38417.230469,38365.351563,38193.921875,38840.320313,38854.550781,38756.628906,39044.351563,39302.851563,38979.851563,38845.820313,38034.140625,37734.078125,37668.421875,36553.601563,37388.660156,37981.628906,37973.21875,38067.929688,38697.050781,38973.699219,39574.570313,39878.949219,40182.671875,40509.488281,40593.800781,40625.511719,40794.738281,39728.410156,39982.980469,40431.601563,40544.371094,40707.308594,40558.488281,40685.5,40145.5,40522.101563,39922.460938,39749.851563,39614.070313,39757.578125,40261.128906,40616.140625,41340.160156,41893.058594,42597.429688,43277.648438,43593.671875,43357.191406,43443.0,43952.710938,44180.050781,43599.960938,43882.25,44077.148438,44523.019531,43828.101563,44259.738281,44149.71875,44655.441406,44618.039063,44632.648438,45079.550781,45426.96875,45608.511719,46103.5,45959.878906,46099.011719,46253.460938,46263.171875,46666.460938,46890.339844],\"y0\":\" \",\"yaxis\":\"y\"}],                        {\"boxmode\":\"group\",\"legend\":{\"tracegroupgap\":0},\"margin\":{\"t\":60},\"template\":{\"data\":{\"bar\":[{\"error_x\":{\"color\":\"#2a3f5f\"},\"error_y\":{\"color\":\"#2a3f5f\"},\"marker\":{\"line\":{\"color\":\"#E5ECF6\",\"width\":0.5},\"pattern\":{\"fillmode\":\"overlay\",\"size\":10,\"solidity\":0.2}},\"type\":\"bar\"}],\"barpolar\":[{\"marker\":{\"line\":{\"color\":\"#E5ECF6\",\"width\":0.5},\"pattern\":{\"fillmode\":\"overlay\",\"size\":10,\"solidity\":0.2}},\"type\":\"barpolar\"}],\"carpet\":[{\"aaxis\":{\"endlinecolor\":\"#2a3f5f\",\"gridcolor\":\"white\",\"linecolor\":\"white\",\"minorgridcolor\":\"white\",\"startlinecolor\":\"#2a3f5f\"},\"baxis\":{\"endlinecolor\":\"#2a3f5f\",\"gridcolor\":\"white\",\"linecolor\":\"white\",\"minorgridcolor\":\"white\",\"startlinecolor\":\"#2a3f5f\"},\"type\":\"carpet\"}],\"choropleth\":[{\"colorbar\":{\"outlinewidth\":0,\"ticks\":\"\"},\"type\":\"choropleth\"}],\"contour\":[{\"colorbar\":{\"outlinewidth\":0,\"ticks\":\"\"},\"colorscale\":[[0.0,\"#0d0887\"],[0.1111111111111111,\"#46039f\"],[0.2222222222222222,\"#7201a8\"],[0.3333333333333333,\"#9c179e\"],[0.4444444444444444,\"#bd3786\"],[0.5555555555555556,\"#d8576b\"],[0.6666666666666666,\"#ed7953\"],[0.7777777777777778,\"#fb9f3a\"],[0.8888888888888888,\"#fdca26\"],[1.0,\"#f0f921\"]],\"type\":\"contour\"}],\"contourcarpet\":[{\"colorbar\":{\"outlinewidth\":0,\"ticks\":\"\"},\"type\":\"contourcarpet\"}],\"heatmap\":[{\"colorbar\":{\"outlinewidth\":0,\"ticks\":\"\"},\"colorscale\":[[0.0,\"#0d0887\"],[0.1111111111111111,\"#46039f\"],[0.2222222222222222,\"#7201a8\"],[0.3333333333333333,\"#9c179e\"],[0.4444444444444444,\"#bd3786\"],[0.5555555555555556,\"#d8576b\"],[0.6666666666666666,\"#ed7953\"],[0.7777777777777778,\"#fb9f3a\"],[0.8888888888888888,\"#fdca26\"],[1.0,\"#f0f921\"]],\"type\":\"heatmap\"}],\"heatmapgl\":[{\"colorbar\":{\"outlinewidth\":0,\"ticks\":\"\"},\"colorscale\":[[0.0,\"#0d0887\"],[0.1111111111111111,\"#46039f\"],[0.2222222222222222,\"#7201a8\"],[0.3333333333333333,\"#9c179e\"],[0.4444444444444444,\"#bd3786\"],[0.5555555555555556,\"#d8576b\"],[0.6666666666666666,\"#ed7953\"],[0.7777777777777778,\"#fb9f3a\"],[0.8888888888888888,\"#fdca26\"],[1.0,\"#f0f921\"]],\"type\":\"heatmapgl\"}],\"histogram\":[{\"marker\":{\"pattern\":{\"fillmode\":\"overlay\",\"size\":10,\"solidity\":0.2}},\"type\":\"histogram\"}],\"histogram2d\":[{\"colorbar\":{\"outlinewidth\":0,\"ticks\":\"\"},\"colorscale\":[[0.0,\"#0d0887\"],[0.1111111111111111,\"#46039f\"],[0.2222222222222222,\"#7201a8\"],[0.3333333333333333,\"#9c179e\"],[0.4444444444444444,\"#bd3786\"],[0.5555555555555556,\"#d8576b\"],[0.6666666666666666,\"#ed7953\"],[0.7777777777777778,\"#fb9f3a\"],[0.8888888888888888,\"#fdca26\"],[1.0,\"#f0f921\"]],\"type\":\"histogram2d\"}],\"histogram2dcontour\":[{\"colorbar\":{\"outlinewidth\":0,\"ticks\":\"\"},\"colorscale\":[[0.0,\"#0d0887\"],[0.1111111111111111,\"#46039f\"],[0.2222222222222222,\"#7201a8\"],[0.3333333333333333,\"#9c179e\"],[0.4444444444444444,\"#bd3786\"],[0.5555555555555556,\"#d8576b\"],[0.6666666666666666,\"#ed7953\"],[0.7777777777777778,\"#fb9f3a\"],[0.8888888888888888,\"#fdca26\"],[1.0,\"#f0f921\"]],\"type\":\"histogram2dcontour\"}],\"mesh3d\":[{\"colorbar\":{\"outlinewidth\":0,\"ticks\":\"\"},\"type\":\"mesh3d\"}],\"parcoords\":[{\"line\":{\"colorbar\":{\"outlinewidth\":0,\"ticks\":\"\"}},\"type\":\"parcoords\"}],\"pie\":[{\"automargin\":true,\"type\":\"pie\"}],\"scatter\":[{\"marker\":{\"colorbar\":{\"outlinewidth\":0,\"ticks\":\"\"}},\"type\":\"scatter\"}],\"scatter3d\":[{\"line\":{\"colorbar\":{\"outlinewidth\":0,\"ticks\":\"\"}},\"marker\":{\"colorbar\":{\"outlinewidth\":0,\"ticks\":\"\"}},\"type\":\"scatter3d\"}],\"scattercarpet\":[{\"marker\":{\"colorbar\":{\"outlinewidth\":0,\"ticks\":\"\"}},\"type\":\"scattercarpet\"}],\"scattergeo\":[{\"marker\":{\"colorbar\":{\"outlinewidth\":0,\"ticks\":\"\"}},\"type\":\"scattergeo\"}],\"scattergl\":[{\"marker\":{\"colorbar\":{\"outlinewidth\":0,\"ticks\":\"\"}},\"type\":\"scattergl\"}],\"scattermapbox\":[{\"marker\":{\"colorbar\":{\"outlinewidth\":0,\"ticks\":\"\"}},\"type\":\"scattermapbox\"}],\"scatterpolar\":[{\"marker\":{\"colorbar\":{\"outlinewidth\":0,\"ticks\":\"\"}},\"type\":\"scatterpolar\"}],\"scatterpolargl\":[{\"marker\":{\"colorbar\":{\"outlinewidth\":0,\"ticks\":\"\"}},\"type\":\"scatterpolargl\"}],\"scatterternary\":[{\"marker\":{\"colorbar\":{\"outlinewidth\":0,\"ticks\":\"\"}},\"type\":\"scatterternary\"}],\"surface\":[{\"colorbar\":{\"outlinewidth\":0,\"ticks\":\"\"},\"colorscale\":[[0.0,\"#0d0887\"],[0.1111111111111111,\"#46039f\"],[0.2222222222222222,\"#7201a8\"],[0.3333333333333333,\"#9c179e\"],[0.4444444444444444,\"#bd3786\"],[0.5555555555555556,\"#d8576b\"],[0.6666666666666666,\"#ed7953\"],[0.7777777777777778,\"#fb9f3a\"],[0.8888888888888888,\"#fdca26\"],[1.0,\"#f0f921\"]],\"type\":\"surface\"}],\"table\":[{\"cells\":{\"fill\":{\"color\":\"#EBF0F8\"},\"line\":{\"color\":\"white\"}},\"header\":{\"fill\":{\"color\":\"#C8D4E3\"},\"line\":{\"color\":\"white\"}},\"type\":\"table\"}]},\"layout\":{\"annotationdefaults\":{\"arrowcolor\":\"#2a3f5f\",\"arrowhead\":0,\"arrowwidth\":1},\"autotypenumbers\":\"strict\",\"coloraxis\":{\"colorbar\":{\"outlinewidth\":0,\"ticks\":\"\"}},\"colorscale\":{\"diverging\":[[0,\"#8e0152\"],[0.1,\"#c51b7d\"],[0.2,\"#de77ae\"],[0.3,\"#f1b6da\"],[0.4,\"#fde0ef\"],[0.5,\"#f7f7f7\"],[0.6,\"#e6f5d0\"],[0.7,\"#b8e186\"],[0.8,\"#7fbc41\"],[0.9,\"#4d9221\"],[1,\"#276419\"]],\"sequential\":[[0.0,\"#0d0887\"],[0.1111111111111111,\"#46039f\"],[0.2222222222222222,\"#7201a8\"],[0.3333333333333333,\"#9c179e\"],[0.4444444444444444,\"#bd3786\"],[0.5555555555555556,\"#d8576b\"],[0.6666666666666666,\"#ed7953\"],[0.7777777777777778,\"#fb9f3a\"],[0.8888888888888888,\"#fdca26\"],[1.0,\"#f0f921\"]],\"sequentialminus\":[[0.0,\"#0d0887\"],[0.1111111111111111,\"#46039f\"],[0.2222222222222222,\"#7201a8\"],[0.3333333333333333,\"#9c179e\"],[0.4444444444444444,\"#bd3786\"],[0.5555555555555556,\"#d8576b\"],[0.6666666666666666,\"#ed7953\"],[0.7777777777777778,\"#fb9f3a\"],[0.8888888888888888,\"#fdca26\"],[1.0,\"#f0f921\"]]},\"colorway\":[\"#636efa\",\"#EF553B\",\"#00cc96\",\"#ab63fa\",\"#FFA15A\",\"#19d3f3\",\"#FF6692\",\"#B6E880\",\"#FF97FF\",\"#FECB52\"],\"font\":{\"color\":\"#2a3f5f\"},\"geo\":{\"bgcolor\":\"white\",\"lakecolor\":\"white\",\"landcolor\":\"#E5ECF6\",\"showlakes\":true,\"showland\":true,\"subunitcolor\":\"white\"},\"hoverlabel\":{\"align\":\"left\"},\"hovermode\":\"closest\",\"mapbox\":{\"style\":\"light\"},\"paper_bgcolor\":\"white\",\"plot_bgcolor\":\"#E5ECF6\",\"polar\":{\"angularaxis\":{\"gridcolor\":\"white\",\"linecolor\":\"white\",\"ticks\":\"\"},\"bgcolor\":\"#E5ECF6\",\"radialaxis\":{\"gridcolor\":\"white\",\"linecolor\":\"white\",\"ticks\":\"\"}},\"scene\":{\"xaxis\":{\"backgroundcolor\":\"#E5ECF6\",\"gridcolor\":\"white\",\"gridwidth\":2,\"linecolor\":\"white\",\"showbackground\":true,\"ticks\":\"\",\"zerolinecolor\":\"white\"},\"yaxis\":{\"backgroundcolor\":\"#E5ECF6\",\"gridcolor\":\"white\",\"gridwidth\":2,\"linecolor\":\"white\",\"showbackground\":true,\"ticks\":\"\",\"zerolinecolor\":\"white\"},\"zaxis\":{\"backgroundcolor\":\"#E5ECF6\",\"gridcolor\":\"white\",\"gridwidth\":2,\"linecolor\":\"white\",\"showbackground\":true,\"ticks\":\"\",\"zerolinecolor\":\"white\"}},\"shapedefaults\":{\"line\":{\"color\":\"#2a3f5f\"}},\"ternary\":{\"aaxis\":{\"gridcolor\":\"white\",\"linecolor\":\"white\",\"ticks\":\"\"},\"baxis\":{\"gridcolor\":\"white\",\"linecolor\":\"white\",\"ticks\":\"\"},\"bgcolor\":\"#E5ECF6\",\"caxis\":{\"gridcolor\":\"white\",\"linecolor\":\"white\",\"ticks\":\"\"}},\"title\":{\"x\":0.05},\"xaxis\":{\"automargin\":true,\"gridcolor\":\"white\",\"linecolor\":\"white\",\"ticks\":\"\",\"title\":{\"standoff\":15},\"zerolinecolor\":\"white\",\"zerolinewidth\":2},\"yaxis\":{\"automargin\":true,\"gridcolor\":\"white\",\"linecolor\":\"white\",\"ticks\":\"\",\"title\":{\"standoff\":15},\"zerolinecolor\":\"white\",\"zerolinewidth\":2}}},\"xaxis\":{\"anchor\":\"y\",\"domain\":[0.0,1.0],\"title\":{\"text\":\"Month\"}},\"yaxis\":{\"anchor\":\"x\",\"domain\":[0.0,1.0],\"title\":{\"text\":\"Close\"}}},                        {\"responsive\": true}                    ).then(function(){\n",
              "                            \n",
              "var gd = document.getElementById('24101214-3941-42e5-abe5-754a1df819c6');\n",
              "var x = new MutationObserver(function (mutations, observer) {{\n",
              "        var display = window.getComputedStyle(gd).display;\n",
              "        if (!display || display === 'none') {{\n",
              "            console.log([gd, 'removed!']);\n",
              "            Plotly.purge(gd);\n",
              "            observer.disconnect();\n",
              "        }}\n",
              "}});\n",
              "\n",
              "// Listen for the removal of the full notebook cells\n",
              "var notebookContainer = gd.closest('#notebook-container');\n",
              "if (notebookContainer) {{\n",
              "    x.observe(notebookContainer, {childList: true});\n",
              "}}\n",
              "\n",
              "// Listen for the clearing of the current output cell\n",
              "var outputEl = gd.closest('.output');\n",
              "if (outputEl) {{\n",
              "    x.observe(outputEl, {childList: true});\n",
              "}}\n",
              "\n",
              "                        })                };                            </script>        </div>\n",
              "</body>\n",
              "</html>"
            ]
          },
          "metadata": {}
        }
      ]
    },
    {
      "cell_type": "markdown",
      "source": [
        "as we can see we have some aberrant variables , they can probably slightly affect the model "
      ],
      "metadata": {
        "id": "8sUwxT2lk7DA"
      }
    },
    {
      "cell_type": "code",
      "source": [
        "#getting rid of the aberrant variables\n",
        "for x in ['Close']:\n",
        "    q75,q25 = np.percentile(df_prices.loc[:,x],[75,25])\n",
        "    intr_qr = q75-q25\n",
        " \n",
        "    max = q75+(1.5*intr_qr)\n",
        "    min = q25-(1.5*intr_qr)\n",
        " \n",
        "    df_prices.loc[df_prices[x] < min,x] = np.nan\n",
        "    df_prices.loc[df_prices[x] > max,x] = np.nan\n",
        "\n",
        "df_prices = df_prices.dropna(axis = 0)\n",
        "df_prices.isnull().sum()"
      ],
      "metadata": {
        "colab": {
          "base_uri": "https://localhost:8080/"
        },
        "id": "6cl1IB7jwOq7",
        "outputId": "36535784-68f4-4f49-fa2e-c4279ff6b0ce"
      },
      "execution_count": null,
      "outputs": [
        {
          "output_type": "execute_result",
          "data": {
            "text/plain": [
              "Date         0\n",
              "Open         0\n",
              "High         0\n",
              "Low          0\n",
              "Close        0\n",
              "Adj Close    0\n",
              "Volume       0\n",
              "year         0\n",
              "Month        0\n",
              "dtype: int64"
            ]
          },
          "metadata": {},
          "execution_count": 155
        }
      ]
    },
    {
      "cell_type": "code",
      "source": [
        "df_prices.sort_values(by=['Date'], ascending = False).tail()\n",
        "df_prices.set_index('Date', inplace= True)"
      ],
      "metadata": {
        "id": "Wc7t0AN3Efkv"
      },
      "execution_count": null,
      "outputs": []
    },
    {
      "cell_type": "markdown",
      "source": [
        "## *stocks visualization*"
      ],
      "metadata": {
        "id": "RNVjAw5lmkKC"
      }
    },
    {
      "cell_type": "code",
      "source": [
        "fig = go.Figure(data=[go.Candlestick(x=df_prices.index,\n",
        "                open=df_prices['Open'],\n",
        "                high=df_prices['High'],\n",
        "                low=df_prices['Low'],\n",
        "                close=df_prices['Close'])])\n",
        "\n",
        "fig.show()"
      ],
      "metadata": {
        "colab": {
          "base_uri": "https://localhost:8080/",
          "height": 542
        },
        "id": "PCnBNXiglnVl",
        "outputId": "f4e0dd20-47ca-497f-e7d0-233e82884f21"
      },
      "execution_count": null,
      "outputs": [
        {
          "output_type": "display_data",
          "data": {
            "text/html": [
              "<html>\n",
              "<head><meta charset=\"utf-8\" /></head>\n",
              "<body>\n",
              "    <div>            <script src=\"https://cdnjs.cloudflare.com/ajax/libs/mathjax/2.7.5/MathJax.js?config=TeX-AMS-MML_SVG\"></script><script type=\"text/javascript\">if (window.MathJax) {MathJax.Hub.Config({SVG: {font: \"STIX-Web\"}});}</script>                <script type=\"text/javascript\">window.PlotlyConfig = {MathJaxConfig: 'local'};</script>\n",
              "        <script src=\"https://cdn.plot.ly/plotly-2.1.0.min.js\"></script>                <div id=\"2c917b91-484b-4371-bcc5-85a8956d26d8\" class=\"plotly-graph-div\" style=\"height:525px; width:100%;\"></div>            <script type=\"text/javascript\">                                    window.PLOTLYENV=window.PLOTLYENV || {};                                    if (document.getElementById(\"2c917b91-484b-4371-bcc5-85a8956d26d8\")) {                    Plotly.newPlot(                        \"2c917b91-484b-4371-bcc5-85a8956d26d8\",                        [{\"close\":[41352.171875,41558.570313,41673.921875,41681.539063,41642.660156,41461.261719,41163.761719,41575.140625,41558.0,41253.738281,41626.640625,41464.609375,40676.628906,40869.46875,40817.738281,41452.351563,41599.71875,41859.691406,41952.628906,41872.730469,41932.558594,41945.371094,41528.910156,41323.808594,41115.378906,41386.398438,41613.191406,41155.121094,40966.859375,41198.660156,40913.820313,40723.488281,39872.308594,40789.378906,41142.660156,41306.03125,41141.851563,40979.621094,41216.140625,41565.898438,41459.789063,41257.738281,41055.691406,40894.378906,41323.0,41170.121094,40363.230469,40281.199219,39888.960938,39745.660156,38297.289063,38144.019531,38623.699219,38409.480469,38470.609375,37576.621094,35634.949219,35697.398438,32778.140625,34103.480469,31390.070313,30579.089844,28869.509766,28288.230469,29915.960938,25981.240234,26674.029297,28535.779297,29946.769531,29815.589844,28440.320313,29468.490234,28265.310547,27590.949219,30067.210938,29893.960938,31159.619141,30690.019531,30379.810547,30602.609375,31588.720703,31648.0,30636.710938,31379.550781,31863.080078,31327.220703,31743.080078,32114.519531,32720.160156,33717.621094,31715.349609,31453.509766,31685.75,31443.380859,31642.699219,31561.220703,31371.119141,32008.609375,31122.890625,31097.730469,30028.980469,30196.169922,30818.609375,30932.900391,30672.589844,30609.300781,31605.220703,32200.589844,32424.099609,33303.519531,33825.53125,34109.539063,33980.699219,34287.238281,34370.578125,33956.691406,34247.050781,33538.371094,33780.890625,33228.800781,33605.21875,33507.921875,34208.050781,34731.730469,34911.320313,35430.429688,34868.980469,34842.101563,35171.269531,34961.519531,34915.800781,35414.449219,35843.699219,36021.421875,36487.28125,36674.519531,36329.011719,36737.691406,36594.328125,36693.691406,36033.058594,36051.808594,36471.679688,37020.140625,37418.988281,37930.328125,37871.519531,38140.46875,38128.898438,37934.730469,38492.949219,38071.128906,37736.070313,37606.890625,36939.601563,37687.910156,37663.328125,38025.449219,38040.570313,38182.078125,38407.011719,38369.628906,38310.488281,37877.339844,38050.78125,38528.320313,38614.789063,38220.390625,38434.71875,38799.078125,38843.878906,39073.921875,39113.46875,39467.308594,38628.289063,38900.800781,39086.03125,38990.941406,38357.179688,38417.230469,38365.351563,38193.921875,38840.320313,38854.550781,38756.628906,39044.351563,39302.851563,38979.851563,38845.820313,38034.140625,37734.078125,37668.421875,36553.601563,37388.660156,37981.628906,37973.21875,38067.929688,38697.050781,38973.699219,39574.570313,39878.949219,40182.671875,40509.488281,40593.800781,40625.511719,40794.738281,39728.410156,39982.980469,40431.601563,40544.371094,40707.308594,40558.488281,40685.5,40145.5,40522.101563,39922.460938,39749.851563,39614.070313,39757.578125,40261.128906,40616.140625,41340.160156,41893.058594,42597.429688,43277.648438,43593.671875,43357.191406,43443.0,43952.710938,44180.050781,43599.960938,43882.25,44077.148438,44523.019531,43828.101563,44259.738281,44149.71875,44655.441406,44618.039063,44632.648438,45079.550781,45426.96875,45608.511719,46103.5,45959.878906,46099.011719,46253.460938,46263.171875,46666.460938,46890.339844],\"high\":[41401.648438,41614.769531,41719.289063,41809.960938,41701.621094,41702.980469,41543.800781,41611.269531,41714.730469,41607.488281,41649.289063,41636.179688,41378.339844,41230.140625,40866.359375,41482.121094,41775.109375,41899.628906,41994.261719,41969.859375,42059.449219,42063.929688,42273.871094,41532.589844,41532.289063,41413.960938,41697.03125,41516.269531,41333.25,41334.859375,41380.140625,41154.488281,40014.898438,40818.941406,41177.0,41405.429688,41394.410156,41172.058594,41444.339844,41671.859375,41709.300781,41702.359375,41420.339844,41042.460938,41357.160156,41399.929688,41037.011719,40536.0,40255.390625,39947.800781,39087.46875,39083.171875,38754.238281,38791.699219,38887.800781,37747.070313,36950.199219,36021.511719,34472.5,34769.480469,33103.238281,32047.980469,31101.769531,29370.529297,30418.199219,27900.830078,27462.869141,28790.189453,30099.910156,31126.029297,29497.570313,29770.880859,29505.980469,28639.119141,30157.650391,31227.970703,31225.199219,31195.720703,31568.359375,30800.199219,31718.730469,32056.470703,30900.119141,31471.140625,31959.019531,31842.240234,32103.699219,32199.910156,32897.589844,33887.25,32748.140625,32264.0,31970.839844,31705.25,32088.509766,32301.580078,31536.890625,32845.480469,31630.939453,31296.279297,31248.259766,30739.960938,30878.310547,31188.789063,31107.910156,31086.699219,31660.599609,32267.230469,32480.519531,33673.828125,33866.628906,34488.691406,34310.140625,34405.429688,34927.800781,34811.289063,34350.171875,34219.390625,33856.269531,33670.550781,34022.011719,33933.660156,34276.011719,34848.371094,35213.519531,35482.160156,35706.550781,35081.609375,35254.878906,35032.359375,35233.910156,35467.230469,36014.921875,36110.210938,36661.660156,36723.269531,36828.429688,36806.300781,36748.890625,37024.199219,36538.101563,36810.25,36524.621094,37125.980469,37478.871094,37990.550781,38199.269531,38225.03125,38235.730469,38275.339844,38554.71875,38617.03125,38413.808594,37897.78125,37596.019531,37745.601563,38139.960938,38221.398438,38109.679688,38430.691406,38556.269531,38414.371094,38516.851563,38540.570313,38119.378906,38571.230469,38788.511719,38402.449219,38579.828125,38894.941406,39008.890625,39111.550781,39326.980469,39579.578125,40010.171875,39226.820313,39141.839844,39236.359375,38729.660156,38519.921875,38746.480469,38252.671875,38878.25,38978.519531,39230.160156,39102.25,39359.511719,39234.808594,39200.421875,38990.761719,38209.96875,38140.070313,37304.261719,37471.171875,38035.871094,38235.941406,38236.339844,38738.890625,39263.851563,39623.761719,39968.039063,40468.878906,40585.359375,40905.488281,40786.820313,40880.25,41048.050781,40125.710938,40519.480469,40732.011719,40976.019531,40721.570313,40811.121094,40724.398438,40555.601563,40664.351563,40010.828125,39988.25,39968.03125,40354.730469,40693.511719,41370.910156,41954.929688,42645.328125,43316.441406,43708.46875,43543.960938,43522.25,44161.160156,44215.488281,44230.0,44013.019531,44271.148438,44601.628906,44825.371094,44361.78125,44407.28125,44730.789063,44729.640625,44953.011719,45148.28125,45458.921875,45742.230469,46164.101563,46043.96875,46309.628906,46373.339844,46350.300781,46704.96875,46992.570313],\"low\":[41005.179688,41358.46875,41456.398438,41636.109375,41474.609375,41423.070313,41132.890625,41264.921875,41453.378906,41184.730469,41328.449219,41348.679688,40613.960938,40727.371094,40476.550781,41175.71875,41447.800781,41720.761719,41770.898438,41648.109375,41812.28125,41850.289063,41503.371094,41294.300781,41059.039063,41098.910156,41275.601563,41122.480469,40869.75,41108.191406,40829.910156,40671.011719,39563.070313,40117.460938,40703.320313,41113.109375,41073.359375,40798.980469,41179.140625,41330.851563,41338.308594,41183.128906,41030.578125,40610.949219,41048.929688,41134.308594,40306.359375,40220.589844,39760.390625,39423.269531,38219.96875,37785.988281,38142.300781,37846.101563,38386.679688,37011.089844,35109.179688,35261.921875,32493.099609,29388.970703,31276.300781,30394.939453,28613.050781,26714.460938,27932.669922,25880.830078,25638.900391,26359.910156,28566.339844,29346.990234,28290.990234,28667.359375,28073.429688,27500.789063,28602.310547,29602.939453,30420.220703,30474.150391,30222.070313,30016.169922,30960.939453,31490.259766,30378.259766,30578.550781,31292.919922,31278.269531,31651.580078,31661.339844,32171.650391,33354.929688,31632.019531,31403.570313,31158.75,31362.869141,31598.0,31500.869141,30844.660156,31901.919922,31052.650391,30770.480469,29968.449219,30116.820313,30157.75,30765.320313,30474.880859,30512.140625,30525.679688,31641.769531,31823.800781,32876.550781,33301.289063,34027.5,33711.238281,33958.019531,34211.828125,33881.191406,33949.460938,33480.421875,32348.099609,32923.738281,32953.300781,33332.960938,33371.519531,34136.390625,34794.398438,34843.691406,34794.929688,34499.78125,34910.339844,34662.058594,34812.800781,34927.199219,35595.359375,35872.378906,36254.019531,36271.089844,36234.171875,36422.300781,36401.109375,36533.960938,35877.421875,35894.960938,36038.410156,36512.921875,37185.78125,37742.050781,37601.621094,37738.589844,37748.410156,37769.441406,37998.128906,37884.410156,37678.421875,37431.679688,36911.230469,36987.730469,37550.601563,37755.101563,37787.378906,38073.289063,38313.058594,38125.808594,38215.050781,37654.921875,37734.140625,38062.011719,38550.648438,38155.78125,38411.371094,38545.761719,38679.671875,38765.089844,39046.941406,39235.03125,38395.890625,38542.109375,38736.21875,38943.429688,38249.769531,38060.738281,38275.449219,37935.261719,38367.070313,38711.800781,38573.171875,38753.679688,39037.960938,38926.339844,38635.730469,37938.53125,37531.140625,37313.089844,36495.980469,36730.519531,37544.050781,37831.351563,37828.109375,38410.199219,38819.890625,39191.101563,39450.820313,40062.230469,40066.539063,40387.398438,40461.96875,40279.550781,39667.46875,39699.421875,40211.21875,40305.589844,40150.480469,40309.050781,40590.898438,39948.289063,39978.390625,39774.601563,39524.25,39241.871094,39334.921875,39952.789063,40076.46875,41030.171875,41383.289063,42263.640625,42660.089844,42970.210938,43127.550781,43053.371094,43699.21875,43785.78125,43518.109375,43453.75,43747.21875,44247.121094,43757.96875,43582.398438,43995.410156,44118.101563,44169.96875,44551.421875,44665.910156,45024.46875,45335.171875,45792.011719,45685.871094,45706.21875,45951.53125,45841.671875,46402.199219,46627.601563],\"open\":[41052.359375,41442.75,41571.820313,41746.199219,41548.261719,41684.511719,41543.800781,41297.078125,41686.269531,41607.488281,41340.269531,41634.511719,41378.339844,40983.039063,40574.828125,41216.671875,41568.199219,41788.210938,41883.089844,41969.859375,41924.738281,41929.019531,42263.0,41487.570313,41467.128906,41191.5,41377.039063,41510.679688,41299.679688,41131.570313,41380.140625,41146.558594,39701.019531,40178.738281,40921.710938,41209.128906,41394.410156,41166.71875,41183.390625,41330.851563,41707.210938,41510.191406,41324.039063,41042.460938,41121.511719,41334.960938,41037.011719,40497.71875,40194.890625,39947.800781,39087.46875,38910.949219,38480.890625,38715.71875,38604.25,37613.960938,36950.199219,35468.898438,34472.5,31214.130859,33103.238281,31611.570313,30968.839844,27773.359375,28460.820313,27608.800781,27056.230469,26499.810547,29073.710938,30747.810547,29226.550781,29294.939453,29505.330078,28623.529297,28898.359375,29701.919922,30571.189453,31195.720703,31277.109375,30095.509766,31656.679688,32056.189453,30836.189453,30856.140625,31646.449219,31426.619141,31659.039063,32101.910156,32311.039063,33381.191406,32748.140625,32182.900391,31577.630859,31677.689453,32083.320313,32030.339844,31342.929688,32841.871094,31466.330078,31296.279297,31248.259766,30450.740234,30159.589844,30904.289063,30822.779297,30864.269531,30793.109375,31827.800781,32041.289063,32906.050781,33450.191406,34185.410156,34072.5,34198.550781,34841.171875,34520.789063,34029.140625,34214.691406,32436.689453,33670.550781,33853.71875,33438.308594,33371.519531,34335.378906,34892.03125,35015.730469,35679.738281,34525.390625,35144.78125,34926.949219,35168.300781,35009.589844,35604.0,36025.378906,36313.460938,36660.351563,36738.378906,36450.691406,36555.128906,36880.660156,36517.28125,36314.761719,36401.199219,36547.75,37409.03125,37823.609375,38178.070313,37814.921875,37949.589844,38275.339844,38052.179688,38427.148438,38262.828125,37847.878906,37595.730469,37092.859375,37892.359375,37946.800781,37951.070313,38168.421875,38371.339844,38321.128906,38456.640625,38432.941406,38062.070313,38084.699219,38727.890625,38283.898438,38471.929688,38566.960938,38948.460938,38930.179688,39293.53125,39264.480469,39888.148438,38754.0,38892.640625,39165.800781,38325.0,38284.78125,38498.070313,37988.558594,38516.878906,38865.171875,39073.511719,38904.671875,39161.011719,39120.640625,39200.421875,38812.691406,38200.710938,38124.941406,37282.179688,36991.890625,37756.25,38176.859375,38068.890625,38410.199219,38956.78125,39336.339844,39633.191406,40204.320313,40226.25,40716.949219,40592.539063,40623.191406,41048.050781,39936.609375,40318.570313,40420.289063,40767.140625,40531.308594,40728.390625,40649.761719,40199.078125,40664.351563,39537.171875,39779.820313,39880.378906,39990.75,40171.710938,41112.121094,41438.761719,42273.96875,42959.25,43444.058594,43291.890625,43298.921875,44095.851563,43978.578125,43902.238281,43732.140625,44164.171875,44341.191406,44749.730469,43967.589844,44325.03125,44435.828125,44729.519531,44902.019531,44665.910156,45099.921875,45568.800781,45891.039063,45999.421875,46060.320313,46284.699219,46287.390625,46573.308594,46774.320313],\"type\":\"candlestick\",\"x\":[\"2019-12-17T00:00:00\",\"2019-12-18T00:00:00\",\"2019-12-19T00:00:00\",\"2019-12-20T00:00:00\",\"2019-12-23T00:00:00\",\"2019-12-24T00:00:00\",\"2019-12-26T00:00:00\",\"2019-12-27T00:00:00\",\"2019-12-30T00:00:00\",\"2019-12-31T00:00:00\",\"2020-01-02T00:00:00\",\"2020-01-03T00:00:00\",\"2020-01-06T00:00:00\",\"2020-01-07T00:00:00\",\"2020-01-08T00:00:00\",\"2020-01-09T00:00:00\",\"2020-01-10T00:00:00\",\"2020-01-13T00:00:00\",\"2020-01-14T00:00:00\",\"2020-01-15T00:00:00\",\"2020-01-16T00:00:00\",\"2020-01-17T00:00:00\",\"2020-01-20T00:00:00\",\"2020-01-21T00:00:00\",\"2020-01-22T00:00:00\",\"2020-01-23T00:00:00\",\"2020-01-24T00:00:00\",\"2020-01-27T00:00:00\",\"2020-01-28T00:00:00\",\"2020-01-29T00:00:00\",\"2020-01-30T00:00:00\",\"2020-01-31T00:00:00\",\"2020-02-03T00:00:00\",\"2020-02-04T00:00:00\",\"2020-02-05T00:00:00\",\"2020-02-06T00:00:00\",\"2020-02-07T00:00:00\",\"2020-02-10T00:00:00\",\"2020-02-11T00:00:00\",\"2020-02-12T00:00:00\",\"2020-02-13T00:00:00\",\"2020-02-14T00:00:00\",\"2020-02-17T00:00:00\",\"2020-02-18T00:00:00\",\"2020-02-19T00:00:00\",\"2020-02-20T00:00:00\",\"2020-02-24T00:00:00\",\"2020-02-25T00:00:00\",\"2020-02-26T00:00:00\",\"2020-02-27T00:00:00\",\"2020-02-28T00:00:00\",\"2020-03-02T00:00:00\",\"2020-03-03T00:00:00\",\"2020-03-04T00:00:00\",\"2020-03-05T00:00:00\",\"2020-03-06T00:00:00\",\"2020-03-09T00:00:00\",\"2020-03-11T00:00:00\",\"2020-03-12T00:00:00\",\"2020-03-13T00:00:00\",\"2020-03-16T00:00:00\",\"2020-03-17T00:00:00\",\"2020-03-18T00:00:00\",\"2020-03-19T00:00:00\",\"2020-03-20T00:00:00\",\"2020-03-23T00:00:00\",\"2020-03-24T00:00:00\",\"2020-03-25T00:00:00\",\"2020-03-26T00:00:00\",\"2020-03-27T00:00:00\",\"2020-03-30T00:00:00\",\"2020-03-31T00:00:00\",\"2020-04-01T00:00:00\",\"2020-04-03T00:00:00\",\"2020-04-07T00:00:00\",\"2020-04-08T00:00:00\",\"2020-04-09T00:00:00\",\"2020-04-13T00:00:00\",\"2020-04-15T00:00:00\",\"2020-04-16T00:00:00\",\"2020-04-17T00:00:00\",\"2020-04-20T00:00:00\",\"2020-04-21T00:00:00\",\"2020-04-22T00:00:00\",\"2020-04-23T00:00:00\",\"2020-04-24T00:00:00\",\"2020-04-27T00:00:00\",\"2020-04-28T00:00:00\",\"2020-04-29T00:00:00\",\"2020-04-30T00:00:00\",\"2020-05-04T00:00:00\",\"2020-05-05T00:00:00\",\"2020-05-06T00:00:00\",\"2020-05-07T00:00:00\",\"2020-05-08T00:00:00\",\"2020-05-11T00:00:00\",\"2020-05-12T00:00:00\",\"2020-05-13T00:00:00\",\"2020-05-14T00:00:00\",\"2020-05-15T00:00:00\",\"2020-05-18T00:00:00\",\"2020-05-19T00:00:00\",\"2020-05-20T00:00:00\",\"2020-05-21T00:00:00\",\"2020-05-22T00:00:00\",\"2020-05-26T00:00:00\",\"2020-05-27T00:00:00\",\"2020-05-28T00:00:00\",\"2020-05-29T00:00:00\",\"2020-06-01T00:00:00\",\"2020-06-02T00:00:00\",\"2020-06-03T00:00:00\",\"2020-06-04T00:00:00\",\"2020-06-05T00:00:00\",\"2020-06-08T00:00:00\",\"2020-06-09T00:00:00\",\"2020-06-10T00:00:00\",\"2020-06-11T00:00:00\",\"2020-06-12T00:00:00\",\"2020-06-15T00:00:00\",\"2020-06-16T00:00:00\",\"2020-06-17T00:00:00\",\"2020-06-18T00:00:00\",\"2020-06-19T00:00:00\",\"2020-06-22T00:00:00\",\"2020-06-23T00:00:00\",\"2020-06-24T00:00:00\",\"2020-06-25T00:00:00\",\"2020-06-26T00:00:00\",\"2020-06-29T00:00:00\",\"2020-06-30T00:00:00\",\"2020-07-01T00:00:00\",\"2020-07-02T00:00:00\",\"2020-07-03T00:00:00\",\"2020-07-06T00:00:00\",\"2020-07-07T00:00:00\",\"2020-07-08T00:00:00\",\"2020-07-09T00:00:00\",\"2020-07-10T00:00:00\",\"2020-07-13T00:00:00\",\"2020-07-14T00:00:00\",\"2020-07-15T00:00:00\",\"2020-07-16T00:00:00\",\"2020-07-17T00:00:00\",\"2020-07-20T00:00:00\",\"2020-07-21T00:00:00\",\"2020-07-22T00:00:00\",\"2020-07-23T00:00:00\",\"2020-07-24T00:00:00\",\"2020-07-27T00:00:00\",\"2020-07-28T00:00:00\",\"2020-07-29T00:00:00\",\"2020-07-30T00:00:00\",\"2020-07-31T00:00:00\",\"2020-08-03T00:00:00\",\"2020-08-04T00:00:00\",\"2020-08-05T00:00:00\",\"2020-08-06T00:00:00\",\"2020-08-07T00:00:00\",\"2020-08-10T00:00:00\",\"2020-08-11T00:00:00\",\"2020-08-12T00:00:00\",\"2020-08-13T00:00:00\",\"2020-08-14T00:00:00\",\"2020-08-17T00:00:00\",\"2020-08-18T00:00:00\",\"2020-08-19T00:00:00\",\"2020-08-20T00:00:00\",\"2020-08-21T00:00:00\",\"2020-08-24T00:00:00\",\"2020-08-25T00:00:00\",\"2020-08-26T00:00:00\",\"2020-08-27T00:00:00\",\"2020-08-28T00:00:00\",\"2020-08-31T00:00:00\",\"2020-09-01T00:00:00\",\"2020-09-02T00:00:00\",\"2020-09-03T00:00:00\",\"2020-09-04T00:00:00\",\"2020-09-07T00:00:00\",\"2020-09-08T00:00:00\",\"2020-09-09T00:00:00\",\"2020-09-10T00:00:00\",\"2020-09-11T00:00:00\",\"2020-09-14T00:00:00\",\"2020-09-15T00:00:00\",\"2020-09-16T00:00:00\",\"2020-09-17T00:00:00\",\"2020-09-18T00:00:00\",\"2020-09-21T00:00:00\",\"2020-09-22T00:00:00\",\"2020-09-23T00:00:00\",\"2020-09-24T00:00:00\",\"2020-09-25T00:00:00\",\"2020-09-28T00:00:00\",\"2020-09-29T00:00:00\",\"2020-09-30T00:00:00\",\"2020-10-01T00:00:00\",\"2020-10-05T00:00:00\",\"2020-10-06T00:00:00\",\"2020-10-07T00:00:00\",\"2020-10-08T00:00:00\",\"2020-10-09T00:00:00\",\"2020-10-12T00:00:00\",\"2020-10-13T00:00:00\",\"2020-10-14T00:00:00\",\"2020-10-15T00:00:00\",\"2020-10-16T00:00:00\",\"2020-10-19T00:00:00\",\"2020-10-20T00:00:00\",\"2020-10-21T00:00:00\",\"2020-10-22T00:00:00\",\"2020-10-23T00:00:00\",\"2020-10-26T00:00:00\",\"2020-10-27T00:00:00\",\"2020-10-28T00:00:00\",\"2020-10-29T00:00:00\",\"2020-10-30T00:00:00\",\"2020-11-02T00:00:00\",\"2020-11-03T00:00:00\",\"2020-11-04T00:00:00\",\"2020-11-05T00:00:00\",\"2020-11-06T00:00:00\",\"2020-11-09T00:00:00\",\"2020-11-10T00:00:00\",\"2020-11-11T00:00:00\",\"2020-11-12T00:00:00\",\"2020-11-13T00:00:00\",\"2020-11-17T00:00:00\",\"2020-11-18T00:00:00\",\"2020-11-19T00:00:00\",\"2020-11-20T00:00:00\",\"2020-11-23T00:00:00\",\"2020-11-24T00:00:00\",\"2020-11-25T00:00:00\",\"2020-11-26T00:00:00\",\"2020-11-27T00:00:00\",\"2020-12-01T00:00:00\",\"2020-12-02T00:00:00\",\"2020-12-03T00:00:00\",\"2020-12-04T00:00:00\",\"2020-12-07T00:00:00\",\"2020-12-08T00:00:00\",\"2020-12-09T00:00:00\",\"2020-12-10T00:00:00\",\"2020-12-11T00:00:00\",\"2020-12-14T00:00:00\",\"2020-12-15T00:00:00\",\"2020-12-16T00:00:00\",\"2020-12-17T00:00:00\"]}],                        {\"template\":{\"data\":{\"bar\":[{\"error_x\":{\"color\":\"#2a3f5f\"},\"error_y\":{\"color\":\"#2a3f5f\"},\"marker\":{\"line\":{\"color\":\"#E5ECF6\",\"width\":0.5},\"pattern\":{\"fillmode\":\"overlay\",\"size\":10,\"solidity\":0.2}},\"type\":\"bar\"}],\"barpolar\":[{\"marker\":{\"line\":{\"color\":\"#E5ECF6\",\"width\":0.5},\"pattern\":{\"fillmode\":\"overlay\",\"size\":10,\"solidity\":0.2}},\"type\":\"barpolar\"}],\"carpet\":[{\"aaxis\":{\"endlinecolor\":\"#2a3f5f\",\"gridcolor\":\"white\",\"linecolor\":\"white\",\"minorgridcolor\":\"white\",\"startlinecolor\":\"#2a3f5f\"},\"baxis\":{\"endlinecolor\":\"#2a3f5f\",\"gridcolor\":\"white\",\"linecolor\":\"white\",\"minorgridcolor\":\"white\",\"startlinecolor\":\"#2a3f5f\"},\"type\":\"carpet\"}],\"choropleth\":[{\"colorbar\":{\"outlinewidth\":0,\"ticks\":\"\"},\"type\":\"choropleth\"}],\"contour\":[{\"colorbar\":{\"outlinewidth\":0,\"ticks\":\"\"},\"colorscale\":[[0.0,\"#0d0887\"],[0.1111111111111111,\"#46039f\"],[0.2222222222222222,\"#7201a8\"],[0.3333333333333333,\"#9c179e\"],[0.4444444444444444,\"#bd3786\"],[0.5555555555555556,\"#d8576b\"],[0.6666666666666666,\"#ed7953\"],[0.7777777777777778,\"#fb9f3a\"],[0.8888888888888888,\"#fdca26\"],[1.0,\"#f0f921\"]],\"type\":\"contour\"}],\"contourcarpet\":[{\"colorbar\":{\"outlinewidth\":0,\"ticks\":\"\"},\"type\":\"contourcarpet\"}],\"heatmap\":[{\"colorbar\":{\"outlinewidth\":0,\"ticks\":\"\"},\"colorscale\":[[0.0,\"#0d0887\"],[0.1111111111111111,\"#46039f\"],[0.2222222222222222,\"#7201a8\"],[0.3333333333333333,\"#9c179e\"],[0.4444444444444444,\"#bd3786\"],[0.5555555555555556,\"#d8576b\"],[0.6666666666666666,\"#ed7953\"],[0.7777777777777778,\"#fb9f3a\"],[0.8888888888888888,\"#fdca26\"],[1.0,\"#f0f921\"]],\"type\":\"heatmap\"}],\"heatmapgl\":[{\"colorbar\":{\"outlinewidth\":0,\"ticks\":\"\"},\"colorscale\":[[0.0,\"#0d0887\"],[0.1111111111111111,\"#46039f\"],[0.2222222222222222,\"#7201a8\"],[0.3333333333333333,\"#9c179e\"],[0.4444444444444444,\"#bd3786\"],[0.5555555555555556,\"#d8576b\"],[0.6666666666666666,\"#ed7953\"],[0.7777777777777778,\"#fb9f3a\"],[0.8888888888888888,\"#fdca26\"],[1.0,\"#f0f921\"]],\"type\":\"heatmapgl\"}],\"histogram\":[{\"marker\":{\"pattern\":{\"fillmode\":\"overlay\",\"size\":10,\"solidity\":0.2}},\"type\":\"histogram\"}],\"histogram2d\":[{\"colorbar\":{\"outlinewidth\":0,\"ticks\":\"\"},\"colorscale\":[[0.0,\"#0d0887\"],[0.1111111111111111,\"#46039f\"],[0.2222222222222222,\"#7201a8\"],[0.3333333333333333,\"#9c179e\"],[0.4444444444444444,\"#bd3786\"],[0.5555555555555556,\"#d8576b\"],[0.6666666666666666,\"#ed7953\"],[0.7777777777777778,\"#fb9f3a\"],[0.8888888888888888,\"#fdca26\"],[1.0,\"#f0f921\"]],\"type\":\"histogram2d\"}],\"histogram2dcontour\":[{\"colorbar\":{\"outlinewidth\":0,\"ticks\":\"\"},\"colorscale\":[[0.0,\"#0d0887\"],[0.1111111111111111,\"#46039f\"],[0.2222222222222222,\"#7201a8\"],[0.3333333333333333,\"#9c179e\"],[0.4444444444444444,\"#bd3786\"],[0.5555555555555556,\"#d8576b\"],[0.6666666666666666,\"#ed7953\"],[0.7777777777777778,\"#fb9f3a\"],[0.8888888888888888,\"#fdca26\"],[1.0,\"#f0f921\"]],\"type\":\"histogram2dcontour\"}],\"mesh3d\":[{\"colorbar\":{\"outlinewidth\":0,\"ticks\":\"\"},\"type\":\"mesh3d\"}],\"parcoords\":[{\"line\":{\"colorbar\":{\"outlinewidth\":0,\"ticks\":\"\"}},\"type\":\"parcoords\"}],\"pie\":[{\"automargin\":true,\"type\":\"pie\"}],\"scatter\":[{\"marker\":{\"colorbar\":{\"outlinewidth\":0,\"ticks\":\"\"}},\"type\":\"scatter\"}],\"scatter3d\":[{\"line\":{\"colorbar\":{\"outlinewidth\":0,\"ticks\":\"\"}},\"marker\":{\"colorbar\":{\"outlinewidth\":0,\"ticks\":\"\"}},\"type\":\"scatter3d\"}],\"scattercarpet\":[{\"marker\":{\"colorbar\":{\"outlinewidth\":0,\"ticks\":\"\"}},\"type\":\"scattercarpet\"}],\"scattergeo\":[{\"marker\":{\"colorbar\":{\"outlinewidth\":0,\"ticks\":\"\"}},\"type\":\"scattergeo\"}],\"scattergl\":[{\"marker\":{\"colorbar\":{\"outlinewidth\":0,\"ticks\":\"\"}},\"type\":\"scattergl\"}],\"scattermapbox\":[{\"marker\":{\"colorbar\":{\"outlinewidth\":0,\"ticks\":\"\"}},\"type\":\"scattermapbox\"}],\"scatterpolar\":[{\"marker\":{\"colorbar\":{\"outlinewidth\":0,\"ticks\":\"\"}},\"type\":\"scatterpolar\"}],\"scatterpolargl\":[{\"marker\":{\"colorbar\":{\"outlinewidth\":0,\"ticks\":\"\"}},\"type\":\"scatterpolargl\"}],\"scatterternary\":[{\"marker\":{\"colorbar\":{\"outlinewidth\":0,\"ticks\":\"\"}},\"type\":\"scatterternary\"}],\"surface\":[{\"colorbar\":{\"outlinewidth\":0,\"ticks\":\"\"},\"colorscale\":[[0.0,\"#0d0887\"],[0.1111111111111111,\"#46039f\"],[0.2222222222222222,\"#7201a8\"],[0.3333333333333333,\"#9c179e\"],[0.4444444444444444,\"#bd3786\"],[0.5555555555555556,\"#d8576b\"],[0.6666666666666666,\"#ed7953\"],[0.7777777777777778,\"#fb9f3a\"],[0.8888888888888888,\"#fdca26\"],[1.0,\"#f0f921\"]],\"type\":\"surface\"}],\"table\":[{\"cells\":{\"fill\":{\"color\":\"#EBF0F8\"},\"line\":{\"color\":\"white\"}},\"header\":{\"fill\":{\"color\":\"#C8D4E3\"},\"line\":{\"color\":\"white\"}},\"type\":\"table\"}]},\"layout\":{\"annotationdefaults\":{\"arrowcolor\":\"#2a3f5f\",\"arrowhead\":0,\"arrowwidth\":1},\"autotypenumbers\":\"strict\",\"coloraxis\":{\"colorbar\":{\"outlinewidth\":0,\"ticks\":\"\"}},\"colorscale\":{\"diverging\":[[0,\"#8e0152\"],[0.1,\"#c51b7d\"],[0.2,\"#de77ae\"],[0.3,\"#f1b6da\"],[0.4,\"#fde0ef\"],[0.5,\"#f7f7f7\"],[0.6,\"#e6f5d0\"],[0.7,\"#b8e186\"],[0.8,\"#7fbc41\"],[0.9,\"#4d9221\"],[1,\"#276419\"]],\"sequential\":[[0.0,\"#0d0887\"],[0.1111111111111111,\"#46039f\"],[0.2222222222222222,\"#7201a8\"],[0.3333333333333333,\"#9c179e\"],[0.4444444444444444,\"#bd3786\"],[0.5555555555555556,\"#d8576b\"],[0.6666666666666666,\"#ed7953\"],[0.7777777777777778,\"#fb9f3a\"],[0.8888888888888888,\"#fdca26\"],[1.0,\"#f0f921\"]],\"sequentialminus\":[[0.0,\"#0d0887\"],[0.1111111111111111,\"#46039f\"],[0.2222222222222222,\"#7201a8\"],[0.3333333333333333,\"#9c179e\"],[0.4444444444444444,\"#bd3786\"],[0.5555555555555556,\"#d8576b\"],[0.6666666666666666,\"#ed7953\"],[0.7777777777777778,\"#fb9f3a\"],[0.8888888888888888,\"#fdca26\"],[1.0,\"#f0f921\"]]},\"colorway\":[\"#636efa\",\"#EF553B\",\"#00cc96\",\"#ab63fa\",\"#FFA15A\",\"#19d3f3\",\"#FF6692\",\"#B6E880\",\"#FF97FF\",\"#FECB52\"],\"font\":{\"color\":\"#2a3f5f\"},\"geo\":{\"bgcolor\":\"white\",\"lakecolor\":\"white\",\"landcolor\":\"#E5ECF6\",\"showlakes\":true,\"showland\":true,\"subunitcolor\":\"white\"},\"hoverlabel\":{\"align\":\"left\"},\"hovermode\":\"closest\",\"mapbox\":{\"style\":\"light\"},\"paper_bgcolor\":\"white\",\"plot_bgcolor\":\"#E5ECF6\",\"polar\":{\"angularaxis\":{\"gridcolor\":\"white\",\"linecolor\":\"white\",\"ticks\":\"\"},\"bgcolor\":\"#E5ECF6\",\"radialaxis\":{\"gridcolor\":\"white\",\"linecolor\":\"white\",\"ticks\":\"\"}},\"scene\":{\"xaxis\":{\"backgroundcolor\":\"#E5ECF6\",\"gridcolor\":\"white\",\"gridwidth\":2,\"linecolor\":\"white\",\"showbackground\":true,\"ticks\":\"\",\"zerolinecolor\":\"white\"},\"yaxis\":{\"backgroundcolor\":\"#E5ECF6\",\"gridcolor\":\"white\",\"gridwidth\":2,\"linecolor\":\"white\",\"showbackground\":true,\"ticks\":\"\",\"zerolinecolor\":\"white\"},\"zaxis\":{\"backgroundcolor\":\"#E5ECF6\",\"gridcolor\":\"white\",\"gridwidth\":2,\"linecolor\":\"white\",\"showbackground\":true,\"ticks\":\"\",\"zerolinecolor\":\"white\"}},\"shapedefaults\":{\"line\":{\"color\":\"#2a3f5f\"}},\"ternary\":{\"aaxis\":{\"gridcolor\":\"white\",\"linecolor\":\"white\",\"ticks\":\"\"},\"baxis\":{\"gridcolor\":\"white\",\"linecolor\":\"white\",\"ticks\":\"\"},\"bgcolor\":\"#E5ECF6\",\"caxis\":{\"gridcolor\":\"white\",\"linecolor\":\"white\",\"ticks\":\"\"}},\"title\":{\"x\":0.05},\"xaxis\":{\"automargin\":true,\"gridcolor\":\"white\",\"linecolor\":\"white\",\"ticks\":\"\",\"title\":{\"standoff\":15},\"zerolinecolor\":\"white\",\"zerolinewidth\":2},\"yaxis\":{\"automargin\":true,\"gridcolor\":\"white\",\"linecolor\":\"white\",\"ticks\":\"\",\"title\":{\"standoff\":15},\"zerolinecolor\":\"white\",\"zerolinewidth\":2}}}},                        {\"responsive\": true}                    ).then(function(){\n",
              "                            \n",
              "var gd = document.getElementById('2c917b91-484b-4371-bcc5-85a8956d26d8');\n",
              "var x = new MutationObserver(function (mutations, observer) {{\n",
              "        var display = window.getComputedStyle(gd).display;\n",
              "        if (!display || display === 'none') {{\n",
              "            console.log([gd, 'removed!']);\n",
              "            Plotly.purge(gd);\n",
              "            observer.disconnect();\n",
              "        }}\n",
              "}});\n",
              "\n",
              "// Listen for the removal of the full notebook cells\n",
              "var notebookContainer = gd.closest('#notebook-container');\n",
              "if (notebookContainer) {{\n",
              "    x.observe(notebookContainer, {childList: true});\n",
              "}}\n",
              "\n",
              "// Listen for the clearing of the current output cell\n",
              "var outputEl = gd.closest('.output');\n",
              "if (outputEl) {{\n",
              "    x.observe(outputEl, {childList: true});\n",
              "}}\n",
              "\n",
              "                        })                };                            </script>        </div>\n",
              "</body>\n",
              "</html>"
            ]
          },
          "metadata": {}
        }
      ]
    },
    {
      "cell_type": "markdown",
      "source": [
        "## *standard deviation*"
      ],
      "metadata": {
        "id": "ykfVpIWEUdUe"
      }
    },
    {
      "cell_type": "code",
      "source": [
        "close =df_prices['Close']\n",
        "\n",
        "ma = close.rolling(window = 50).mean()\n",
        "std = close.rolling(window = 50).std()\n",
        "\n",
        "plt.figure(figsize=(20,10))\n",
        "df_prices['Close'].plot(color='g',label='Close')\n",
        "ma.plot(color = 'r',label='Rolling Mean')\n",
        "std.plot(label = 'Rolling Standard Deviation')\n",
        "\n",
        "plt.legend()"
      ],
      "metadata": {
        "colab": {
          "base_uri": "https://localhost:8080/",
          "height": 588
        },
        "id": "yyhqBN5iUcxd",
        "outputId": "e3db019c-1a7c-4b28-828f-46d87fb336cf"
      },
      "execution_count": null,
      "outputs": [
        {
          "output_type": "execute_result",
          "data": {
            "text/plain": [
              "<matplotlib.legend.Legend at 0x7fec5eca3090>"
            ]
          },
          "metadata": {},
          "execution_count": 158
        },
        {
          "output_type": "display_data",
          "data": {
            "text/plain": [
              "<Figure size 1440x720 with 1 Axes>"
            ],
            "image/png": "[encoded data removed]"
          },
          "metadata": {
            "needs_background": "light"
          }
        }
      ]
    },
    {
      "cell_type": "markdown",
      "source": [
        "# *isolating the time series from the Trend and Seasonality*"
      ],
      "metadata": {
        "id": "DHoR8YzSzi-w"
      }
    },
    {
      "cell_type": "code",
      "source": [
        "from statsmodels.tsa.seasonal import seasonal_decompose\n",
        "\n",
        "# Perform additive decomposition\n",
        "decomp = seasonal_decompose(df_prices['Close'],model='additive', period=12)\n",
        "\n",
        "# Plot decomposition\n",
        "decomp.plot();\n",
        "plt.tight_layout();"
      ],
      "metadata": {
        "colab": {
          "base_uri": "https://localhost:8080/",
          "height": 297
        },
        "id": "n2PRa0IxAlzi",
        "outputId": "8e4aa778-584d-456c-a3e7-a2f372543653"
      },
      "execution_count": null,
      "outputs": [
        {
          "output_type": "display_data",
          "data": {
            "text/plain": [
              "<Figure size 432x288 with 4 Axes>"
            ],
            "image/png": "[encoded data removed]"
          },
          "metadata": {
            "needs_background": "light"
          }
        }
      ]
    },
    {
      "cell_type": "markdown",
      "source": [
        "as the chart illustrates we have a seasonality in the presence of a trend , with a frequence of 25 days\n"
      ],
      "metadata": {
        "id": "kdotQVl2ncO3"
      }
    },
    {
      "cell_type": "markdown",
      "source": [
        "## *cheking from the stationarity with ADF_test*"
      ],
      "metadata": {
        "id": "sWDFrhDOnPDY"
      }
    },
    {
      "cell_type": "code",
      "source": [
        "from statsmodels.tsa.stattools import adfuller\n",
        "def adf_test(series):\n",
        "    print(\"Results of Dickey-Fuller Test:\")\n",
        "    dftest = adfuller(series, autolag=\"AIC\")\n",
        "    dfoutput = pd.Series(\n",
        "        dftest[0:4],\n",
        "        index=[\n",
        "            \"Test Statistic\",\n",
        "            \"p-value\",\n",
        "            \"#Lags Used\",\n",
        "            \"Number of Observations Used\",\n",
        "        ],\n",
        "    )\n",
        "    for key, value in dftest[4].items():\n",
        "        dfoutput[\"Critical Value (%s)\" % key] = value\n",
        "    print(dfoutput)\n",
        "adf_test(df_prices['Close'])"
      ],
      "metadata": {
        "colab": {
          "base_uri": "https://localhost:8080/"
        },
        "id": "K-o5TiIhzSxv",
        "outputId": "e2339473-93f6-42a7-e48e-b4f4111d9d6c"
      },
      "execution_count": null,
      "outputs": [
        {
          "output_type": "stream",
          "name": "stdout",
          "text": [
            "Results of Dickey-Fuller Test:\n",
            "Test Statistic                  -0.698285\n",
            "p-value                          0.847193\n",
            "#Lags Used                       6.000000\n",
            "Number of Observations Used    243.000000\n",
            "Critical Value (1%)             -3.457551\n",
            "Critical Value (5%)             -2.873509\n",
            "Critical Value (10%)            -2.573148\n",
            "dtype: float64\n"
          ]
        }
      ]
    },
    {
      "cell_type": "markdown",
      "source": [
        "# *differentiating*"
      ],
      "metadata": {
        "id": "SZ2SJoNgz0xz"
      }
    },
    {
      "cell_type": "code",
      "source": [
        "#using diff() methode to defrentiate with a sated frequency of a day-1 using shift ()\n",
        "diff=df_prices.diff().shift(1)\n",
        "diff= pd.DataFrame(diff)\n",
        "diff.dropna(inplace=True)\n",
        "diff"
      ],
      "metadata": {
        "colab": {
          "base_uri": "https://localhost:8080/",
          "height": 455
        },
        "id": "s_rgkbNXzqTI",
        "outputId": "8163fc5c-1cbc-474c-8690-8c72249ea25a"
      },
      "execution_count": null,
      "outputs": [
        {
          "output_type": "execute_result",
          "data": {
            "text/plain": [
              "                  Open        High         Low       Close   Adj Close  \\\n",
              "Date                                                                     \n",
              "2019-12-19  390.390625  213.121093  353.289062  206.398438  206.398438   \n",
              "2019-12-20  129.070313  104.519532   97.929688  115.351562  115.351562   \n",
              "2019-12-23  174.378906   90.671875  179.710937    7.617188    7.617188   \n",
              "2019-12-24 -197.937500 -108.339844 -161.500000  -38.878907  -38.878907   \n",
              "2019-12-26  136.250000    1.359375  -51.539062 -181.398437 -181.398437   \n",
              "...                ...         ...         ...         ...         ...   \n",
              "2020-12-11  108.382812 -120.132813 -106.140625 -143.621094 -143.621094   \n",
              "2020-12-14   60.898438  265.660156   20.347656  139.132813  139.132813   \n",
              "2020-12-15  224.378906   63.710938  245.312500  154.449219  154.449219   \n",
              "2020-12-16    2.691406  -23.039063 -109.859375    9.710937    9.710937   \n",
              "2020-12-17  285.917969  354.667969  560.527344  403.289063  403.289063   \n",
              "\n",
              "             Volume  year  Month  \n",
              "Date                              \n",
              "2019-12-19   5300.0   0.0    0.0  \n",
              "2019-12-20   9000.0   0.0    0.0  \n",
              "2019-12-23    300.0   0.0    0.0  \n",
              "2019-12-24 -27400.0   0.0    0.0  \n",
              "2019-12-26  -1800.0   0.0    0.0  \n",
              "...             ...   ...    ...  \n",
              "2020-12-11  -8000.0   0.0    0.0  \n",
              "2020-12-14  13600.0   0.0    0.0  \n",
              "2020-12-15  -7900.0   0.0    0.0  \n",
              "2020-12-16  -2000.0   0.0    0.0  \n",
              "2020-12-17  -3300.0   0.0    0.0  \n",
              "\n",
              "[248 rows x 8 columns]"
            ],
            "text/html": [
              "\n",
              "  <div id=\"df-61845478-49d2-42fa-932a-fbf17d7a188f\">\n",
              "    <div class=\"colab-df-container\">\n",
              "      <div>\n",
              "<style scoped>\n",
              "    .dataframe tbody tr th:only-of-type {\n",
              "        vertical-align: middle;\n",
              "    }\n",
              "\n",
              "    .dataframe tbody tr th {\n",
              "        vertical-align: top;\n",
              "    }\n",
              "\n",
              "    .dataframe thead th {\n",
              "        text-align: right;\n",
              "    }\n",
              "</style>\n",
              "<table border=\"1\" class=\"dataframe\">\n",
              "  <thead>\n",
              "    <tr style=\"text-align: right;\">\n",
              "      <th></th>\n",
              "      <th>Open</th>\n",
              "      <th>High</th>\n",
              "      <th>Low</th>\n",
              "      <th>Close</th>\n",
              "      <th>Adj Close</th>\n",
              "      <th>Volume</th>\n",
              "      <th>year</th>\n",
              "      <th>Month</th>\n",
              "    </tr>\n",
              "    <tr>\n",
              "      <th>Date</th>\n",
              "      <th></th>\n",
              "      <th></th>\n",
              "      <th></th>\n",
              "      <th></th>\n",
              "      <th></th>\n",
              "      <th></th>\n",
              "      <th></th>\n",
              "      <th></th>\n",
              "    </tr>\n",
              "  </thead>\n",
              "  <tbody>\n",
              "    <tr>\n",
              "      <th>2019-12-19</th>\n",
              "      <td>390.390625</td>\n",
              "      <td>213.121093</td>\n",
              "      <td>353.289062</td>\n",
              "      <td>206.398438</td>\n",
              "      <td>206.398438</td>\n",
              "      <td>5300.0</td>\n",
              "      <td>0.0</td>\n",
              "      <td>0.0</td>\n",
              "    </tr>\n",
              "    <tr>\n",
              "      <th>2019-12-20</th>\n",
              "      <td>129.070313</td>\n",
              "      <td>104.519532</td>\n",
              "      <td>97.929688</td>\n",
              "      <td>115.351562</td>\n",
              "      <td>115.351562</td>\n",
              "      <td>9000.0</td>\n",
              "      <td>0.0</td>\n",
              "      <td>0.0</td>\n",
              "    </tr>\n",
              "    <tr>\n",
              "      <th>2019-12-23</th>\n",
              "      <td>174.378906</td>\n",
              "      <td>90.671875</td>\n",
              "      <td>179.710937</td>\n",
              "      <td>7.617188</td>\n",
              "      <td>7.617188</td>\n",
              "      <td>300.0</td>\n",
              "      <td>0.0</td>\n",
              "      <td>0.0</td>\n",
              "    </tr>\n",
              "    <tr>\n",
              "      <th>2019-12-24</th>\n",
              "      <td>-197.937500</td>\n",
              "      <td>-108.339844</td>\n",
              "      <td>-161.500000</td>\n",
              "      <td>-38.878907</td>\n",
              "      <td>-38.878907</td>\n",
              "      <td>-27400.0</td>\n",
              "      <td>0.0</td>\n",
              "      <td>0.0</td>\n",
              "    </tr>\n",
              "    <tr>\n",
              "      <th>2019-12-26</th>\n",
              "      <td>136.250000</td>\n",
              "      <td>1.359375</td>\n",
              "      <td>-51.539062</td>\n",
              "      <td>-181.398437</td>\n",
              "      <td>-181.398437</td>\n",
              "      <td>-1800.0</td>\n",
              "      <td>0.0</td>\n",
              "      <td>0.0</td>\n",
              "    </tr>\n",
              "    <tr>\n",
              "      <th>...</th>\n",
              "      <td>...</td>\n",
              "      <td>...</td>\n",
              "      <td>...</td>\n",
              "      <td>...</td>\n",
              "      <td>...</td>\n",
              "      <td>...</td>\n",
              "      <td>...</td>\n",
              "      <td>...</td>\n",
              "    </tr>\n",
              "    <tr>\n",
              "      <th>2020-12-11</th>\n",
              "      <td>108.382812</td>\n",
              "      <td>-120.132813</td>\n",
              "      <td>-106.140625</td>\n",
              "      <td>-143.621094</td>\n",
              "      <td>-143.621094</td>\n",
              "      <td>-8000.0</td>\n",
              "      <td>0.0</td>\n",
              "      <td>0.0</td>\n",
              "    </tr>\n",
              "    <tr>\n",
              "      <th>2020-12-14</th>\n",
              "      <td>60.898438</td>\n",
              "      <td>265.660156</td>\n",
              "      <td>20.347656</td>\n",
              "      <td>139.132813</td>\n",
              "      <td>139.132813</td>\n",
              "      <td>13600.0</td>\n",
              "      <td>0.0</td>\n",
              "      <td>0.0</td>\n",
              "    </tr>\n",
              "    <tr>\n",
              "      <th>2020-12-15</th>\n",
              "      <td>224.378906</td>\n",
              "      <td>63.710938</td>\n",
              "      <td>245.312500</td>\n",
              "      <td>154.449219</td>\n",
              "      <td>154.449219</td>\n",
              "      <td>-7900.0</td>\n",
              "      <td>0.0</td>\n",
              "      <td>0.0</td>\n",
              "    </tr>\n",
              "    <tr>\n",
              "      <th>2020-12-16</th>\n",
              "      <td>2.691406</td>\n",
              "      <td>-23.039063</td>\n",
              "      <td>-109.859375</td>\n",
              "      <td>9.710937</td>\n",
              "      <td>9.710937</td>\n",
              "      <td>-2000.0</td>\n",
              "      <td>0.0</td>\n",
              "      <td>0.0</td>\n",
              "    </tr>\n",
              "    <tr>\n",
              "      <th>2020-12-17</th>\n",
              "      <td>285.917969</td>\n",
              "      <td>354.667969</td>\n",
              "      <td>560.527344</td>\n",
              "      <td>403.289063</td>\n",
              "      <td>403.289063</td>\n",
              "      <td>-3300.0</td>\n",
              "      <td>0.0</td>\n",
              "      <td>0.0</td>\n",
              "    </tr>\n",
              "  </tbody>\n",
              "</table>\n",
              "<p>248 rows × 8 columns</p>\n",
              "</div>\n",
              "      <button class=\"colab-df-convert\" onclick=\"convertToInteractive('df-61845478-49d2-42fa-932a-fbf17d7a188f')\"\n",
              "              title=\"Convert this dataframe to an interactive table.\"\n",
              "              style=\"display:none;\">\n",
              "        \n",
              "  <svg xmlns=\"http://www.w3.org/2000/svg\" height=\"24px\"viewBox=\"0 0 24 24\"\n",
              "       width=\"24px\">\n",
              "    <path d=\"M0 0h24v24H0V0z\" fill=\"none\"/>\n",
              "    <path d=\"M18.56 5.44l.94 2.06.94-2.06 2.06-.94-2.06-.94-.94-2.06-.94 2.06-2.06.94zm-11 1L8.5 8.5l.94-2.06 2.06-.94-2.06-.94L8.5 2.5l-.94 2.06-2.06.94zm10 10l.94 2.06.94-2.06 2.06-.94-2.06-.94-.94-2.06-.94 2.06-2.06.94z\"/><path d=\"M17.41 7.96l-1.37-1.37c-.4-.4-.92-.59-1.43-.59-.52 0-1.04.2-1.43.59L10.3 9.45l-7.72 7.72c-.78.78-.78 2.05 0 2.83L4 21.41c.39.39.9.59 1.41.59.51 0 1.02-.2 1.41-.59l7.78-7.78 2.81-2.81c.8-.78.8-2.07 0-2.86zM5.41 20L4 18.59l7.72-7.72 1.47 1.35L5.41 20z\"/>\n",
              "  </svg>\n",
              "      </button>\n",
              "      \n",
              "  <style>\n",
              "    .colab-df-container {\n",
              "      display:flex;\n",
              "      flex-wrap:wrap;\n",
              "      gap: 12px;\n",
              "    }\n",
              "\n",
              "    .colab-df-convert {\n",
              "      background-color: #E8F0FE;\n",
              "      border: none;\n",
              "      border-radius: 50%;\n",
              "      cursor: pointer;\n",
              "      display: none;\n",
              "      fill: #1967D2;\n",
              "      height: 32px;\n",
              "      padding: 0 0 0 0;\n",
              "      width: 32px;\n",
              "    }\n",
              "\n",
              "    .colab-df-convert:hover {\n",
              "      background-color: #E2EBFA;\n",
              "      box-shadow: 0px 1px 2px rgba(60, 64, 67, 0.3), 0px 1px 3px 1px rgba(60, 64, 67, 0.15);\n",
              "      fill: #174EA6;\n",
              "    }\n",
              "\n",
              "    [theme=dark] .colab-df-convert {\n",
              "      background-color: #3B4455;\n",
              "      fill: #D2E3FC;\n",
              "    }\n",
              "\n",
              "    [theme=dark] .colab-df-convert:hover {\n",
              "      background-color: #434B5C;\n",
              "      box-shadow: 0px 1px 3px 1px rgba(0, 0, 0, 0.15);\n",
              "      filter: drop-shadow(0px 1px 2px rgba(0, 0, 0, 0.3));\n",
              "      fill: #FFFFFF;\n",
              "    }\n",
              "  </style>\n",
              "\n",
              "      <script>\n",
              "        const buttonEl =\n",
              "          document.querySelector('#df-61845478-49d2-42fa-932a-fbf17d7a188f button.colab-df-convert');\n",
              "        buttonEl.style.display =\n",
              "          google.colab.kernel.accessAllowed ? 'block' : 'none';\n",
              "\n",
              "        async function convertToInteractive(key) {\n",
              "          const element = document.querySelector('#df-61845478-49d2-42fa-932a-fbf17d7a188f');\n",
              "          const dataTable =\n",
              "            await google.colab.kernel.invokeFunction('convertToInteractive',\n",
              "                                                     [key], {});\n",
              "          if (!dataTable) return;\n",
              "\n",
              "          const docLinkHtml = 'Like what you see? Visit the ' +\n",
              "            '<a target=\"_blank\" href=https://colab.research.google.com/notebooks/data_table.ipynb>data table notebook</a>'\n",
              "            + ' to learn more about interactive tables.';\n",
              "          element.innerHTML = '';\n",
              "          dataTable['output_type'] = 'display_data';\n",
              "          await google.colab.output.renderOutput(dataTable, element);\n",
              "          const docLink = document.createElement('div');\n",
              "          docLink.innerHTML = docLinkHtml;\n",
              "          element.appendChild(docLink);\n",
              "        }\n",
              "      </script>\n",
              "    </div>\n",
              "  </div>\n",
              "  "
            ]
          },
          "metadata": {},
          "execution_count": 161
        }
      ]
    },
    {
      "cell_type": "code",
      "source": [
        "x=diff['Close']\n",
        "ax = x.plot()\n",
        "ax.legend(ncol=5, \n",
        "          loc='upper center',\n",
        "          bbox_to_anchor=(0.5, 1.0),\n",
        "          bbox_transform=plt.gcf().transFigure)\n",
        "for yr in range(2020, 2021):\n",
        "    ax.axvline(pd.to_datetime(str(yr)+\"-01-01\"), color =\"red\", linestyle = \"--\", alpha = 0.2)"
      ],
      "metadata": {
        "colab": {
          "base_uri": "https://localhost:8080/",
          "height": 307
        },
        "id": "ZTqLP59C1bbY",
        "outputId": "b043eb2d-c776-4366-bb88-c5583d10acc7"
      },
      "execution_count": null,
      "outputs": [
        {
          "output_type": "display_data",
          "data": {
            "text/plain": [
              "<Figure size 432x288 with 1 Axes>"
            ],
            "image/png": "[encoded data removed]"
          },
          "metadata": {
            "needs_background": "light"
          }
        }
      ]
    },
    {
      "cell_type": "markdown",
      "source": [
        "##  Partial Auto-Correlation Function (PACF) plot\n"
      ],
      "metadata": {
        "id": "ZViZfE74gsLe"
      }
    },
    {
      "cell_type": "code",
      "source": [
        "from statsmodels.graphics.tsaplots import plot_acf\n",
        "plot_acf(x)\n",
        "plt.show()"
      ],
      "metadata": {
        "colab": {
          "base_uri": "https://localhost:8080/",
          "height": 281
        },
        "id": "4S4YlSih2Cz4",
        "outputId": "f2ed3a84-1b82-4885-efb9-1bd9c8deef3b"
      },
      "execution_count": null,
      "outputs": [
        {
          "output_type": "display_data",
          "data": {
            "text/plain": [
              "<Figure size 432x288 with 1 Axes>"
            ],
            "image/png": "[encoded data removed]"
          },
          "metadata": {
            "needs_background": "light"
          }
        }
      ]
    },
    {
      "cell_type": "code",
      "source": [
        "from statsmodels.graphics.tsaplots import plot_pacf\n",
        "plot_pacf(x)\n",
        "plt.show()"
      ],
      "metadata": {
        "colab": {
          "base_uri": "https://localhost:8080/",
          "height": 281
        },
        "id": "jXNFsH88231I",
        "outputId": "2a80e904-040d-4cf8-865d-e7c46fe170d5"
      },
      "execution_count": null,
      "outputs": [
        {
          "output_type": "display_data",
          "data": {
            "text/plain": [
              "<Figure size 432x288 with 1 Axes>"
            ],
            "image/png": "[encoded data removed]"
          },
          "metadata": {
            "needs_background": "light"
          }
        }
      ]
    },
    {
      "cell_type": "code",
      "source": [
        "def adf_test(series):\n",
        "    print(\"Results of Dickey-Fuller Test:\")\n",
        "    dftest = adfuller(series, autolag=\"AIC\")\n",
        "    dfoutput = pd.Series(\n",
        "        dftest[0:4],\n",
        "        index=[\n",
        "            \"Test Statistic\",\n",
        "            \"p-value\",\n",
        "            \"#Lags Used\",\n",
        "            \"Number of Observations Used\",\n",
        "        ],\n",
        "    )\n",
        "    for key, value in dftest[4].items():\n",
        "        dfoutput[\"Critical Value (%s)\" % key] = value\n",
        "    print(dfoutput)\n",
        "adf_test(x)\n",
        "\n"
      ],
      "metadata": {
        "colab": {
          "base_uri": "https://localhost:8080/"
        },
        "id": "W8WczElO3Bk0",
        "outputId": "9dbe8bc5-3b67-44b6-bdbe-191adf3f276a"
      },
      "execution_count": null,
      "outputs": [
        {
          "output_type": "stream",
          "name": "stdout",
          "text": [
            "Results of Dickey-Fuller Test:\n",
            "Test Statistic                  -5.459151\n",
            "p-value                          0.000003\n",
            "#Lags Used                       5.000000\n",
            "Number of Observations Used    242.000000\n",
            "Critical Value (1%)             -3.457664\n",
            "Critical Value (5%)             -2.873559\n",
            "Critical Value (10%)            -2.573175\n",
            "dtype: float64\n"
          ]
        }
      ]
    },
    {
      "cell_type": "markdown",
      "source": [
        "p_value is way smaller than 0.05 so the serie is stationary"
      ],
      "metadata": {
        "id": "XsJWYt_F3qwL"
      }
    },
    {
      "cell_type": "markdown",
      "source": [
        "# prediction with Arima model"
      ],
      "metadata": {
        "id": "ZdNCveNda2JA"
      }
    },
    {
      "cell_type": "code",
      "source": [
        "!pip install statsmodels\n",
        "!pip install  pmdarima\n"
      ],
      "metadata": {
        "colab": {
          "base_uri": "https://localhost:8080/"
        },
        "id": "WSwcC2o34XUY",
        "outputId": "351df4b8-624d-4d5d-db64-2314c5e80a40"
      },
      "execution_count": null,
      "outputs": [
        {
          "output_type": "stream",
          "name": "stdout",
          "text": [
            "Looking in indexes: https://pypi.org/simple, https://us-python.pkg.dev/colab-wheels/public/simple/\n",
            "Requirement already satisfied: statsmodels in /usr/local/lib/python3.7/dist-packages (0.13.5)\n",
            "Requirement already satisfied: scipy>=1.3 in /usr/local/lib/python3.7/dist-packages (from statsmodels) (1.7.3)\n",
            "Requirement already satisfied: pandas>=0.25 in /usr/local/lib/python3.7/dist-packages (from statsmodels) (1.3.5)\n",
            "Requirement already satisfied: numpy>=1.17 in /usr/local/lib/python3.7/dist-packages (from statsmodels) (1.21.6)\n",
            "Requirement already satisfied: packaging>=21.3 in /usr/local/lib/python3.7/dist-packages (from statsmodels) (21.3)\n",
            "Requirement already satisfied: patsy>=0.5.2 in /usr/local/lib/python3.7/dist-packages (from statsmodels) (0.5.3)\n",
            "Requirement already satisfied: pyparsing!=3.0.5,>=2.0.2 in /usr/local/lib/python3.7/dist-packages (from packaging>=21.3->statsmodels) (3.0.9)\n",
            "Requirement already satisfied: pytz>=2017.3 in /usr/local/lib/python3.7/dist-packages (from pandas>=0.25->statsmodels) (2022.6)\n",
            "Requirement already satisfied: python-dateutil>=2.7.3 in /usr/local/lib/python3.7/dist-packages (from pandas>=0.25->statsmodels) (2.8.2)\n",
            "Requirement already satisfied: six in /usr/local/lib/python3.7/dist-packages (from patsy>=0.5.2->statsmodels) (1.15.0)\n",
            "Looking in indexes: https://pypi.org/simple, https://us-python.pkg.dev/colab-wheels/public/simple/\n",
            "Requirement already satisfied: pmdarima in /usr/local/lib/python3.7/dist-packages (2.0.1)\n",
            "Requirement already satisfied: pandas>=0.19 in /usr/local/lib/python3.7/dist-packages (from pmdarima) (1.3.5)\n",
            "Requirement already satisfied: urllib3 in /usr/local/lib/python3.7/dist-packages (from pmdarima) (1.24.3)\n",
            "Requirement already satisfied: numpy>=1.21 in /usr/local/lib/python3.7/dist-packages (from pmdarima) (1.21.6)\n",
            "Requirement already satisfied: Cython!=0.29.18,!=0.29.31,>=0.29 in /usr/local/lib/python3.7/dist-packages (from pmdarima) (0.29.32)\n",
            "Requirement already satisfied: scipy>=1.3.2 in /usr/local/lib/python3.7/dist-packages (from pmdarima) (1.7.3)\n",
            "Requirement already satisfied: scikit-learn>=0.22 in /usr/local/lib/python3.7/dist-packages (from pmdarima) (1.0.2)\n",
            "Requirement already satisfied: setuptools!=50.0.0,>=38.6.0 in /usr/local/lib/python3.7/dist-packages (from pmdarima) (57.4.0)\n",
            "Requirement already satisfied: joblib>=0.11 in /usr/local/lib/python3.7/dist-packages (from pmdarima) (1.2.0)\n",
            "Requirement already satisfied: statsmodels>=0.13.2 in /usr/local/lib/python3.7/dist-packages (from pmdarima) (0.13.5)\n",
            "Requirement already satisfied: python-dateutil>=2.7.3 in /usr/local/lib/python3.7/dist-packages (from pandas>=0.19->pmdarima) (2.8.2)\n",
            "Requirement already satisfied: pytz>=2017.3 in /usr/local/lib/python3.7/dist-packages (from pandas>=0.19->pmdarima) (2022.6)\n",
            "Requirement already satisfied: six>=1.5 in /usr/local/lib/python3.7/dist-packages (from python-dateutil>=2.7.3->pandas>=0.19->pmdarima) (1.15.0)\n",
            "Requirement already satisfied: threadpoolctl>=2.0.0 in /usr/local/lib/python3.7/dist-packages (from scikit-learn>=0.22->pmdarima) (3.1.0)\n",
            "Requirement already satisfied: patsy>=0.5.2 in /usr/local/lib/python3.7/dist-packages (from statsmodels>=0.13.2->pmdarima) (0.5.3)\n",
            "Requirement already satisfied: packaging>=21.3 in /usr/local/lib/python3.7/dist-packages (from statsmodels>=0.13.2->pmdarima) (21.3)\n",
            "Requirement already satisfied: pyparsing!=3.0.5,>=2.0.2 in /usr/local/lib/python3.7/dist-packages (from packaging>=21.3->statsmodels>=0.13.2->pmdarima) (3.0.9)\n"
          ]
        }
      ]
    },
    {
      "cell_type": "code",
      "source": [
        "from pmdarima import auto_arima\n",
        "from statsmodels.tsa.statespace.sarimax import SARIMAX\n",
        "from datetime import datetime\n",
        "from datetime import timedelta\n",
        "from time import time"
      ],
      "metadata": {
        "id": "4v3-le3pow9J"
      },
      "execution_count": null,
      "outputs": []
    },
    {
      "cell_type": "code",
      "source": [
        "fit = auto_arima(diff['Close'], trace=True,\n",
        "suppress_warnings=True)"
      ],
      "metadata": {
        "colab": {
          "base_uri": "https://localhost:8080/"
        },
        "id": "zZi6WPpsqD37",
        "outputId": "aa5f996b-6701-4db6-8c6a-32accdb27875"
      },
      "execution_count": null,
      "outputs": [
        {
          "output_type": "stream",
          "name": "stdout",
          "text": [
            "Performing stepwise search to minimize aic\n",
            " ARIMA(2,1,2)(0,0,0)[0] intercept   : AIC=inf, Time=1.45 sec\n",
            " ARIMA(0,1,0)(0,0,0)[0] intercept   : AIC=4109.575, Time=0.02 sec\n",
            " ARIMA(1,1,0)(0,0,0)[0] intercept   : AIC=4002.091, Time=0.04 sec\n",
            " ARIMA(0,1,1)(0,0,0)[0] intercept   : AIC=inf, Time=0.12 sec\n",
            " ARIMA(0,1,0)(0,0,0)[0]             : AIC=4107.577, Time=0.03 sec\n",
            " ARIMA(2,1,0)(0,0,0)[0] intercept   : AIC=3964.495, Time=0.12 sec\n",
            " ARIMA(3,1,0)(0,0,0)[0] intercept   : AIC=3951.645, Time=0.18 sec\n",
            " ARIMA(4,1,0)(0,0,0)[0] intercept   : AIC=3921.084, Time=0.23 sec\n",
            " ARIMA(5,1,0)(0,0,0)[0] intercept   : AIC=3921.834, Time=0.13 sec\n",
            " ARIMA(4,1,1)(0,0,0)[0] intercept   : AIC=inf, Time=0.86 sec\n",
            " ARIMA(3,1,1)(0,0,0)[0] intercept   : AIC=inf, Time=0.95 sec\n",
            " ARIMA(5,1,1)(0,0,0)[0] intercept   : AIC=inf, Time=0.99 sec\n",
            " ARIMA(4,1,0)(0,0,0)[0]             : AIC=3919.084, Time=0.06 sec\n",
            " ARIMA(3,1,0)(0,0,0)[0]             : AIC=3949.645, Time=0.04 sec\n",
            " ARIMA(5,1,0)(0,0,0)[0]             : AIC=3919.829, Time=0.07 sec\n",
            " ARIMA(4,1,1)(0,0,0)[0]             : AIC=3914.627, Time=0.48 sec\n",
            " ARIMA(3,1,1)(0,0,0)[0]             : AIC=3912.923, Time=0.46 sec\n",
            " ARIMA(2,1,1)(0,0,0)[0]             : AIC=3912.545, Time=0.65 sec\n",
            " ARIMA(1,1,1)(0,0,0)[0]             : AIC=3911.191, Time=0.48 sec\n",
            " ARIMA(0,1,1)(0,0,0)[0]             : AIC=3914.628, Time=0.31 sec\n",
            " ARIMA(1,1,0)(0,0,0)[0]             : AIC=4000.091, Time=0.07 sec\n",
            " ARIMA(1,1,2)(0,0,0)[0]             : AIC=3918.177, Time=0.60 sec\n",
            " ARIMA(0,1,2)(0,0,0)[0]             : AIC=3911.951, Time=0.85 sec\n",
            " ARIMA(2,1,0)(0,0,0)[0]             : AIC=3962.495, Time=0.09 sec\n",
            " ARIMA(2,1,2)(0,0,0)[0]             : AIC=inf, Time=1.31 sec\n",
            " ARIMA(1,1,1)(0,0,0)[0] intercept   : AIC=inf, Time=0.56 sec\n",
            "\n",
            "Best model:  ARIMA(1,1,1)(0,0,0)[0]          \n",
            "Total fit time: 11.257 seconds\n"
          ]
        }
      ]
    },
    {
      "cell_type": "code",
      "source": [
        "train = df_prices[:125]\n",
        "test = df_prices[125:]\n",
        "train_log = np.log(train['Close']) \n",
        "test_log = np.log(test['Close'])"
      ],
      "metadata": {
        "id": "uzCD5LP9FC1G"
      },
      "execution_count": null,
      "outputs": []
    },
    {
      "cell_type": "code",
      "source": [
        "model = auto_arima(train_log, trace = True, error_action = 'ignore', suppress_warnings = True)\n",
        "model.fit(train_log)\n",
        "predictions = model.predict(periods = len(test))\n",
        "predictions = pd.DataFrame(predictions,index = test_log.index,columns=['Prediction'])"
      ],
      "metadata": {
        "colab": {
          "base_uri": "https://localhost:8080/"
        },
        "id": "TKyTDesl6AFi",
        "outputId": "c816f4e9-edd1-4b6a-ade0-bb80d71a7efa"
      },
      "execution_count": null,
      "outputs": [
        {
          "output_type": "stream",
          "name": "stdout",
          "text": [
            "Performing stepwise search to minimize aic\n",
            " ARIMA(2,1,2)(0,0,0)[0] intercept   : AIC=-537.046, Time=1.45 sec\n",
            " ARIMA(0,1,0)(0,0,0)[0] intercept   : AIC=-540.075, Time=0.11 sec\n",
            " ARIMA(1,1,0)(0,0,0)[0] intercept   : AIC=-541.630, Time=0.17 sec\n",
            " ARIMA(0,1,1)(0,0,0)[0] intercept   : AIC=-541.308, Time=0.19 sec\n",
            " ARIMA(0,1,0)(0,0,0)[0]             : AIC=-541.757, Time=0.07 sec\n",
            " ARIMA(1,1,1)(0,0,0)[0] intercept   : AIC=-539.665, Time=0.12 sec\n",
            "\n",
            "Best model:  ARIMA(0,1,0)(0,0,0)[0]          \n",
            "Total fit time: 2.131 seconds\n"
          ]
        }
      ]
    },
    {
      "cell_type": "code",
      "source": [
        "plt.plot(train_log, label='Train')\n",
        "plt.plot(test_log, label='Test')\n",
        "plt.plot(predictions, label='Prediction')\n",
        "plt.title('BSESN Stock Price Prediction')\n",
        "plt.xlabel('Time')\n",
        "plt.ylabel('Actual Stock Price')"
      ],
      "metadata": {
        "colab": {
          "base_uri": "https://localhost:8080/",
          "height": 312
        },
        "id": "eI7DAqvE6TFU",
        "outputId": "8dbe85ad-b4a9-4aea-dc57-2421acf483b6"
      },
      "execution_count": null,
      "outputs": [
        {
          "output_type": "execute_result",
          "data": {
            "text/plain": [
              "Text(0, 0.5, 'Actual Stock Price')"
            ]
          },
          "metadata": {},
          "execution_count": 171
        },
        {
          "output_type": "display_data",
          "data": {
            "text/plain": [
              "<Figure size 432x288 with 1 Axes>"
            ],
            "image/png": "[encoded data removed]"
          },
          "metadata": {
            "needs_background": "light"
          }
        }
      ]
    },
    {
      "cell_type": "markdown",
      "source": [
        "# *Sentiment Analysis*"
      ],
      "metadata": {
        "id": "QB2HrR58vRqg"
      }
    },
    {
      "cell_type": "code",
      "source": [
        "# concatenating the datasets stock_price and stock_headlines\n",
        "stock_data = pd.concat([df_prices,news], axis=1)\n",
        "\n",
        "# dropping the null values if any\n",
        "stock_data.dropna(axis=0, inplace=True)\n",
        "\n",
        "# displaying the combined stock_data\n",
        "stock_data"
      ],
      "metadata": {
        "colab": {
          "base_uri": "https://localhost:8080/",
          "height": 455
        },
        "id": "RA0UQl-_uiUq",
        "outputId": "e6af873b-7ca9-4593-d142-115a1adf91b3"
      },
      "execution_count": null,
      "outputs": [
        {
          "output_type": "execute_result",
          "data": {
            "text/plain": [
              "                    Open          High           Low         Close  \\\n",
              "Date                                                                 \n",
              "2019-12-17  41052.359375  41401.648438  41005.179688  41352.171875   \n",
              "2019-12-18  41442.750000  41614.769531  41358.468750  41558.570313   \n",
              "2019-12-19  41571.820313  41719.289063  41456.398438  41673.921875   \n",
              "2019-12-20  41746.199219  41809.960938  41636.109375  41681.539063   \n",
              "2019-12-23  41548.261719  41701.621094  41474.609375  41642.660156   \n",
              "...                  ...           ...           ...           ...   \n",
              "2020-12-11  46060.320313  46309.628906  45706.218750  46099.011719   \n",
              "2020-12-14  46284.699219  46373.339844  45951.531250  46253.460938   \n",
              "2020-12-15  46287.390625  46350.300781  45841.671875  46263.171875   \n",
              "2020-12-16  46573.308594  46704.968750  46402.199219  46666.460938   \n",
              "2020-12-17  46774.320313  46992.570313  46627.601563  46890.339844   \n",
              "\n",
              "               Adj Close   Volume    year  Month  \\\n",
              "Date                                               \n",
              "2019-12-17  41352.171875  19000.0  2019.0   12.0   \n",
              "2019-12-18  41558.570313  24300.0  2019.0   12.0   \n",
              "2019-12-19  41673.921875  33300.0  2019.0   12.0   \n",
              "2019-12-20  41681.539063  33600.0  2019.0   12.0   \n",
              "2019-12-23  41642.660156   6200.0  2019.0   12.0   \n",
              "...                  ...      ...     ...    ...   \n",
              "2020-12-11  46099.011719  26300.0  2020.0   12.0   \n",
              "2020-12-14  46253.460938  18400.0  2020.0   12.0   \n",
              "2020-12-15  46263.171875  16400.0  2020.0   12.0   \n",
              "2020-12-16  46666.460938  13100.0  2020.0   12.0   \n",
              "2020-12-17  46890.339844      0.0  2020.0   12.0   \n",
              "\n",
              "                                                         News  \n",
              "Date                                                           \n",
              "2019-12-17  After Jagannath Temple; Puri beach devpt plan ...  \n",
              "2019-12-18  What is Citizenship (Amendment) Bill 2019: All...  \n",
              "2019-12-19  Only 61% of CCA covered after revamp of canals...  \n",
              "2019-12-20  I'm done playing the good girl; I want to be a...  \n",
              "2019-12-23  Weekly Horoscope; December 22-28: Check predic...  \n",
              "...                                                       ...  \n",
              "2020-12-11  Ways to get you in the mood for sex when you'r...  \n",
              "2020-12-14  No threat from Covid claims to balance sheets,...  \n",
              "2020-12-15  1;147 RT-PCR tests in a day; only 3 found +ve ...  \n",
              "2020-12-16  Asmita Sood's favourite holiday destinations a...  \n",
              "2020-12-17  Horoscope Today; 17 December 2020: Check astro...  \n",
              "\n",
              "[250 rows x 9 columns]"
            ],
            "text/html": [
              "\n",
              "  <div id=\"df-eadddefb-e431-4a5c-be0f-e8ae20efe6ce\">\n",
              "    <div class=\"colab-df-container\">\n",
              "      <div>\n",
              "<style scoped>\n",
              "    .dataframe tbody tr th:only-of-type {\n",
              "        vertical-align: middle;\n",
              "    }\n",
              "\n",
              "    .dataframe tbody tr th {\n",
              "        vertical-align: top;\n",
              "    }\n",
              "\n",
              "    .dataframe thead th {\n",
              "        text-align: right;\n",
              "    }\n",
              "</style>\n",
              "<table border=\"1\" class=\"dataframe\">\n",
              "  <thead>\n",
              "    <tr style=\"text-align: right;\">\n",
              "      <th></th>\n",
              "      <th>Open</th>\n",
              "      <th>High</th>\n",
              "      <th>Low</th>\n",
              "      <th>Close</th>\n",
              "      <th>Adj Close</th>\n",
              "      <th>Volume</th>\n",
              "      <th>year</th>\n",
              "      <th>Month</th>\n",
              "      <th>News</th>\n",
              "    </tr>\n",
              "    <tr>\n",
              "      <th>Date</th>\n",
              "      <th></th>\n",
              "      <th></th>\n",
              "      <th></th>\n",
              "      <th></th>\n",
              "      <th></th>\n",
              "      <th></th>\n",
              "      <th></th>\n",
              "      <th></th>\n",
              "      <th></th>\n",
              "    </tr>\n",
              "  </thead>\n",
              "  <tbody>\n",
              "    <tr>\n",
              "      <th>2019-12-17</th>\n",
              "      <td>41052.359375</td>\n",
              "      <td>41401.648438</td>\n",
              "      <td>41005.179688</td>\n",
              "      <td>41352.171875</td>\n",
              "      <td>41352.171875</td>\n",
              "      <td>19000.0</td>\n",
              "      <td>2019.0</td>\n",
              "      <td>12.0</td>\n",
              "      <td>After Jagannath Temple; Puri beach devpt plan ...</td>\n",
              "    </tr>\n",
              "    <tr>\n",
              "      <th>2019-12-18</th>\n",
              "      <td>41442.750000</td>\n",
              "      <td>41614.769531</td>\n",
              "      <td>41358.468750</td>\n",
              "      <td>41558.570313</td>\n",
              "      <td>41558.570313</td>\n",
              "      <td>24300.0</td>\n",
              "      <td>2019.0</td>\n",
              "      <td>12.0</td>\n",
              "      <td>What is Citizenship (Amendment) Bill 2019: All...</td>\n",
              "    </tr>\n",
              "    <tr>\n",
              "      <th>2019-12-19</th>\n",
              "      <td>41571.820313</td>\n",
              "      <td>41719.289063</td>\n",
              "      <td>41456.398438</td>\n",
              "      <td>41673.921875</td>\n",
              "      <td>41673.921875</td>\n",
              "      <td>33300.0</td>\n",
              "      <td>2019.0</td>\n",
              "      <td>12.0</td>\n",
              "      <td>Only 61% of CCA covered after revamp of canals...</td>\n",
              "    </tr>\n",
              "    <tr>\n",
              "      <th>2019-12-20</th>\n",
              "      <td>41746.199219</td>\n",
              "      <td>41809.960938</td>\n",
              "      <td>41636.109375</td>\n",
              "      <td>41681.539063</td>\n",
              "      <td>41681.539063</td>\n",
              "      <td>33600.0</td>\n",
              "      <td>2019.0</td>\n",
              "      <td>12.0</td>\n",
              "      <td>I'm done playing the good girl; I want to be a...</td>\n",
              "    </tr>\n",
              "    <tr>\n",
              "      <th>2019-12-23</th>\n",
              "      <td>41548.261719</td>\n",
              "      <td>41701.621094</td>\n",
              "      <td>41474.609375</td>\n",
              "      <td>41642.660156</td>\n",
              "      <td>41642.660156</td>\n",
              "      <td>6200.0</td>\n",
              "      <td>2019.0</td>\n",
              "      <td>12.0</td>\n",
              "      <td>Weekly Horoscope; December 22-28: Check predic...</td>\n",
              "    </tr>\n",
              "    <tr>\n",
              "      <th>...</th>\n",
              "      <td>...</td>\n",
              "      <td>...</td>\n",
              "      <td>...</td>\n",
              "      <td>...</td>\n",
              "      <td>...</td>\n",
              "      <td>...</td>\n",
              "      <td>...</td>\n",
              "      <td>...</td>\n",
              "      <td>...</td>\n",
              "    </tr>\n",
              "    <tr>\n",
              "      <th>2020-12-11</th>\n",
              "      <td>46060.320313</td>\n",
              "      <td>46309.628906</td>\n",
              "      <td>45706.218750</td>\n",
              "      <td>46099.011719</td>\n",
              "      <td>46099.011719</td>\n",
              "      <td>26300.0</td>\n",
              "      <td>2020.0</td>\n",
              "      <td>12.0</td>\n",
              "      <td>Ways to get you in the mood for sex when you'r...</td>\n",
              "    </tr>\n",
              "    <tr>\n",
              "      <th>2020-12-14</th>\n",
              "      <td>46284.699219</td>\n",
              "      <td>46373.339844</td>\n",
              "      <td>45951.531250</td>\n",
              "      <td>46253.460938</td>\n",
              "      <td>46253.460938</td>\n",
              "      <td>18400.0</td>\n",
              "      <td>2020.0</td>\n",
              "      <td>12.0</td>\n",
              "      <td>No threat from Covid claims to balance sheets,...</td>\n",
              "    </tr>\n",
              "    <tr>\n",
              "      <th>2020-12-15</th>\n",
              "      <td>46287.390625</td>\n",
              "      <td>46350.300781</td>\n",
              "      <td>45841.671875</td>\n",
              "      <td>46263.171875</td>\n",
              "      <td>46263.171875</td>\n",
              "      <td>16400.0</td>\n",
              "      <td>2020.0</td>\n",
              "      <td>12.0</td>\n",
              "      <td>1;147 RT-PCR tests in a day; only 3 found +ve ...</td>\n",
              "    </tr>\n",
              "    <tr>\n",
              "      <th>2020-12-16</th>\n",
              "      <td>46573.308594</td>\n",
              "      <td>46704.968750</td>\n",
              "      <td>46402.199219</td>\n",
              "      <td>46666.460938</td>\n",
              "      <td>46666.460938</td>\n",
              "      <td>13100.0</td>\n",
              "      <td>2020.0</td>\n",
              "      <td>12.0</td>\n",
              "      <td>Asmita Sood's favourite holiday destinations a...</td>\n",
              "    </tr>\n",
              "    <tr>\n",
              "      <th>2020-12-17</th>\n",
              "      <td>46774.320313</td>\n",
              "      <td>46992.570313</td>\n",
              "      <td>46627.601563</td>\n",
              "      <td>46890.339844</td>\n",
              "      <td>46890.339844</td>\n",
              "      <td>0.0</td>\n",
              "      <td>2020.0</td>\n",
              "      <td>12.0</td>\n",
              "      <td>Horoscope Today; 17 December 2020: Check astro...</td>\n",
              "    </tr>\n",
              "  </tbody>\n",
              "</table>\n",
              "<p>250 rows × 9 columns</p>\n",
              "</div>\n",
              "      <button class=\"colab-df-convert\" onclick=\"convertToInteractive('df-eadddefb-e431-4a5c-be0f-e8ae20efe6ce')\"\n",
              "              title=\"Convert this dataframe to an interactive table.\"\n",
              "              style=\"display:none;\">\n",
              "        \n",
              "  <svg xmlns=\"http://www.w3.org/2000/svg\" height=\"24px\"viewBox=\"0 0 24 24\"\n",
              "       width=\"24px\">\n",
              "    <path d=\"M0 0h24v24H0V0z\" fill=\"none\"/>\n",
              "    <path d=\"M18.56 5.44l.94 2.06.94-2.06 2.06-.94-2.06-.94-.94-2.06-.94 2.06-2.06.94zm-11 1L8.5 8.5l.94-2.06 2.06-.94-2.06-.94L8.5 2.5l-.94 2.06-2.06.94zm10 10l.94 2.06.94-2.06 2.06-.94-2.06-.94-.94-2.06-.94 2.06-2.06.94z\"/><path d=\"M17.41 7.96l-1.37-1.37c-.4-.4-.92-.59-1.43-.59-.52 0-1.04.2-1.43.59L10.3 9.45l-7.72 7.72c-.78.78-.78 2.05 0 2.83L4 21.41c.39.39.9.59 1.41.59.51 0 1.02-.2 1.41-.59l7.78-7.78 2.81-2.81c.8-.78.8-2.07 0-2.86zM5.41 20L4 18.59l7.72-7.72 1.47 1.35L5.41 20z\"/>\n",
              "  </svg>\n",
              "      </button>\n",
              "      \n",
              "  <style>\n",
              "    .colab-df-container {\n",
              "      display:flex;\n",
              "      flex-wrap:wrap;\n",
              "      gap: 12px;\n",
              "    }\n",
              "\n",
              "    .colab-df-convert {\n",
              "      background-color: #E8F0FE;\n",
              "      border: none;\n",
              "      border-radius: 50%;\n",
              "      cursor: pointer;\n",
              "      display: none;\n",
              "      fill: #1967D2;\n",
              "      height: 32px;\n",
              "      padding: 0 0 0 0;\n",
              "      width: 32px;\n",
              "    }\n",
              "\n",
              "    .colab-df-convert:hover {\n",
              "      background-color: #E2EBFA;\n",
              "      box-shadow: 0px 1px 2px rgba(60, 64, 67, 0.3), 0px 1px 3px 1px rgba(60, 64, 67, 0.15);\n",
              "      fill: #174EA6;\n",
              "    }\n",
              "\n",
              "    [theme=dark] .colab-df-convert {\n",
              "      background-color: #3B4455;\n",
              "      fill: #D2E3FC;\n",
              "    }\n",
              "\n",
              "    [theme=dark] .colab-df-convert:hover {\n",
              "      background-color: #434B5C;\n",
              "      box-shadow: 0px 1px 3px 1px rgba(0, 0, 0, 0.15);\n",
              "      filter: drop-shadow(0px 1px 2px rgba(0, 0, 0, 0.3));\n",
              "      fill: #FFFFFF;\n",
              "    }\n",
              "  </style>\n",
              "\n",
              "      <script>\n",
              "        const buttonEl =\n",
              "          document.querySelector('#df-eadddefb-e431-4a5c-be0f-e8ae20efe6ce button.colab-df-convert');\n",
              "        buttonEl.style.display =\n",
              "          google.colab.kernel.accessAllowed ? 'block' : 'none';\n",
              "\n",
              "        async function convertToInteractive(key) {\n",
              "          const element = document.querySelector('#df-eadddefb-e431-4a5c-be0f-e8ae20efe6ce');\n",
              "          const dataTable =\n",
              "            await google.colab.kernel.invokeFunction('convertToInteractive',\n",
              "                                                     [key], {});\n",
              "          if (!dataTable) return;\n",
              "\n",
              "          const docLinkHtml = 'Like what you see? Visit the ' +\n",
              "            '<a target=\"_blank\" href=https://colab.research.google.com/notebooks/data_table.ipynb>data table notebook</a>'\n",
              "            + ' to learn more about interactive tables.';\n",
              "          element.innerHTML = '';\n",
              "          dataTable['output_type'] = 'display_data';\n",
              "          await google.colab.output.renderOutput(dataTable, element);\n",
              "          const docLink = document.createElement('div');\n",
              "          docLink.innerHTML = docLinkHtml;\n",
              "          element.appendChild(docLink);\n",
              "        }\n",
              "      </script>\n",
              "    </div>\n",
              "  </div>\n",
              "  "
            ]
          },
          "metadata": {},
          "execution_count": 172
        }
      ]
    },
    {
      "cell_type": "code",
      "source": [
        "# adding empty sentiment columns to stock_data for later calculation\n",
        "stock_data['compound'] = ''\n",
        "stock_data['negative'] = ''\n",
        "stock_data['neutral'] = ''\n",
        "stock_data['positive'] = ''\n",
        "stock_data.head()"
      ],
      "metadata": {
        "colab": {
          "base_uri": "https://localhost:8080/",
          "height": 238
        },
        "id": "LRTR_bfsvWQK",
        "outputId": "3e3869d6-c56a-48c7-b949-43e86b1f8064"
      },
      "execution_count": null,
      "outputs": [
        {
          "output_type": "execute_result",
          "data": {
            "text/plain": [
              "                    Open          High           Low         Close  \\\n",
              "Date                                                                 \n",
              "2019-12-17  41052.359375  41401.648438  41005.179688  41352.171875   \n",
              "2019-12-18  41442.750000  41614.769531  41358.468750  41558.570313   \n",
              "2019-12-19  41571.820313  41719.289063  41456.398438  41673.921875   \n",
              "2019-12-20  41746.199219  41809.960938  41636.109375  41681.539063   \n",
              "2019-12-23  41548.261719  41701.621094  41474.609375  41642.660156   \n",
              "\n",
              "               Adj Close   Volume    year  Month  \\\n",
              "Date                                               \n",
              "2019-12-17  41352.171875  19000.0  2019.0   12.0   \n",
              "2019-12-18  41558.570313  24300.0  2019.0   12.0   \n",
              "2019-12-19  41673.921875  33300.0  2019.0   12.0   \n",
              "2019-12-20  41681.539063  33600.0  2019.0   12.0   \n",
              "2019-12-23  41642.660156   6200.0  2019.0   12.0   \n",
              "\n",
              "                                                         News compound  \\\n",
              "Date                                                                     \n",
              "2019-12-17  After Jagannath Temple; Puri beach devpt plan ...            \n",
              "2019-12-18  What is Citizenship (Amendment) Bill 2019: All...            \n",
              "2019-12-19  Only 61% of CCA covered after revamp of canals...            \n",
              "2019-12-20  I'm done playing the good girl; I want to be a...            \n",
              "2019-12-23  Weekly Horoscope; December 22-28: Check predic...            \n",
              "\n",
              "           negative neutral positive  \n",
              "Date                                  \n",
              "2019-12-17                            \n",
              "2019-12-18                            \n",
              "2019-12-19                            \n",
              "2019-12-20                            \n",
              "2019-12-23                            "
            ],
            "text/html": [
              "\n",
              "  <div id=\"df-d9ce6756-1926-4418-955d-04ff98bfc1cb\">\n",
              "    <div class=\"colab-df-container\">\n",
              "      <div>\n",
              "<style scoped>\n",
              "    .dataframe tbody tr th:only-of-type {\n",
              "        vertical-align: middle;\n",
              "    }\n",
              "\n",
              "    .dataframe tbody tr th {\n",
              "        vertical-align: top;\n",
              "    }\n",
              "\n",
              "    .dataframe thead th {\n",
              "        text-align: right;\n",
              "    }\n",
              "</style>\n",
              "<table border=\"1\" class=\"dataframe\">\n",
              "  <thead>\n",
              "    <tr style=\"text-align: right;\">\n",
              "      <th></th>\n",
              "      <th>Open</th>\n",
              "      <th>High</th>\n",
              "      <th>Low</th>\n",
              "      <th>Close</th>\n",
              "      <th>Adj Close</th>\n",
              "      <th>Volume</th>\n",
              "      <th>year</th>\n",
              "      <th>Month</th>\n",
              "      <th>News</th>\n",
              "      <th>compound</th>\n",
              "      <th>negative</th>\n",
              "      <th>neutral</th>\n",
              "      <th>positive</th>\n",
              "    </tr>\n",
              "    <tr>\n",
              "      <th>Date</th>\n",
              "      <th></th>\n",
              "      <th></th>\n",
              "      <th></th>\n",
              "      <th></th>\n",
              "      <th></th>\n",
              "      <th></th>\n",
              "      <th></th>\n",
              "      <th></th>\n",
              "      <th></th>\n",
              "      <th></th>\n",
              "      <th></th>\n",
              "      <th></th>\n",
              "      <th></th>\n",
              "    </tr>\n",
              "  </thead>\n",
              "  <tbody>\n",
              "    <tr>\n",
              "      <th>2019-12-17</th>\n",
              "      <td>41052.359375</td>\n",
              "      <td>41401.648438</td>\n",
              "      <td>41005.179688</td>\n",
              "      <td>41352.171875</td>\n",
              "      <td>41352.171875</td>\n",
              "      <td>19000.0</td>\n",
              "      <td>2019.0</td>\n",
              "      <td>12.0</td>\n",
              "      <td>After Jagannath Temple; Puri beach devpt plan ...</td>\n",
              "      <td></td>\n",
              "      <td></td>\n",
              "      <td></td>\n",
              "      <td></td>\n",
              "    </tr>\n",
              "    <tr>\n",
              "      <th>2019-12-18</th>\n",
              "      <td>41442.750000</td>\n",
              "      <td>41614.769531</td>\n",
              "      <td>41358.468750</td>\n",
              "      <td>41558.570313</td>\n",
              "      <td>41558.570313</td>\n",
              "      <td>24300.0</td>\n",
              "      <td>2019.0</td>\n",
              "      <td>12.0</td>\n",
              "      <td>What is Citizenship (Amendment) Bill 2019: All...</td>\n",
              "      <td></td>\n",
              "      <td></td>\n",
              "      <td></td>\n",
              "      <td></td>\n",
              "    </tr>\n",
              "    <tr>\n",
              "      <th>2019-12-19</th>\n",
              "      <td>41571.820313</td>\n",
              "      <td>41719.289063</td>\n",
              "      <td>41456.398438</td>\n",
              "      <td>41673.921875</td>\n",
              "      <td>41673.921875</td>\n",
              "      <td>33300.0</td>\n",
              "      <td>2019.0</td>\n",
              "      <td>12.0</td>\n",
              "      <td>Only 61% of CCA covered after revamp of canals...</td>\n",
              "      <td></td>\n",
              "      <td></td>\n",
              "      <td></td>\n",
              "      <td></td>\n",
              "    </tr>\n",
              "    <tr>\n",
              "      <th>2019-12-20</th>\n",
              "      <td>41746.199219</td>\n",
              "      <td>41809.960938</td>\n",
              "      <td>41636.109375</td>\n",
              "      <td>41681.539063</td>\n",
              "      <td>41681.539063</td>\n",
              "      <td>33600.0</td>\n",
              "      <td>2019.0</td>\n",
              "      <td>12.0</td>\n",
              "      <td>I'm done playing the good girl; I want to be a...</td>\n",
              "      <td></td>\n",
              "      <td></td>\n",
              "      <td></td>\n",
              "      <td></td>\n",
              "    </tr>\n",
              "    <tr>\n",
              "      <th>2019-12-23</th>\n",
              "      <td>41548.261719</td>\n",
              "      <td>41701.621094</td>\n",
              "      <td>41474.609375</td>\n",
              "      <td>41642.660156</td>\n",
              "      <td>41642.660156</td>\n",
              "      <td>6200.0</td>\n",
              "      <td>2019.0</td>\n",
              "      <td>12.0</td>\n",
              "      <td>Weekly Horoscope; December 22-28: Check predic...</td>\n",
              "      <td></td>\n",
              "      <td></td>\n",
              "      <td></td>\n",
              "      <td></td>\n",
              "    </tr>\n",
              "  </tbody>\n",
              "</table>\n",
              "</div>\n",
              "      <button class=\"colab-df-convert\" onclick=\"convertToInteractive('df-d9ce6756-1926-4418-955d-04ff98bfc1cb')\"\n",
              "              title=\"Convert this dataframe to an interactive table.\"\n",
              "              style=\"display:none;\">\n",
              "        \n",
              "  <svg xmlns=\"http://www.w3.org/2000/svg\" height=\"24px\"viewBox=\"0 0 24 24\"\n",
              "       width=\"24px\">\n",
              "    <path d=\"M0 0h24v24H0V0z\" fill=\"none\"/>\n",
              "    <path d=\"M18.56 5.44l.94 2.06.94-2.06 2.06-.94-2.06-.94-.94-2.06-.94 2.06-2.06.94zm-11 1L8.5 8.5l.94-2.06 2.06-.94-2.06-.94L8.5 2.5l-.94 2.06-2.06.94zm10 10l.94 2.06.94-2.06 2.06-.94-2.06-.94-.94-2.06-.94 2.06-2.06.94z\"/><path d=\"M17.41 7.96l-1.37-1.37c-.4-.4-.92-.59-1.43-.59-.52 0-1.04.2-1.43.59L10.3 9.45l-7.72 7.72c-.78.78-.78 2.05 0 2.83L4 21.41c.39.39.9.59 1.41.59.51 0 1.02-.2 1.41-.59l7.78-7.78 2.81-2.81c.8-.78.8-2.07 0-2.86zM5.41 20L4 18.59l7.72-7.72 1.47 1.35L5.41 20z\"/>\n",
              "  </svg>\n",
              "      </button>\n",
              "      \n",
              "  <style>\n",
              "    .colab-df-container {\n",
              "      display:flex;\n",
              "      flex-wrap:wrap;\n",
              "      gap: 12px;\n",
              "    }\n",
              "\n",
              "    .colab-df-convert {\n",
              "      background-color: #E8F0FE;\n",
              "      border: none;\n",
              "      border-radius: 50%;\n",
              "      cursor: pointer;\n",
              "      display: none;\n",
              "      fill: #1967D2;\n",
              "      height: 32px;\n",
              "      padding: 0 0 0 0;\n",
              "      width: 32px;\n",
              "    }\n",
              "\n",
              "    .colab-df-convert:hover {\n",
              "      background-color: #E2EBFA;\n",
              "      box-shadow: 0px 1px 2px rgba(60, 64, 67, 0.3), 0px 1px 3px 1px rgba(60, 64, 67, 0.15);\n",
              "      fill: #174EA6;\n",
              "    }\n",
              "\n",
              "    [theme=dark] .colab-df-convert {\n",
              "      background-color: #3B4455;\n",
              "      fill: #D2E3FC;\n",
              "    }\n",
              "\n",
              "    [theme=dark] .colab-df-convert:hover {\n",
              "      background-color: #434B5C;\n",
              "      box-shadow: 0px 1px 3px 1px rgba(0, 0, 0, 0.15);\n",
              "      filter: drop-shadow(0px 1px 2px rgba(0, 0, 0, 0.3));\n",
              "      fill: #FFFFFF;\n",
              "    }\n",
              "  </style>\n",
              "\n",
              "      <script>\n",
              "        const buttonEl =\n",
              "          document.querySelector('#df-d9ce6756-1926-4418-955d-04ff98bfc1cb button.colab-df-convert');\n",
              "        buttonEl.style.display =\n",
              "          google.colab.kernel.accessAllowed ? 'block' : 'none';\n",
              "\n",
              "        async function convertToInteractive(key) {\n",
              "          const element = document.querySelector('#df-d9ce6756-1926-4418-955d-04ff98bfc1cb');\n",
              "          const dataTable =\n",
              "            await google.colab.kernel.invokeFunction('convertToInteractive',\n",
              "                                                     [key], {});\n",
              "          if (!dataTable) return;\n",
              "\n",
              "          const docLinkHtml = 'Like what you see? Visit the ' +\n",
              "            '<a target=\"_blank\" href=https://colab.research.google.com/notebooks/data_table.ipynb>data table notebook</a>'\n",
              "            + ' to learn more about interactive tables.';\n",
              "          element.innerHTML = '';\n",
              "          dataTable['output_type'] = 'display_data';\n",
              "          await google.colab.output.renderOutput(dataTable, element);\n",
              "          const docLink = document.createElement('div');\n",
              "          docLink.innerHTML = docLinkHtml;\n",
              "          element.appendChild(docLink);\n",
              "        }\n",
              "      </script>\n",
              "    </div>\n",
              "  </div>\n",
              "  "
            ]
          },
          "metadata": {},
          "execution_count": 173
        }
      ]
    },
    {
      "cell_type": "code",
      "source": [
        "nltk.download('vader_lexicon')"
      ],
      "metadata": {
        "colab": {
          "base_uri": "https://localhost:8080/"
        },
        "id": "Il0VSqPXvdTW",
        "outputId": "eb62dc6c-70d9-4aa0-bc70-410604716418"
      },
      "execution_count": null,
      "outputs": [
        {
          "output_type": "stream",
          "name": "stderr",
          "text": [
            "[nltk_data] Downloading package vader_lexicon to /root/nltk_data...\n",
            "[nltk_data]   Package vader_lexicon is already up-to-date!\n"
          ]
        },
        {
          "output_type": "execute_result",
          "data": {
            "text/plain": [
              "True"
            ]
          },
          "metadata": {},
          "execution_count": 174
        }
      ]
    },
    {
      "cell_type": "code",
      "source": [
        "from nltk.sentiment.vader import SentimentIntensityAnalyzer\n",
        "import unicodedata\n",
        "\n",
        "# instantiating the Sentiment Analyzer\n",
        "sid = SentimentIntensityAnalyzer()\n",
        "\n",
        "# calculating sentiment scores\n",
        "stock_data['compound'] = stock_data['News'].apply(lambda x: sid.polarity_scores(x)['compound'])\n",
        "stock_data['negative'] = stock_data['News'].apply(lambda x: sid.polarity_scores(x)['neg'])\n",
        "stock_data['neutral'] = stock_data['News'].apply(lambda x: sid.polarity_scores(x)['neu'])\n",
        "stock_data['positive'] = stock_data['News'].apply(lambda x: sid.polarity_scores(x)['pos'])\n",
        "\n",
        "# displaying the stock data\n",
        "stock_data.head()"
      ],
      "metadata": {
        "colab": {
          "base_uri": "https://localhost:8080/",
          "height": 238
        },
        "id": "djcJa_VZv0p4",
        "outputId": "819e9da2-d068-43fa-890b-c8b053676ded"
      },
      "execution_count": null,
      "outputs": [
        {
          "output_type": "execute_result",
          "data": {
            "text/plain": [
              "                    Open          High           Low         Close  \\\n",
              "Date                                                                 \n",
              "2019-12-17  41052.359375  41401.648438  41005.179688  41352.171875   \n",
              "2019-12-18  41442.750000  41614.769531  41358.468750  41558.570313   \n",
              "2019-12-19  41571.820313  41719.289063  41456.398438  41673.921875   \n",
              "2019-12-20  41746.199219  41809.960938  41636.109375  41681.539063   \n",
              "2019-12-23  41548.261719  41701.621094  41474.609375  41642.660156   \n",
              "\n",
              "               Adj Close   Volume    year  Month  \\\n",
              "Date                                               \n",
              "2019-12-17  41352.171875  19000.0  2019.0   12.0   \n",
              "2019-12-18  41558.570313  24300.0  2019.0   12.0   \n",
              "2019-12-19  41673.921875  33300.0  2019.0   12.0   \n",
              "2019-12-20  41681.539063  33600.0  2019.0   12.0   \n",
              "2019-12-23  41642.660156   6200.0  2019.0   12.0   \n",
              "\n",
              "                                                         News  compound  \\\n",
              "Date                                                                      \n",
              "2019-12-17  After Jagannath Temple; Puri beach devpt plan ...   -1.0000   \n",
              "2019-12-18  What is Citizenship (Amendment) Bill 2019: All...   -0.9999   \n",
              "2019-12-19  Only 61% of CCA covered after revamp of canals...   -0.9997   \n",
              "2019-12-20  I'm done playing the good girl; I want to be a...   -0.9999   \n",
              "2019-12-23  Weekly Horoscope; December 22-28: Check predic...   -0.9997   \n",
              "\n",
              "            negative  neutral  positive  \n",
              "Date                                     \n",
              "2019-12-17     0.178    0.748     0.074  \n",
              "2019-12-18     0.146    0.782     0.072  \n",
              "2019-12-19     0.110    0.833     0.057  \n",
              "2019-12-20     0.156    0.770     0.074  \n",
              "2019-12-23     0.132    0.786     0.083  "
            ],
            "text/html": [
              "\n",
              "  <div id=\"df-7340d656-96e2-41f9-affd-3c8a15e95fde\">\n",
              "    <div class=\"colab-df-container\">\n",
              "      <div>\n",
              "<style scoped>\n",
              "    .dataframe tbody tr th:only-of-type {\n",
              "        vertical-align: middle;\n",
              "    }\n",
              "\n",
              "    .dataframe tbody tr th {\n",
              "        vertical-align: top;\n",
              "    }\n",
              "\n",
              "    .dataframe thead th {\n",
              "        text-align: right;\n",
              "    }\n",
              "</style>\n",
              "<table border=\"1\" class=\"dataframe\">\n",
              "  <thead>\n",
              "    <tr style=\"text-align: right;\">\n",
              "      <th></th>\n",
              "      <th>Open</th>\n",
              "      <th>High</th>\n",
              "      <th>Low</th>\n",
              "      <th>Close</th>\n",
              "      <th>Adj Close</th>\n",
              "      <th>Volume</th>\n",
              "      <th>year</th>\n",
              "      <th>Month</th>\n",
              "      <th>News</th>\n",
              "      <th>compound</th>\n",
              "      <th>negative</th>\n",
              "      <th>neutral</th>\n",
              "      <th>positive</th>\n",
              "    </tr>\n",
              "    <tr>\n",
              "      <th>Date</th>\n",
              "      <th></th>\n",
              "      <th></th>\n",
              "      <th></th>\n",
              "      <th></th>\n",
              "      <th></th>\n",
              "      <th></th>\n",
              "      <th></th>\n",
              "      <th></th>\n",
              "      <th></th>\n",
              "      <th></th>\n",
              "      <th></th>\n",
              "      <th></th>\n",
              "      <th></th>\n",
              "    </tr>\n",
              "  </thead>\n",
              "  <tbody>\n",
              "    <tr>\n",
              "      <th>2019-12-17</th>\n",
              "      <td>41052.359375</td>\n",
              "      <td>41401.648438</td>\n",
              "      <td>41005.179688</td>\n",
              "      <td>41352.171875</td>\n",
              "      <td>41352.171875</td>\n",
              "      <td>19000.0</td>\n",
              "      <td>2019.0</td>\n",
              "      <td>12.0</td>\n",
              "      <td>After Jagannath Temple; Puri beach devpt plan ...</td>\n",
              "      <td>-1.0000</td>\n",
              "      <td>0.178</td>\n",
              "      <td>0.748</td>\n",
              "      <td>0.074</td>\n",
              "    </tr>\n",
              "    <tr>\n",
              "      <th>2019-12-18</th>\n",
              "      <td>41442.750000</td>\n",
              "      <td>41614.769531</td>\n",
              "      <td>41358.468750</td>\n",
              "      <td>41558.570313</td>\n",
              "      <td>41558.570313</td>\n",
              "      <td>24300.0</td>\n",
              "      <td>2019.0</td>\n",
              "      <td>12.0</td>\n",
              "      <td>What is Citizenship (Amendment) Bill 2019: All...</td>\n",
              "      <td>-0.9999</td>\n",
              "      <td>0.146</td>\n",
              "      <td>0.782</td>\n",
              "      <td>0.072</td>\n",
              "    </tr>\n",
              "    <tr>\n",
              "      <th>2019-12-19</th>\n",
              "      <td>41571.820313</td>\n",
              "      <td>41719.289063</td>\n",
              "      <td>41456.398438</td>\n",
              "      <td>41673.921875</td>\n",
              "      <td>41673.921875</td>\n",
              "      <td>33300.0</td>\n",
              "      <td>2019.0</td>\n",
              "      <td>12.0</td>\n",
              "      <td>Only 61% of CCA covered after revamp of canals...</td>\n",
              "      <td>-0.9997</td>\n",
              "      <td>0.110</td>\n",
              "      <td>0.833</td>\n",
              "      <td>0.057</td>\n",
              "    </tr>\n",
              "    <tr>\n",
              "      <th>2019-12-20</th>\n",
              "      <td>41746.199219</td>\n",
              "      <td>41809.960938</td>\n",
              "      <td>41636.109375</td>\n",
              "      <td>41681.539063</td>\n",
              "      <td>41681.539063</td>\n",
              "      <td>33600.0</td>\n",
              "      <td>2019.0</td>\n",
              "      <td>12.0</td>\n",
              "      <td>I'm done playing the good girl; I want to be a...</td>\n",
              "      <td>-0.9999</td>\n",
              "      <td>0.156</td>\n",
              "      <td>0.770</td>\n",
              "      <td>0.074</td>\n",
              "    </tr>\n",
              "    <tr>\n",
              "      <th>2019-12-23</th>\n",
              "      <td>41548.261719</td>\n",
              "      <td>41701.621094</td>\n",
              "      <td>41474.609375</td>\n",
              "      <td>41642.660156</td>\n",
              "      <td>41642.660156</td>\n",
              "      <td>6200.0</td>\n",
              "      <td>2019.0</td>\n",
              "      <td>12.0</td>\n",
              "      <td>Weekly Horoscope; December 22-28: Check predic...</td>\n",
              "      <td>-0.9997</td>\n",
              "      <td>0.132</td>\n",
              "      <td>0.786</td>\n",
              "      <td>0.083</td>\n",
              "    </tr>\n",
              "  </tbody>\n",
              "</table>\n",
              "</div>\n",
              "      <button class=\"colab-df-convert\" onclick=\"convertToInteractive('df-7340d656-96e2-41f9-affd-3c8a15e95fde')\"\n",
              "              title=\"Convert this dataframe to an interactive table.\"\n",
              "              style=\"display:none;\">\n",
              "        \n",
              "  <svg xmlns=\"http://www.w3.org/2000/svg\" height=\"24px\"viewBox=\"0 0 24 24\"\n",
              "       width=\"24px\">\n",
              "    <path d=\"M0 0h24v24H0V0z\" fill=\"none\"/>\n",
              "    <path d=\"M18.56 5.44l.94 2.06.94-2.06 2.06-.94-2.06-.94-.94-2.06-.94 2.06-2.06.94zm-11 1L8.5 8.5l.94-2.06 2.06-.94-2.06-.94L8.5 2.5l-.94 2.06-2.06.94zm10 10l.94 2.06.94-2.06 2.06-.94-2.06-.94-.94-2.06-.94 2.06-2.06.94z\"/><path d=\"M17.41 7.96l-1.37-1.37c-.4-.4-.92-.59-1.43-.59-.52 0-1.04.2-1.43.59L10.3 9.45l-7.72 7.72c-.78.78-.78 2.05 0 2.83L4 21.41c.39.39.9.59 1.41.59.51 0 1.02-.2 1.41-.59l7.78-7.78 2.81-2.81c.8-.78.8-2.07 0-2.86zM5.41 20L4 18.59l7.72-7.72 1.47 1.35L5.41 20z\"/>\n",
              "  </svg>\n",
              "      </button>\n",
              "      \n",
              "  <style>\n",
              "    .colab-df-container {\n",
              "      display:flex;\n",
              "      flex-wrap:wrap;\n",
              "      gap: 12px;\n",
              "    }\n",
              "\n",
              "    .colab-df-convert {\n",
              "      background-color: #E8F0FE;\n",
              "      border: none;\n",
              "      border-radius: 50%;\n",
              "      cursor: pointer;\n",
              "      display: none;\n",
              "      fill: #1967D2;\n",
              "      height: 32px;\n",
              "      padding: 0 0 0 0;\n",
              "      width: 32px;\n",
              "    }\n",
              "\n",
              "    .colab-df-convert:hover {\n",
              "      background-color: #E2EBFA;\n",
              "      box-shadow: 0px 1px 2px rgba(60, 64, 67, 0.3), 0px 1px 3px 1px rgba(60, 64, 67, 0.15);\n",
              "      fill: #174EA6;\n",
              "    }\n",
              "\n",
              "    [theme=dark] .colab-df-convert {\n",
              "      background-color: #3B4455;\n",
              "      fill: #D2E3FC;\n",
              "    }\n",
              "\n",
              "    [theme=dark] .colab-df-convert:hover {\n",
              "      background-color: #434B5C;\n",
              "      box-shadow: 0px 1px 3px 1px rgba(0, 0, 0, 0.15);\n",
              "      filter: drop-shadow(0px 1px 2px rgba(0, 0, 0, 0.3));\n",
              "      fill: #FFFFFF;\n",
              "    }\n",
              "  </style>\n",
              "\n",
              "      <script>\n",
              "        const buttonEl =\n",
              "          document.querySelector('#df-7340d656-96e2-41f9-affd-3c8a15e95fde button.colab-df-convert');\n",
              "        buttonEl.style.display =\n",
              "          google.colab.kernel.accessAllowed ? 'block' : 'none';\n",
              "\n",
              "        async function convertToInteractive(key) {\n",
              "          const element = document.querySelector('#df-7340d656-96e2-41f9-affd-3c8a15e95fde');\n",
              "          const dataTable =\n",
              "            await google.colab.kernel.invokeFunction('convertToInteractive',\n",
              "                                                     [key], {});\n",
              "          if (!dataTable) return;\n",
              "\n",
              "          const docLinkHtml = 'Like what you see? Visit the ' +\n",
              "            '<a target=\"_blank\" href=https://colab.research.google.com/notebooks/data_table.ipynb>data table notebook</a>'\n",
              "            + ' to learn more about interactive tables.';\n",
              "          element.innerHTML = '';\n",
              "          dataTable['output_type'] = 'display_data';\n",
              "          await google.colab.output.renderOutput(dataTable, element);\n",
              "          const docLink = document.createElement('div');\n",
              "          docLink.innerHTML = docLinkHtml;\n",
              "          element.appendChild(docLink);\n",
              "        }\n",
              "      </script>\n",
              "    </div>\n",
              "  </div>\n",
              "  "
            ]
          },
          "metadata": {},
          "execution_count": 175
        }
      ]
    },
    {
      "cell_type": "markdown",
      "source": [
        "## *Data Preparation*"
      ],
      "metadata": {
        "id": "Phl6LecLQyyD"
      }
    },
    {
      "cell_type": "code",
      "source": [
        "stock_data1 = stock_data.copy()\n",
        "stock_data1.reset_index(drop=True, inplace=True)\n",
        "stock_data1.drop(['News','year','Month'],axis=1,inplace=True)"
      ],
      "metadata": {
        "id": "kqd2IjHqwuJF"
      },
      "execution_count": null,
      "outputs": []
    },
    {
      "cell_type": "code",
      "source": [
        "stock_data1.info()"
      ],
      "metadata": {
        "colab": {
          "base_uri": "https://localhost:8080/"
        },
        "id": "MZT7tiJoAfb6",
        "outputId": "c2da0e90-0a21-4f0e-f6fb-9615edd80e85"
      },
      "execution_count": null,
      "outputs": [
        {
          "output_type": "stream",
          "name": "stdout",
          "text": [
            "<class 'pandas.core.frame.DataFrame'>\n",
            "RangeIndex: 250 entries, 0 to 249\n",
            "Data columns (total 10 columns):\n",
            " #   Column     Non-Null Count  Dtype  \n",
            "---  ------     --------------  -----  \n",
            " 0   Open       250 non-null    float64\n",
            " 1   High       250 non-null    float64\n",
            " 2   Low        250 non-null    float64\n",
            " 3   Close      250 non-null    float64\n",
            " 4   Adj Close  250 non-null    float64\n",
            " 5   Volume     250 non-null    float64\n",
            " 6   compound   250 non-null    float64\n",
            " 7   negative   250 non-null    float64\n",
            " 8   neutral    250 non-null    float64\n",
            " 9   positive   250 non-null    float64\n",
            "dtypes: float64(10)\n",
            "memory usage: 19.7 KB\n"
          ]
        }
      ]
    },
    {
      "cell_type": "code",
      "source": [
        "scaler = MinMaxScaler()\n",
        "df = pd.DataFrame(scaler.fit_transform(stock_data1))\n",
        "df.columns = stock_data1.columns\n",
        "df.index = stock_data1.index\n",
        "df.head()"
      ],
      "metadata": {
        "colab": {
          "base_uri": "https://localhost:8080/",
          "height": 206
        },
        "id": "arLjddx6xDM8",
        "outputId": "4df5aa09-b890-4ba3-bb31-0f486c3792b3"
      },
      "execution_count": null,
      "outputs": [
        {
          "output_type": "execute_result",
          "data": {
            "text/plain": [
              "       Open      High       Low     Close  Adj Close    Volume  compound  \\\n",
              "0  0.717776  0.713722  0.732121  0.735131   0.735131  0.100903   0.00000   \n",
              "1  0.737031  0.724635  0.748954  0.745002   0.745002  0.129049   0.00005   \n",
              "2  0.743397  0.729987  0.753620  0.750519   0.750519  0.176845   0.00015   \n",
              "3  0.751998  0.734629  0.762182  0.750884   0.750884  0.178439   0.00005   \n",
              "4  0.742235  0.729082  0.754487  0.749024   0.749024  0.032926   0.00015   \n",
              "\n",
              "   negative   neutral  positive  \n",
              "0  0.830645  0.143885  0.345679  \n",
              "1  0.572581  0.388489  0.320988  \n",
              "2  0.282258  0.755396  0.135802  \n",
              "3  0.653226  0.302158  0.345679  \n",
              "4  0.459677  0.417266  0.456790  "
            ],
            "text/html": [
              "\n",
              "  <div id=\"df-2397f55f-b5c7-4650-b6fc-8a54b1c5e572\">\n",
              "    <div class=\"colab-df-container\">\n",
              "      <div>\n",
              "<style scoped>\n",
              "    .dataframe tbody tr th:only-of-type {\n",
              "        vertical-align: middle;\n",
              "    }\n",
              "\n",
              "    .dataframe tbody tr th {\n",
              "        vertical-align: top;\n",
              "    }\n",
              "\n",
              "    .dataframe thead th {\n",
              "        text-align: right;\n",
              "    }\n",
              "</style>\n",
              "<table border=\"1\" class=\"dataframe\">\n",
              "  <thead>\n",
              "    <tr style=\"text-align: right;\">\n",
              "      <th></th>\n",
              "      <th>Open</th>\n",
              "      <th>High</th>\n",
              "      <th>Low</th>\n",
              "      <th>Close</th>\n",
              "      <th>Adj Close</th>\n",
              "      <th>Volume</th>\n",
              "      <th>compound</th>\n",
              "      <th>negative</th>\n",
              "      <th>neutral</th>\n",
              "      <th>positive</th>\n",
              "    </tr>\n",
              "  </thead>\n",
              "  <tbody>\n",
              "    <tr>\n",
              "      <th>0</th>\n",
              "      <td>0.717776</td>\n",
              "      <td>0.713722</td>\n",
              "      <td>0.732121</td>\n",
              "      <td>0.735131</td>\n",
              "      <td>0.735131</td>\n",
              "      <td>0.100903</td>\n",
              "      <td>0.00000</td>\n",
              "      <td>0.830645</td>\n",
              "      <td>0.143885</td>\n",
              "      <td>0.345679</td>\n",
              "    </tr>\n",
              "    <tr>\n",
              "      <th>1</th>\n",
              "      <td>0.737031</td>\n",
              "      <td>0.724635</td>\n",
              "      <td>0.748954</td>\n",
              "      <td>0.745002</td>\n",
              "      <td>0.745002</td>\n",
              "      <td>0.129049</td>\n",
              "      <td>0.00005</td>\n",
              "      <td>0.572581</td>\n",
              "      <td>0.388489</td>\n",
              "      <td>0.320988</td>\n",
              "    </tr>\n",
              "    <tr>\n",
              "      <th>2</th>\n",
              "      <td>0.743397</td>\n",
              "      <td>0.729987</td>\n",
              "      <td>0.753620</td>\n",
              "      <td>0.750519</td>\n",
              "      <td>0.750519</td>\n",
              "      <td>0.176845</td>\n",
              "      <td>0.00015</td>\n",
              "      <td>0.282258</td>\n",
              "      <td>0.755396</td>\n",
              "      <td>0.135802</td>\n",
              "    </tr>\n",
              "    <tr>\n",
              "      <th>3</th>\n",
              "      <td>0.751998</td>\n",
              "      <td>0.734629</td>\n",
              "      <td>0.762182</td>\n",
              "      <td>0.750884</td>\n",
              "      <td>0.750884</td>\n",
              "      <td>0.178439</td>\n",
              "      <td>0.00005</td>\n",
              "      <td>0.653226</td>\n",
              "      <td>0.302158</td>\n",
              "      <td>0.345679</td>\n",
              "    </tr>\n",
              "    <tr>\n",
              "      <th>4</th>\n",
              "      <td>0.742235</td>\n",
              "      <td>0.729082</td>\n",
              "      <td>0.754487</td>\n",
              "      <td>0.749024</td>\n",
              "      <td>0.749024</td>\n",
              "      <td>0.032926</td>\n",
              "      <td>0.00015</td>\n",
              "      <td>0.459677</td>\n",
              "      <td>0.417266</td>\n",
              "      <td>0.456790</td>\n",
              "    </tr>\n",
              "  </tbody>\n",
              "</table>\n",
              "</div>\n",
              "      <button class=\"colab-df-convert\" onclick=\"convertToInteractive('df-2397f55f-b5c7-4650-b6fc-8a54b1c5e572')\"\n",
              "              title=\"Convert this dataframe to an interactive table.\"\n",
              "              style=\"display:none;\">\n",
              "        \n",
              "  <svg xmlns=\"http://www.w3.org/2000/svg\" height=\"24px\"viewBox=\"0 0 24 24\"\n",
              "       width=\"24px\">\n",
              "    <path d=\"M0 0h24v24H0V0z\" fill=\"none\"/>\n",
              "    <path d=\"M18.56 5.44l.94 2.06.94-2.06 2.06-.94-2.06-.94-.94-2.06-.94 2.06-2.06.94zm-11 1L8.5 8.5l.94-2.06 2.06-.94-2.06-.94L8.5 2.5l-.94 2.06-2.06.94zm10 10l.94 2.06.94-2.06 2.06-.94-2.06-.94-.94-2.06-.94 2.06-2.06.94z\"/><path d=\"M17.41 7.96l-1.37-1.37c-.4-.4-.92-.59-1.43-.59-.52 0-1.04.2-1.43.59L10.3 9.45l-7.72 7.72c-.78.78-.78 2.05 0 2.83L4 21.41c.39.39.9.59 1.41.59.51 0 1.02-.2 1.41-.59l7.78-7.78 2.81-2.81c.8-.78.8-2.07 0-2.86zM5.41 20L4 18.59l7.72-7.72 1.47 1.35L5.41 20z\"/>\n",
              "  </svg>\n",
              "      </button>\n",
              "      \n",
              "  <style>\n",
              "    .colab-df-container {\n",
              "      display:flex;\n",
              "      flex-wrap:wrap;\n",
              "      gap: 12px;\n",
              "    }\n",
              "\n",
              "    .colab-df-convert {\n",
              "      background-color: #E8F0FE;\n",
              "      border: none;\n",
              "      border-radius: 50%;\n",
              "      cursor: pointer;\n",
              "      display: none;\n",
              "      fill: #1967D2;\n",
              "      height: 32px;\n",
              "      padding: 0 0 0 0;\n",
              "      width: 32px;\n",
              "    }\n",
              "\n",
              "    .colab-df-convert:hover {\n",
              "      background-color: #E2EBFA;\n",
              "      box-shadow: 0px 1px 2px rgba(60, 64, 67, 0.3), 0px 1px 3px 1px rgba(60, 64, 67, 0.15);\n",
              "      fill: #174EA6;\n",
              "    }\n",
              "\n",
              "    [theme=dark] .colab-df-convert {\n",
              "      background-color: #3B4455;\n",
              "      fill: #D2E3FC;\n",
              "    }\n",
              "\n",
              "    [theme=dark] .colab-df-convert:hover {\n",
              "      background-color: #434B5C;\n",
              "      box-shadow: 0px 1px 3px 1px rgba(0, 0, 0, 0.15);\n",
              "      filter: drop-shadow(0px 1px 2px rgba(0, 0, 0, 0.3));\n",
              "      fill: #FFFFFF;\n",
              "    }\n",
              "  </style>\n",
              "\n",
              "      <script>\n",
              "        const buttonEl =\n",
              "          document.querySelector('#df-2397f55f-b5c7-4650-b6fc-8a54b1c5e572 button.colab-df-convert');\n",
              "        buttonEl.style.display =\n",
              "          google.colab.kernel.accessAllowed ? 'block' : 'none';\n",
              "\n",
              "        async function convertToInteractive(key) {\n",
              "          const element = document.querySelector('#df-2397f55f-b5c7-4650-b6fc-8a54b1c5e572');\n",
              "          const dataTable =\n",
              "            await google.colab.kernel.invokeFunction('convertToInteractive',\n",
              "                                                     [key], {});\n",
              "          if (!dataTable) return;\n",
              "\n",
              "          const docLinkHtml = 'Like what you see? Visit the ' +\n",
              "            '<a target=\"_blank\" href=https://colab.research.google.com/notebooks/data_table.ipynb>data table notebook</a>'\n",
              "            + ' to learn more about interactive tables.';\n",
              "          element.innerHTML = '';\n",
              "          dataTable['output_type'] = 'display_data';\n",
              "          await google.colab.output.renderOutput(dataTable, element);\n",
              "          const docLink = document.createElement('div');\n",
              "          docLink.innerHTML = docLinkHtml;\n",
              "          element.appendChild(docLink);\n",
              "        }\n",
              "      </script>\n",
              "    </div>\n",
              "  </div>\n",
              "  "
            ]
          },
          "metadata": {},
          "execution_count": 178
        }
      ]
    },
    {
      "cell_type": "code",
      "source": [
        "X=df.drop('Close',axis=1)\n",
        "Y=df['Close']"
      ],
      "metadata": {
        "id": "s-8FnA8icnBY"
      },
      "execution_count": null,
      "outputs": []
    },
    {
      "cell_type": "markdown",
      "source": [
        "##*Split the Dataset into Train & Test Data*"
      ],
      "metadata": {
        "id": "92F0cAuqcwCK"
      }
    },
    {
      "cell_type": "code",
      "source": [
        "x_train, x_test, y_train, y_test = train_test_split(X, Y, test_size=0.2, random_state = 0)\n",
        "x_train.shape"
      ],
      "metadata": {
        "id": "Ab1CdAi6cw2y",
        "colab": {
          "base_uri": "https://localhost:8080/"
        },
        "outputId": "1116094d-5e9b-46f6-e6f0-17a4b2f40ef1"
      },
      "execution_count": null,
      "outputs": [
        {
          "output_type": "execute_result",
          "data": {
            "text/plain": [
              "(200, 9)"
            ]
          },
          "metadata": {},
          "execution_count": 180
        }
      ]
    },
    {
      "cell_type": "markdown",
      "source": [
        "# *Random forest Regressor*"
      ],
      "metadata": {
        "id": "O-MfUJUZgKHS"
      }
    },
    {
      "cell_type": "code",
      "source": [
        "model0= RandomForestRegressor()\n",
        "model0.fit(x_train, y_train)\n",
        "prediction=model0.predict(x_test)\n",
        "print(prediction[:10])\n",
        "print(y_test[:10])\n",
        "print('Mean Squared error: ',mean_squared_error(prediction,y_test))\n",
        "print('training :',model0.score(x_train , y_train))\n",
        "print('testing :',model0.score(x_test , y_test))"
      ],
      "metadata": {
        "id": "OeBwUYKJdOUR",
        "colab": {
          "base_uri": "https://localhost:8080/"
        },
        "outputId": "1c0bd5e3-0bc6-42f1-f876-e776c282e951"
      },
      "execution_count": null,
      "outputs": [
        {
          "output_type": "stream",
          "name": "stdout",
          "text": [
            "[0.83456258 0.38372017 0.26881975 0.57704712 0.54062421 0.59139704\n",
            " 0.62320056 0.24870158 0.09565726 0.54987749]\n",
            "225    0.842333\n",
            "122    0.393456\n",
            "92     0.272824\n",
            "157    0.576027\n",
            "154    0.524095\n",
            "161    0.592488\n",
            "198    0.621378\n",
            "83     0.258180\n",
            "63     0.110334\n",
            "155    0.559884\n",
            "Name: Close, dtype: float64\n",
            "Mean Squared error:  8.416956145757821e-05\n",
            "training : 0.9996292757714513\n",
            "testing : 0.9978184024746233\n"
          ]
        }
      ]
    },
    {
      "cell_type": "markdown",
      "source": [
        "# *Decision Tree Regressor*"
      ],
      "metadata": {
        "id": "LNCC_vbYgQbq"
      }
    },
    {
      "cell_type": "code",
      "source": [
        "model1 = DecisionTreeRegressor()\n",
        "model1.fit(x_train, y_train)\n",
        "predictions = model1.predict(x_test)\n",
        "print(predictions[:10])\n",
        "print(y_test[:10])\n",
        "print('Mean Squared error: ',mean_squared_error(predictions,y_test))\n",
        "print('training :',model1.score(x_train , y_train))\n",
        "print('testing :',model1.score(x_test , y_test))"
      ],
      "metadata": {
        "id": "H-_AIR6ydX-O",
        "colab": {
          "base_uri": "https://localhost:8080/"
        },
        "outputId": "7d93e9a2-796c-4549-e727-d2a6fb85cab1"
      },
      "execution_count": null,
      "outputs": [
        {
          "output_type": "stream",
          "name": "stdout",
          "text": [
            "[0.83512729 0.38143446 0.26897287 0.57723868 0.52794719 0.59189251\n",
            " 0.62167246 0.24470161 0.13813457 0.54702251]\n",
            "225    0.842333\n",
            "122    0.393456\n",
            "92     0.272824\n",
            "157    0.576027\n",
            "154    0.524095\n",
            "161    0.592488\n",
            "198    0.621378\n",
            "83     0.258180\n",
            "63     0.110334\n",
            "155    0.559884\n",
            "Name: Close, dtype: float64\n",
            "Mean Squared error:  0.00023029681848724462\n",
            "training : 1.0\n",
            "testing : 0.9940309185338085\n"
          ]
        }
      ]
    },
    {
      "cell_type": "markdown",
      "source": [
        "## *Ada Boost Regressor*"
      ],
      "metadata": {
        "id": "ZbJuLhaJgZSX"
      }
    },
    {
      "cell_type": "code",
      "source": [
        "model2 = AdaBoostRegressor()\n",
        "model2.fit(x_train, y_train)\n",
        "predictions =model2.predict(x_test)\n",
        "print(mean_squared_error(predictions, y_test))\n",
        "print('training :',model2.score(x_train , y_train))\n",
        "print('testing :',model2.score(x_test , y_test))"
      ],
      "metadata": {
        "id": "SyMmlDvEdbfp",
        "colab": {
          "base_uri": "https://localhost:8080/"
        },
        "outputId": "b4abc574-9a63-4bc5-e1a8-25c9d713e310"
      },
      "execution_count": null,
      "outputs": [
        {
          "output_type": "stream",
          "name": "stdout",
          "text": [
            "0.0001962021834157658\n",
            "training : 0.9970954177348449\n",
            "testing : 0.9949146200787911\n"
          ]
        }
      ]
    },
    {
      "cell_type": "markdown",
      "source": [
        "as we can see all the three models almost performed a perfect score hiwever the RandomForestRegressor shows a better performance than the others with a Mean Squared error:  8.416956145757821e-05 and an accuracy of :\n",
        "\n",
        "(training : 0.9996292757714513, and  testing : 0.9978184024746233)"
      ],
      "metadata": {
        "id": "D_3ZjY5JGtI2"
      }
    }
  ]
}